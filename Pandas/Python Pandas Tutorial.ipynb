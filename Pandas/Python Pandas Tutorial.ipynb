{
 "cells": [
  {
   "cell_type": "markdown",
   "metadata": {},
   "source": [
    "<center><h1>Python Pandas Tutorial</h1><center>"
   ]
  },
  {
   "cell_type": "markdown",
   "metadata": {},
   "source": [
    "## Pandas is Python Data Analysis Library\n",
    "\n",
    "pandas is an open source, BSD-licensed(can use for commercial means) library providing high-performance, easy-to-use data structures and data analysis tools for the Python programming language"
   ]
  },
  {
   "cell_type": "markdown",
   "metadata": {},
   "source": [
    "* Widely used\n",
    "* Open Source\n",
    "* Active Development\n",
    "* Great Documentation\n",
    "\n",
    "Home Page: http://pandas.pydata.org/\n",
    "\n",
    "Using Documentation from: http://pandas.pydata.org/pandas-docs/stable/\n",
    "\n",
    "Fantastic Cheat Sheet: http://pandas.pydata.org/Pandas_Cheat_Sheet.pdf\n",
    "\n",
    "Best book by Panda's creator Wes Kinney (2nd Edition 2017): http://shop.oreilly.com/product/0636920050896.do"
   ]
  },
  {
   "cell_type": "code",
   "execution_count": 169,
   "metadata": {},
   "outputs": [],
   "source": [
    "import pandas as pd"
   ]
  },
  {
   "cell_type": "code",
   "execution_count": 170,
   "metadata": {},
   "outputs": [],
   "source": [
    "#pd.reset_option('display.max_rows')\n",
    "pd.options.display.max_rows = 40"
   ]
  },
  {
   "cell_type": "code",
   "execution_count": 171,
   "metadata": {},
   "outputs": [],
   "source": [
    "# Pandas is a big package took a while..."
   ]
  },
  {
   "cell_type": "code",
   "execution_count": 172,
   "metadata": {},
   "outputs": [],
   "source": [
    "import numpy as np # another big library with various numeric functions"
   ]
  },
  {
   "cell_type": "code",
   "execution_count": 173,
   "metadata": {},
   "outputs": [],
   "source": [
    "import matplotlib.pyplot as plt"
   ]
  },
  {
   "cell_type": "markdown",
   "metadata": {},
   "source": [
    "# Panda's two fundamental data structures: Series and DataFrame."
   ]
  },
  {
   "cell_type": "markdown",
   "metadata": {},
   "source": [
    "### Series\n",
    "A Series is a one-dimensional array-like object containing a sequence of values (\n",
    "similar types to NumPy types) and an associated array of data labels - index.\n",
    "Simplest Series is from an array of data."
   ]
  },
  {
   "cell_type": "code",
   "execution_count": 174,
   "metadata": {},
   "outputs": [],
   "source": [
    "# Let's create some Series!"
   ]
  },
  {
   "cell_type": "code",
   "execution_count": 175,
   "metadata": {},
   "outputs": [
    {
     "data": {
      "text/plain": [
       "0    1.0\n",
       "1    4.0\n",
       "2    3.5\n",
       "3    3.0\n",
       "4    NaN\n",
       "5    0.0\n",
       "6   -5.0\n",
       "dtype: float64"
      ]
     },
     "execution_count": 175,
     "metadata": {},
     "output_type": "execute_result"
    }
   ],
   "source": [
    "s = pd.Series([1,4,3.5,3,np.nan,0,-5])\n",
    "s"
   ]
  },
  {
   "cell_type": "code",
   "execution_count": 176,
   "metadata": {},
   "outputs": [
    {
     "data": {
      "text/plain": [
       "0    5.0\n",
       "1    8.0\n",
       "2    7.5\n",
       "3    7.0\n",
       "4    NaN\n",
       "5    4.0\n",
       "6   -1.0\n",
       "dtype: float64"
      ]
     },
     "execution_count": 176,
     "metadata": {},
     "output_type": "execute_result"
    }
   ],
   "source": [
    "s+4"
   ]
  },
  {
   "cell_type": "code",
   "execution_count": 177,
   "metadata": {},
   "outputs": [],
   "source": [
    "# NaN = Not a Number (used for missing numerical values)\n",
    "# https://pandas.pydata.org/pandas-docs/stable/user_guide/missing_data.html"
   ]
  },
  {
   "cell_type": "code",
   "execution_count": 178,
   "metadata": {},
   "outputs": [
    {
     "data": {
      "text/plain": [
       "0     4.0\n",
       "1    16.0\n",
       "2    14.0\n",
       "3    12.0\n",
       "4     NaN\n",
       "5     0.0\n",
       "6   -20.0\n",
       "dtype: float64"
      ]
     },
     "execution_count": 178,
     "metadata": {},
     "output_type": "execute_result"
    }
   ],
   "source": [
    "s2 = s * 4 \n",
    "s2"
   ]
  },
  {
   "cell_type": "code",
   "execution_count": 179,
   "metadata": {},
   "outputs": [
    {
     "data": {
      "text/plain": [
       "0     16.0\n",
       "1    256.0\n",
       "2    196.0\n",
       "3    144.0\n",
       "4      NaN\n",
       "5      0.0\n",
       "6    400.0\n",
       "dtype: float64"
      ]
     },
     "execution_count": 179,
     "metadata": {},
     "output_type": "execute_result"
    }
   ],
   "source": [
    "s2**2"
   ]
  },
  {
   "cell_type": "code",
   "execution_count": 180,
   "metadata": {},
   "outputs": [],
   "source": [
    "### Often you want Series with an index identifying each data point with a label "
   ]
  },
  {
   "cell_type": "code",
   "execution_count": 181,
   "metadata": {},
   "outputs": [
    {
     "data": {
      "text/plain": [
       "d    24\n",
       "e    77\n",
       "a   -35\n",
       "g    31\n",
       "dtype: int64"
      ]
     },
     "execution_count": 181,
     "metadata": {},
     "output_type": "execute_result"
    }
   ],
   "source": [
    "labeledSeries = pd.Series([24, 77, -35, 31], index=['d', 'e', 'a', 'g'])\n",
    "labeledSeries"
   ]
  },
  {
   "cell_type": "code",
   "execution_count": 182,
   "metadata": {},
   "outputs": [],
   "source": [
    "## A  bit similar to dictionary isn't it?\n"
   ]
  },
  {
   "cell_type": "code",
   "execution_count": 183,
   "metadata": {},
   "outputs": [
    {
     "data": {
      "text/plain": [
       "31"
      ]
     },
     "execution_count": 183,
     "metadata": {},
     "output_type": "execute_result"
    }
   ],
   "source": [
    "labeledSeries['g']"
   ]
  },
  {
   "cell_type": "code",
   "execution_count": 184,
   "metadata": {},
   "outputs": [
    {
     "data": {
      "text/plain": [
       "Index(['d', 'e', 'a', 'g'], dtype='object')"
      ]
     },
     "execution_count": 184,
     "metadata": {},
     "output_type": "execute_result"
    }
   ],
   "source": [
    "labeledSeries.index"
   ]
  },
  {
   "cell_type": "code",
   "execution_count": 185,
   "metadata": {},
   "outputs": [
    {
     "data": {
      "text/plain": [
       "array([ 24,  77, -35,  31])"
      ]
     },
     "execution_count": 185,
     "metadata": {},
     "output_type": "execute_result"
    }
   ],
   "source": [
    "labeledSeries.values"
   ]
  },
  {
   "cell_type": "code",
   "execution_count": 186,
   "metadata": {},
   "outputs": [
    {
     "data": {
      "text/plain": [
       "a   -35\n",
       "d    24\n",
       "dtype: int64"
      ]
     },
     "execution_count": 186,
     "metadata": {},
     "output_type": "execute_result"
    }
   ],
   "source": [
    "labeledSeries[['a','d']] # NOTE double list brackets!!"
   ]
  },
  {
   "cell_type": "code",
   "execution_count": 187,
   "metadata": {},
   "outputs": [
    {
     "data": {
      "text/plain": [
       "e    77\n",
       "g    31\n",
       "dtype: int64"
      ]
     },
     "execution_count": 187,
     "metadata": {},
     "output_type": "execute_result"
    }
   ],
   "source": [
    "# select values via a boolean array\n",
    "labeledSeries[labeledSeries > 30]"
   ]
  },
  {
   "cell_type": "code",
   "execution_count": 188,
   "metadata": {},
   "outputs": [],
   "source": [
    "# So Series behaves like a fixed-length, ordered dictionary with extra helper methods"
   ]
  },
  {
   "cell_type": "code",
   "execution_count": 189,
   "metadata": {},
   "outputs": [
    {
     "data": {
      "text/plain": [
       "True"
      ]
     },
     "execution_count": 189,
     "metadata": {},
     "output_type": "execute_result"
    }
   ],
   "source": [
    "'d' in labeledSeries"
   ]
  },
  {
   "cell_type": "markdown",
   "metadata": {},
   "source": [
    "### Can create series from dictionary by simply passing to constructor pd.Series(mydict)"
   ]
  },
  {
   "cell_type": "code",
   "execution_count": 190,
   "metadata": {},
   "outputs": [
    {
     "data": {
      "text/plain": [
       "{'Riga': 650000, 'Tukums': 20000, 'Ogre': 25000, 'Carnikava': 3000}"
      ]
     },
     "execution_count": 190,
     "metadata": {},
     "output_type": "execute_result"
    }
   ],
   "source": [
    "citydict = {'Riga': 650000, 'Tukums':20000, 'Ogre': 25000, 'Carnikava': 3000}\n",
    "citydict"
   ]
  },
  {
   "cell_type": "code",
   "execution_count": 191,
   "metadata": {},
   "outputs": [
    {
     "data": {
      "text/plain": [
       "Riga         650000\n",
       "Tukums        20000\n",
       "Ogre          25000\n",
       "Carnikava      3000\n",
       "dtype: int64"
      ]
     },
     "execution_count": 191,
     "metadata": {},
     "output_type": "execute_result"
    }
   ],
   "source": [
    "cseries = pd.Series(citydict)\n",
    "cseries"
   ]
  },
  {
   "cell_type": "code",
   "execution_count": 192,
   "metadata": {},
   "outputs": [
    {
     "data": {
      "text/plain": [
       "Jurmala            NaN\n",
       "Riga          650000.0\n",
       "Tukums         20000.0\n",
       "Ogre           25000.0\n",
       "Daugavpils         NaN\n",
       "dtype: float64"
      ]
     },
     "execution_count": 192,
     "metadata": {},
     "output_type": "execute_result"
    }
   ],
   "source": [
    "## Overwriting default index\n",
    "clist = ['Jurmala', 'Riga', 'Tukums', 'Ogre', 'Daugavpils']\n",
    "cseries2 = pd.Series(citydict, index = clist)\n",
    "cseries2"
   ]
  },
  {
   "cell_type": "code",
   "execution_count": 193,
   "metadata": {},
   "outputs": [],
   "source": [
    "# notice Carnikava was lost, since our index did not have it!\n",
    "# and order was preserved from the given index list!"
   ]
  },
  {
   "cell_type": "code",
   "execution_count": 194,
   "metadata": {},
   "outputs": [
    {
     "data": {
      "text/plain": [
       "Jurmala        True\n",
       "Riga          False\n",
       "Tukums        False\n",
       "Ogre          False\n",
       "Daugavpils     True\n",
       "dtype: bool"
      ]
     },
     "execution_count": 194,
     "metadata": {},
     "output_type": "execute_result"
    }
   ],
   "source": [
    "# For missing data\n",
    "cseries2.isnull()"
   ]
  },
  {
   "cell_type": "code",
   "execution_count": 195,
   "metadata": {},
   "outputs": [
    {
     "data": {
      "text/plain": [
       "Riga      650000.0\n",
       "Tukums     20000.0\n",
       "Ogre       25000.0\n",
       "dtype: float64"
      ]
     },
     "execution_count": 195,
     "metadata": {},
     "output_type": "execute_result"
    }
   ],
   "source": [
    "cseries2.dropna()"
   ]
  },
  {
   "cell_type": "code",
   "execution_count": 196,
   "metadata": {},
   "outputs": [
    {
     "data": {
      "text/plain": [
       "Jurmala            NaN\n",
       "Riga          650000.0\n",
       "Tukums         20000.0\n",
       "Ogre           25000.0\n",
       "Daugavpils         NaN\n",
       "dtype: float64"
      ]
     },
     "execution_count": 196,
     "metadata": {},
     "output_type": "execute_result"
    }
   ],
   "source": [
    "cseries2"
   ]
  },
  {
   "cell_type": "code",
   "execution_count": 197,
   "metadata": {},
   "outputs": [
    {
     "data": {
      "text/plain": [
       "Carnikava           NaN\n",
       "Daugavpils          NaN\n",
       "Jurmala             NaN\n",
       "Ogre            50000.0\n",
       "Riga          1300000.0\n",
       "Tukums          40000.0\n",
       "dtype: float64"
      ]
     },
     "execution_count": 197,
     "metadata": {},
     "output_type": "execute_result"
    }
   ],
   "source": [
    "cseries3 = cseries + cseries2\n",
    "cseries3"
   ]
  },
  {
   "cell_type": "code",
   "execution_count": 198,
   "metadata": {},
   "outputs": [],
   "source": [
    "# So NaN + number = NaN"
   ]
  },
  {
   "cell_type": "code",
   "execution_count": 199,
   "metadata": {},
   "outputs": [
    {
     "data": {
      "text/plain": [
       "City\n",
       "Riga         650000\n",
       "Tukums        20000\n",
       "Ogre          25000\n",
       "Carnikava      3000\n",
       "Name: Latvian Cities, dtype: int64"
      ]
     },
     "execution_count": 199,
     "metadata": {},
     "output_type": "execute_result"
    }
   ],
   "source": [
    "cseries.name = \"Latvian Cities\"\n",
    "cseries.index.name = \"City\"\n",
    "cseries"
   ]
  },
  {
   "cell_type": "code",
   "execution_count": 200,
   "metadata": {},
   "outputs": [
    {
     "data": {
      "text/plain": [
       "Index(['Riga', 'Tukums', 'Ogre', 'Carnikava'], dtype='object', name='City')"
      ]
     },
     "execution_count": 200,
     "metadata": {},
     "output_type": "execute_result"
    }
   ],
   "source": [
    "cseries.index"
   ]
  },
  {
   "cell_type": "code",
   "execution_count": 201,
   "metadata": {},
   "outputs": [
    {
     "data": {
      "text/plain": [
       "CarnikavaIsNotaCity    650000\n",
       "OgreEatsHumans          20000\n",
       "RigaIsOld               25000\n",
       "TukumsSmukums            3000\n",
       "Name: Latvian Cities, dtype: int64"
      ]
     },
     "execution_count": 201,
     "metadata": {},
     "output_type": "execute_result"
    }
   ],
   "source": [
    "cseries.index = ['CarnikavaIsNotaCity','OgreEatsHumans', 'RigaIsOld', 'TukumsSmukums']\n",
    "cseries"
   ]
  },
  {
   "cell_type": "code",
   "execution_count": 202,
   "metadata": {},
   "outputs": [
    {
     "data": {
      "text/plain": [
       "CarnikavaIsNotaCity    650000\n",
       "OgreEatsHumans          20000\n",
       "RigaIsOld              625000\n",
       "TukumsSmukums            3000\n",
       "Name: Latvian Cities, dtype: int64"
      ]
     },
     "execution_count": 202,
     "metadata": {},
     "output_type": "execute_result"
    }
   ],
   "source": [
    "# Series values are mutable\n",
    "cseries['RigaIsOld']=625000\n",
    "cseries"
   ]
  },
  {
   "cell_type": "code",
   "execution_count": 203,
   "metadata": {
    "tags": [
     "raises-exception"
    ]
   },
   "outputs": [
    {
     "ename": "TypeError",
     "evalue": "Index does not support mutable operations",
     "output_type": "error",
     "traceback": [
      "\u001b[0;31m---------------------------------------------------------------------------\u001b[0m",
      "\u001b[0;31mTypeError\u001b[0m                                 Traceback (most recent call last)",
      "\u001b[0;32m<ipython-input-203-296b17159362>\u001b[0m in \u001b[0;36m<module>\u001b[0;34m\u001b[0m\n\u001b[1;32m      1\u001b[0m \u001b[0;31m# How to rename individual index elements?\u001b[0m\u001b[0;34m\u001b[0m\u001b[0;34m\u001b[0m\u001b[0;34m\u001b[0m\u001b[0m\n\u001b[0;32m----> 2\u001b[0;31m \u001b[0mcseries\u001b[0m\u001b[0;34m.\u001b[0m\u001b[0mindex\u001b[0m\u001b[0;34m[\u001b[0m\u001b[0;36m2\u001b[0m\u001b[0;34m]\u001b[0m\u001b[0;34m=\u001b[0m\u001b[0;34m'RigaIsOldButFantastic'\u001b[0m\u001b[0;34m\u001b[0m\u001b[0;34m\u001b[0m\u001b[0m\n\u001b[0m\u001b[1;32m      3\u001b[0m \u001b[0mcseries\u001b[0m\u001b[0;34m\u001b[0m\u001b[0;34m\u001b[0m\u001b[0m\n",
      "\u001b[0;32m~/Documents/Code/virtual-env/py37-seminar/lib/python3.7/site-packages/pandas/core/indexes/base.py\u001b[0m in \u001b[0;36m__setitem__\u001b[0;34m(self, key, value)\u001b[0m\n\u001b[1;32m   4258\u001b[0m \u001b[0;34m\u001b[0m\u001b[0m\n\u001b[1;32m   4259\u001b[0m     \u001b[0;32mdef\u001b[0m \u001b[0m__setitem__\u001b[0m\u001b[0;34m(\u001b[0m\u001b[0mself\u001b[0m\u001b[0;34m,\u001b[0m \u001b[0mkey\u001b[0m\u001b[0;34m,\u001b[0m \u001b[0mvalue\u001b[0m\u001b[0;34m)\u001b[0m\u001b[0;34m:\u001b[0m\u001b[0;34m\u001b[0m\u001b[0;34m\u001b[0m\u001b[0m\n\u001b[0;32m-> 4260\u001b[0;31m         \u001b[0;32mraise\u001b[0m \u001b[0mTypeError\u001b[0m\u001b[0;34m(\u001b[0m\u001b[0;34m\"Index does not support mutable operations\"\u001b[0m\u001b[0;34m)\u001b[0m\u001b[0;34m\u001b[0m\u001b[0;34m\u001b[0m\u001b[0m\n\u001b[0m\u001b[1;32m   4261\u001b[0m \u001b[0;34m\u001b[0m\u001b[0m\n\u001b[1;32m   4262\u001b[0m     \u001b[0;32mdef\u001b[0m \u001b[0m__getitem__\u001b[0m\u001b[0;34m(\u001b[0m\u001b[0mself\u001b[0m\u001b[0;34m,\u001b[0m \u001b[0mkey\u001b[0m\u001b[0;34m)\u001b[0m\u001b[0;34m:\u001b[0m\u001b[0;34m\u001b[0m\u001b[0;34m\u001b[0m\u001b[0m\n",
      "\u001b[0;31mTypeError\u001b[0m: Index does not support mutable operations"
     ]
    }
   ],
   "source": [
    "# How to rename individual index elements?\n",
    "cseries.index[2]='RigaIsOldButFantastic'\n",
    "cseries"
   ]
  },
  {
   "cell_type": "code",
   "execution_count": 204,
   "metadata": {},
   "outputs": [],
   "source": [
    "# We use Renaming method to rename individual elements"
   ]
  },
  {
   "cell_type": "code",
   "execution_count": 205,
   "metadata": {},
   "outputs": [
    {
     "data": {
      "text/plain": [
       "CarnikavaIsNotaCity    650000\n",
       "OgreEatsHumans          20000\n",
       "RigaRocks              625000\n",
       "TukumsSmukums            3000\n",
       "Name: Latvian Cities, dtype: int64"
      ]
     },
     "execution_count": 205,
     "metadata": {},
     "output_type": "execute_result"
    }
   ],
   "source": [
    "cseries.rename(index={'RigaIsOld':'RigaRocks'})"
   ]
  },
  {
   "cell_type": "code",
   "execution_count": null,
   "metadata": {},
   "outputs": [],
   "source": []
  },
  {
   "cell_type": "markdown",
   "metadata": {},
   "source": [
    "### Integer (Position-based) vs Label-based Indexes\n",
    "\n",
    "Working with pandas objects indexed by integers is something that often trips up\n",
    "new users due to some differences with indexing semantics on built-in Python data\n",
    "structures like lists and tuples. For example, you might not expect the following code\n",
    "to generate an error:\n",
    "\n"
   ]
  },
  {
   "cell_type": "code",
   "execution_count": 206,
   "metadata": {
    "tags": [
     "raises-exception"
    ]
   },
   "outputs": [
    {
     "data": {
      "text/plain": [
       "0    0.0\n",
       "1    1.0\n",
       "2    2.0\n",
       "dtype: float64"
      ]
     },
     "execution_count": 206,
     "metadata": {},
     "output_type": "execute_result"
    }
   ],
   "source": [
    "ser = pd.Series(np.arange(3.))\n",
    "ser"
   ]
  },
  {
   "cell_type": "code",
   "execution_count": 207,
   "metadata": {
    "tags": [
     "raises-exception"
    ]
   },
   "outputs": [
    {
     "ename": "KeyError",
     "evalue": "-1",
     "output_type": "error",
     "traceback": [
      "\u001b[0;31m---------------------------------------------------------------------------\u001b[0m",
      "\u001b[0;31mKeyError\u001b[0m                                  Traceback (most recent call last)",
      "\u001b[0;32m<ipython-input-207-44969a759c20>\u001b[0m in \u001b[0;36m<module>\u001b[0;34m\u001b[0m\n\u001b[0;32m----> 1\u001b[0;31m \u001b[0mser\u001b[0m\u001b[0;34m[\u001b[0m\u001b[0;34m-\u001b[0m\u001b[0;36m1\u001b[0m\u001b[0;34m]\u001b[0m\u001b[0;34m\u001b[0m\u001b[0;34m\u001b[0m\u001b[0m\n\u001b[0m",
      "\u001b[0;32m~/Documents/Code/virtual-env/py37-seminar/lib/python3.7/site-packages/pandas/core/series.py\u001b[0m in \u001b[0;36m__getitem__\u001b[0;34m(self, key)\u001b[0m\n\u001b[1;32m   1069\u001b[0m         \u001b[0mkey\u001b[0m \u001b[0;34m=\u001b[0m \u001b[0mcom\u001b[0m\u001b[0;34m.\u001b[0m\u001b[0mapply_if_callable\u001b[0m\u001b[0;34m(\u001b[0m\u001b[0mkey\u001b[0m\u001b[0;34m,\u001b[0m \u001b[0mself\u001b[0m\u001b[0;34m)\u001b[0m\u001b[0;34m\u001b[0m\u001b[0;34m\u001b[0m\u001b[0m\n\u001b[1;32m   1070\u001b[0m         \u001b[0;32mtry\u001b[0m\u001b[0;34m:\u001b[0m\u001b[0;34m\u001b[0m\u001b[0;34m\u001b[0m\u001b[0m\n\u001b[0;32m-> 1071\u001b[0;31m             \u001b[0mresult\u001b[0m \u001b[0;34m=\u001b[0m \u001b[0mself\u001b[0m\u001b[0;34m.\u001b[0m\u001b[0mindex\u001b[0m\u001b[0;34m.\u001b[0m\u001b[0mget_value\u001b[0m\u001b[0;34m(\u001b[0m\u001b[0mself\u001b[0m\u001b[0;34m,\u001b[0m \u001b[0mkey\u001b[0m\u001b[0;34m)\u001b[0m\u001b[0;34m\u001b[0m\u001b[0;34m\u001b[0m\u001b[0m\n\u001b[0m\u001b[1;32m   1072\u001b[0m \u001b[0;34m\u001b[0m\u001b[0m\n\u001b[1;32m   1073\u001b[0m             \u001b[0;32mif\u001b[0m \u001b[0;32mnot\u001b[0m \u001b[0mis_scalar\u001b[0m\u001b[0;34m(\u001b[0m\u001b[0mresult\u001b[0m\u001b[0;34m)\u001b[0m\u001b[0;34m:\u001b[0m\u001b[0;34m\u001b[0m\u001b[0;34m\u001b[0m\u001b[0m\n",
      "\u001b[0;32m~/Documents/Code/virtual-env/py37-seminar/lib/python3.7/site-packages/pandas/core/indexes/base.py\u001b[0m in \u001b[0;36mget_value\u001b[0;34m(self, series, key)\u001b[0m\n\u001b[1;32m   4728\u001b[0m         \u001b[0mk\u001b[0m \u001b[0;34m=\u001b[0m \u001b[0mself\u001b[0m\u001b[0;34m.\u001b[0m\u001b[0m_convert_scalar_indexer\u001b[0m\u001b[0;34m(\u001b[0m\u001b[0mk\u001b[0m\u001b[0;34m,\u001b[0m \u001b[0mkind\u001b[0m\u001b[0;34m=\u001b[0m\u001b[0;34m\"getitem\"\u001b[0m\u001b[0;34m)\u001b[0m\u001b[0;34m\u001b[0m\u001b[0;34m\u001b[0m\u001b[0m\n\u001b[1;32m   4729\u001b[0m         \u001b[0;32mtry\u001b[0m\u001b[0;34m:\u001b[0m\u001b[0;34m\u001b[0m\u001b[0;34m\u001b[0m\u001b[0m\n\u001b[0;32m-> 4730\u001b[0;31m             \u001b[0;32mreturn\u001b[0m \u001b[0mself\u001b[0m\u001b[0;34m.\u001b[0m\u001b[0m_engine\u001b[0m\u001b[0;34m.\u001b[0m\u001b[0mget_value\u001b[0m\u001b[0;34m(\u001b[0m\u001b[0ms\u001b[0m\u001b[0;34m,\u001b[0m \u001b[0mk\u001b[0m\u001b[0;34m,\u001b[0m \u001b[0mtz\u001b[0m\u001b[0;34m=\u001b[0m\u001b[0mgetattr\u001b[0m\u001b[0;34m(\u001b[0m\u001b[0mseries\u001b[0m\u001b[0;34m.\u001b[0m\u001b[0mdtype\u001b[0m\u001b[0;34m,\u001b[0m \u001b[0;34m\"tz\"\u001b[0m\u001b[0;34m,\u001b[0m \u001b[0;32mNone\u001b[0m\u001b[0;34m)\u001b[0m\u001b[0;34m)\u001b[0m\u001b[0;34m\u001b[0m\u001b[0;34m\u001b[0m\u001b[0m\n\u001b[0m\u001b[1;32m   4731\u001b[0m         \u001b[0;32mexcept\u001b[0m \u001b[0mKeyError\u001b[0m \u001b[0;32mas\u001b[0m \u001b[0me1\u001b[0m\u001b[0;34m:\u001b[0m\u001b[0;34m\u001b[0m\u001b[0;34m\u001b[0m\u001b[0m\n\u001b[1;32m   4732\u001b[0m             \u001b[0;32mif\u001b[0m \u001b[0mlen\u001b[0m\u001b[0;34m(\u001b[0m\u001b[0mself\u001b[0m\u001b[0;34m)\u001b[0m \u001b[0;34m>\u001b[0m \u001b[0;36m0\u001b[0m \u001b[0;32mand\u001b[0m \u001b[0;34m(\u001b[0m\u001b[0mself\u001b[0m\u001b[0;34m.\u001b[0m\u001b[0mholds_integer\u001b[0m\u001b[0;34m(\u001b[0m\u001b[0;34m)\u001b[0m \u001b[0;32mor\u001b[0m \u001b[0mself\u001b[0m\u001b[0;34m.\u001b[0m\u001b[0mis_boolean\u001b[0m\u001b[0;34m(\u001b[0m\u001b[0;34m)\u001b[0m\u001b[0;34m)\u001b[0m\u001b[0;34m:\u001b[0m\u001b[0;34m\u001b[0m\u001b[0;34m\u001b[0m\u001b[0m\n",
      "\u001b[0;32mpandas/_libs/index.pyx\u001b[0m in \u001b[0;36mpandas._libs.index.IndexEngine.get_value\u001b[0;34m()\u001b[0m\n",
      "\u001b[0;32mpandas/_libs/index.pyx\u001b[0m in \u001b[0;36mpandas._libs.index.IndexEngine.get_value\u001b[0;34m()\u001b[0m\n",
      "\u001b[0;32mpandas/_libs/index.pyx\u001b[0m in \u001b[0;36mpandas._libs.index.IndexEngine.get_loc\u001b[0;34m()\u001b[0m\n",
      "\u001b[0;32mpandas/_libs/hashtable_class_helper.pxi\u001b[0m in \u001b[0;36mpandas._libs.hashtable.Int64HashTable.get_item\u001b[0;34m()\u001b[0m\n",
      "\u001b[0;32mpandas/_libs/hashtable_class_helper.pxi\u001b[0m in \u001b[0;36mpandas._libs.hashtable.Int64HashTable.get_item\u001b[0;34m()\u001b[0m\n",
      "\u001b[0;31mKeyError\u001b[0m: -1"
     ]
    }
   ],
   "source": [
    "ser[-1]"
   ]
  },
  {
   "cell_type": "markdown",
   "metadata": {},
   "source": [
    "In this case, pandas could “fall back” on integer indexing, but it’s difficult to do this in\n",
    "general without introducing subtle bugs. \n",
    "\n",
    "Here we have an index containing 0, 1, 2,\n",
    "but inferring what the user wants (label-based indexing or position-based) is difficult:\n"
   ]
  },
  {
   "cell_type": "code",
   "execution_count": 208,
   "metadata": {},
   "outputs": [
    {
     "data": {
      "text/plain": [
       "0    0.0\n",
       "1    1.0\n",
       "2    2.0\n",
       "dtype: float64"
      ]
     },
     "execution_count": 208,
     "metadata": {},
     "output_type": "execute_result"
    }
   ],
   "source": [
    "ser"
   ]
  },
  {
   "cell_type": "code",
   "execution_count": 209,
   "metadata": {},
   "outputs": [],
   "source": [
    "## With a non-integer index there is no potential for ambiguity:"
   ]
  },
  {
   "cell_type": "code",
   "execution_count": 210,
   "metadata": {},
   "outputs": [
    {
     "data": {
      "text/plain": [
       "2.0"
      ]
     },
     "execution_count": 210,
     "metadata": {},
     "output_type": "execute_result"
    }
   ],
   "source": [
    "ser2 = pd.Series(np.arange(3.), index=['a', 'b', 'c'])\n",
    "ser2[-1]"
   ]
  },
  {
   "cell_type": "code",
   "execution_count": 211,
   "metadata": {
    "scrolled": true
   },
   "outputs": [
    {
     "data": {
      "text/plain": [
       "c    2.0\n",
       "b    1.0\n",
       "a    0.0\n",
       "dtype: float64"
      ]
     },
     "execution_count": 211,
     "metadata": {},
     "output_type": "execute_result"
    }
   ],
   "source": [
    "ser2[::-1]"
   ]
  },
  {
   "cell_type": "code",
   "execution_count": 212,
   "metadata": {},
   "outputs": [],
   "source": [
    "## To keep things consistent, if you have an axis index containing integers, data selection\n",
    "##will always be label-oriented. \n",
    "\n",
    "# For more precise handling, use loc (for labels) or iloc (for integers):"
   ]
  },
  {
   "cell_type": "code",
   "execution_count": 213,
   "metadata": {},
   "outputs": [
    {
     "data": {
      "text/plain": [
       "1.0"
      ]
     },
     "execution_count": 213,
     "metadata": {},
     "output_type": "execute_result"
    }
   ],
   "source": [
    "ser2.loc['b']"
   ]
  },
  {
   "cell_type": "code",
   "execution_count": 214,
   "metadata": {},
   "outputs": [
    {
     "data": {
      "text/plain": [
       "0    0.0\n",
       "1    1.0\n",
       "dtype: float64"
      ]
     },
     "execution_count": 214,
     "metadata": {},
     "output_type": "execute_result"
    }
   ],
   "source": [
    "# Note: label indexing includes the endpoint, integer indexing does not\n",
    "ser.loc[:1]"
   ]
  },
  {
   "cell_type": "code",
   "execution_count": 215,
   "metadata": {
    "scrolled": true
   },
   "outputs": [
    {
     "data": {
      "text/plain": [
       "0    0.0\n",
       "dtype: float64"
      ]
     },
     "execution_count": 215,
     "metadata": {},
     "output_type": "execute_result"
    }
   ],
   "source": [
    "ser.iloc[:1]"
   ]
  },
  {
   "cell_type": "markdown",
   "metadata": {},
   "source": [
    "* loc gets rows (or columns) with particular labels from the index.\n",
    "\n",
    "* iloc gets rows (or columns) at particular positions in the index (so it only takes integers)."
   ]
  },
  {
   "cell_type": "markdown",
   "metadata": {},
   "source": [
    "# Date Range creation\n",
    "\n",
    "Date ranges are used as indexes for time series data:\n",
    "* https://pandas.pydata.org/pandas-docs/stable/getting_started/10min.html#time-series"
   ]
  },
  {
   "cell_type": "code",
   "execution_count": 216,
   "metadata": {},
   "outputs": [
    {
     "data": {
      "text/plain": [
       "DatetimeIndex(['2018-05-21', '2018-05-22', '2018-05-23', '2018-05-24',\n",
       "               '2018-05-25', '2018-05-26', '2018-05-27', '2018-05-28',\n",
       "               '2018-05-29', '2018-05-30', '2018-05-31', '2018-06-01',\n",
       "               '2018-06-02', '2018-06-03', '2018-06-04'],\n",
       "              dtype='datetime64[ns]', freq='D')"
      ]
     },
     "execution_count": 216,
     "metadata": {},
     "output_type": "execute_result"
    }
   ],
   "source": [
    "dates = pd.date_range('20180521', periods=15)\n",
    "dates"
   ]
  },
  {
   "cell_type": "code",
   "execution_count": 217,
   "metadata": {},
   "outputs": [
    {
     "data": {
      "text/plain": [
       "DatetimeIndex(['2020-04-19', '2020-04-26', '2020-05-03', '2020-05-10',\n",
       "               '2020-05-17', '2020-05-24', '2020-05-31', '2020-06-07',\n",
       "               '2020-06-14', '2020-06-21', '2020-06-28', '2020-07-05',\n",
       "               '2020-07-12', '2020-07-19', '2020-07-26'],\n",
       "              dtype='datetime64[ns]', freq='W-SUN')"
      ]
     },
     "execution_count": 217,
     "metadata": {},
     "output_type": "execute_result"
    }
   ],
   "source": [
    "pd.date_range('20200416', periods=15, freq=\"W\")"
   ]
  },
  {
   "cell_type": "code",
   "execution_count": 218,
   "metadata": {},
   "outputs": [
    {
     "data": {
      "text/plain": [
       "DatetimeIndex(['2020-04-16', '2020-04-23', '2020-04-30', '2020-05-07',\n",
       "               '2020-05-14', '2020-05-21', '2020-05-28'],\n",
       "              dtype='datetime64[ns]', freq='W-THU')"
      ]
     },
     "execution_count": 218,
     "metadata": {},
     "output_type": "execute_result"
    }
   ],
   "source": [
    "pd.date_range('20200416', periods=7, freq=\"W-THU\")"
   ]
  },
  {
   "cell_type": "code",
   "execution_count": 219,
   "metadata": {},
   "outputs": [],
   "source": [
    "# more on data_range frequency here\n",
    "# https://stackoverflow.com/questions/35339139/where-is-the-documentation-on-pandas-freq-tags"
   ]
  },
  {
   "cell_type": "code",
   "execution_count": 220,
   "metadata": {},
   "outputs": [
    {
     "data": {
      "text/plain": [
       "datetime.date(2020, 4, 16)"
      ]
     },
     "execution_count": 220,
     "metadata": {},
     "output_type": "execute_result"
    }
   ],
   "source": [
    "# Datetime is in the standard library (so all Python installations will have it)\n",
    "from datetime import date\n",
    "date.today()"
   ]
  },
  {
   "cell_type": "code",
   "execution_count": 221,
   "metadata": {},
   "outputs": [
    {
     "data": {
      "text/plain": [
       "DatetimeIndex(['2020-05-01', '2020-06-01', '2020-07-01', '2020-08-03',\n",
       "               '2020-09-01', '2020-10-01', '2020-11-02', '2020-12-01',\n",
       "               '2021-01-01', '2021-02-01'],\n",
       "              dtype='datetime64[ns]', freq='BMS')"
      ]
     },
     "execution_count": 221,
     "metadata": {},
     "output_type": "execute_result"
    }
   ],
   "source": [
    "# We can get a data range starting from today\n",
    "months = pd.date_range(date.today().strftime(\"%Y-%m-%d\"), periods = 10, freq='BMS')\n",
    "months"
   ]
  },
  {
   "cell_type": "markdown",
   "metadata": {},
   "source": [
    "## Reading data files"
   ]
  },
  {
   "cell_type": "code",
   "execution_count": 222,
   "metadata": {},
   "outputs": [
    {
     "data": {
      "text/html": [
       "<div>\n",
       "<style scoped>\n",
       "    .dataframe tbody tr th:only-of-type {\n",
       "        vertical-align: middle;\n",
       "    }\n",
       "\n",
       "    .dataframe tbody tr th {\n",
       "        vertical-align: top;\n",
       "    }\n",
       "\n",
       "    .dataframe thead th {\n",
       "        text-align: right;\n",
       "    }\n",
       "</style>\n",
       "<table border=\"1\" class=\"dataframe\">\n",
       "  <thead>\n",
       "    <tr style=\"text-align: right;\">\n",
       "      <th></th>\n",
       "      <th>2018 Iedzīvotāju skaits gada sākumā</th>\n",
       "    </tr>\n",
       "    <tr>\n",
       "      <th>Teritoriālā vienība</th>\n",
       "      <th></th>\n",
       "    </tr>\n",
       "  </thead>\n",
       "  <tbody>\n",
       "    <tr>\n",
       "      <th>Rīga</th>\n",
       "      <td>637971</td>\n",
       "    </tr>\n",
       "    <tr>\n",
       "      <th>Daugavpils</th>\n",
       "      <td>83250</td>\n",
       "    </tr>\n",
       "    <tr>\n",
       "      <th>Jelgava</th>\n",
       "      <td>56383</td>\n",
       "    </tr>\n",
       "    <tr>\n",
       "      <th>Jēkabpils</th>\n",
       "      <td>22188</td>\n",
       "    </tr>\n",
       "    <tr>\n",
       "      <th>Jūrmala</th>\n",
       "      <td>49073</td>\n",
       "    </tr>\n",
       "  </tbody>\n",
       "</table>\n",
       "</div>"
      ],
      "text/plain": [
       "                     2018 Iedzīvotāju skaits gada sākumā\n",
       "Teritoriālā vienība                                     \n",
       "Rīga                                              637971\n",
       "Daugavpils                                         83250\n",
       "Jelgava                                            56383\n",
       "Jēkabpils                                          22188\n",
       "Jūrmala                                            49073"
      ]
     },
     "execution_count": 222,
     "metadata": {},
     "output_type": "execute_result"
    }
   ],
   "source": [
    "city_data = pd.read_csv(\"data/iedz_skaits_2018.csv\", index_col=0)\n",
    "city_data.head()"
   ]
  },
  {
   "cell_type": "code",
   "execution_count": 223,
   "metadata": {},
   "outputs": [
    {
     "data": {
      "text/plain": [
       "pandas.core.frame.DataFrame"
      ]
     },
     "execution_count": 223,
     "metadata": {},
     "output_type": "execute_result"
    }
   ],
   "source": [
    "type(city_data)"
   ]
  },
  {
   "cell_type": "code",
   "execution_count": 224,
   "metadata": {},
   "outputs": [
    {
     "data": {
      "text/plain": [
       "pandas.core.series.Series"
      ]
     },
     "execution_count": 224,
     "metadata": {},
     "output_type": "execute_result"
    }
   ],
   "source": [
    "city_series = city_data.squeeze()\n",
    "type(city_series)"
   ]
  },
  {
   "cell_type": "code",
   "execution_count": 225,
   "metadata": {},
   "outputs": [
    {
     "data": {
      "text/plain": [
       "Teritoriālā vienība\n",
       "Rīga          637971\n",
       "Daugavpils     83250\n",
       "Jelgava        56383\n",
       "Jēkabpils      22188\n",
       "Jūrmala        49073\n",
       "Name: 2018 Iedzīvotāju skaits gada sākumā, dtype: int64"
      ]
     },
     "execution_count": 225,
     "metadata": {},
     "output_type": "execute_result"
    }
   ],
   "source": [
    "city_series.head()"
   ]
  },
  {
   "cell_type": "code",
   "execution_count": 226,
   "metadata": {},
   "outputs": [
    {
     "data": {
      "text/plain": [
       "18071"
      ]
     },
     "execution_count": 226,
     "metadata": {},
     "output_type": "execute_result"
    }
   ],
   "source": [
    "city_series[\"Salaspils\"]"
   ]
  },
  {
   "cell_type": "code",
   "execution_count": 227,
   "metadata": {},
   "outputs": [
    {
     "data": {
      "text/plain": [
       "2254964"
      ]
     },
     "execution_count": 227,
     "metadata": {},
     "output_type": "execute_result"
    }
   ],
   "source": [
    "city_series.sum()"
   ]
  },
  {
   "cell_type": "code",
   "execution_count": 228,
   "metadata": {},
   "outputs": [
    {
     "data": {
      "text/plain": [
       "count       186.000000\n",
       "mean      12123.462366\n",
       "std       47444.415575\n",
       "min         503.000000\n",
       "25%        2660.750000\n",
       "50%        5238.500000\n",
       "75%        9831.750000\n",
       "max      637971.000000\n",
       "Name: 2018 Iedzīvotāju skaits gada sākumā, dtype: float64"
      ]
     },
     "execution_count": 228,
     "metadata": {},
     "output_type": "execute_result"
    }
   ],
   "source": [
    "city_series.describe()"
   ]
  },
  {
   "cell_type": "code",
   "execution_count": 229,
   "metadata": {},
   "outputs": [
    {
     "data": {
      "text/plain": [
       "Teritoriālā vienība\n",
       "Staicele     877\n",
       "Ape          850\n",
       "Durbe        503\n",
       "Subate       635\n",
       "Līgatne      994\n",
       "Pāvilosta    894\n",
       "Ainaži       689\n",
       "Piltene      903\n",
       "Name: 2018 Iedzīvotāju skaits gada sākumā, dtype: int64"
      ]
     },
     "execution_count": 229,
     "metadata": {},
     "output_type": "execute_result"
    }
   ],
   "source": [
    "city_series[city_series < 1000]"
   ]
  },
  {
   "cell_type": "code",
   "execution_count": 344,
   "metadata": {},
   "outputs": [
    {
     "data": {
      "text/plain": [
       "Teritoriālā vienība\n",
       "Salacgrīva              False\n",
       "Cēsu novads             False\n",
       "Līgatne                  True\n",
       "Mazsalacas novads       False\n",
       "Dagdas novads           False\n",
       "Jaunpiebalgas novads    False\n",
       "Krustpils novads        False\n",
       "Krāslava                False\n",
       "Beverīnas novads        False\n",
       "Alojas novads           False\n",
       "Stopiņu novads          False\n",
       "Rundāles novads         False\n",
       "Ventspils novads        False\n",
       "Pļaviņas                False\n",
       "Jelgavas novads         False\n",
       "Preiļi                  False\n",
       "Sabile                  False\n",
       "Kandavas novads         False\n",
       "Priekules novads        False\n",
       "Sējas novads            False\n",
       "Name: 2018 Iedzīvotāju skaits gada sākumā, dtype: bool"
      ]
     },
     "execution_count": 344,
     "metadata": {},
     "output_type": "execute_result"
    }
   ],
   "source": [
    "bitmap = city_series < 1000\n",
    "bitmap.sample(20)   # kādēļ sample() nevis head()"
   ]
  },
  {
   "cell_type": "code",
   "execution_count": 348,
   "metadata": {},
   "outputs": [
    {
     "data": {
      "text/plain": [
       "Teritoriālā vienība\n",
       "Ainaži       689\n",
       "Ape          850\n",
       "Durbe        503\n",
       "Līgatne      994\n",
       "Piltene      903\n",
       "Pāvilosta    894\n",
       "Staicele     877\n",
       "Subate       635\n",
       "Name: 2018 Iedzīvotāju skaits gada sākumā, dtype: int64"
      ]
     },
     "execution_count": 348,
     "metadata": {},
     "output_type": "execute_result"
    }
   ],
   "source": [
    "city_series[bitmap].sort_index()"
   ]
  },
  {
   "cell_type": "markdown",
   "metadata": {},
   "source": [
    "## DataFrame\n",
    "\n",
    "A DataFrame represents a rectangular table of data and contains an ordered collection of columns. \n",
    "\n",
    "Each column can be a different value type (numeric, string,\n",
    "boolean, etc.). \n",
    "\n",
    "The DataFrame has both a row and column index;\n",
    "\n",
    "Think of it \n",
    "as an ordered dict of Series all sharing the same row index. \n",
    "\n",
    "Underneath data is stored as one or more two-dimensional blocks (similar to ndarray) \n",
    "rather than a list, dict, or some other collection of\n",
    "one-dimensional arrays."
   ]
  },
  {
   "cell_type": "code",
   "execution_count": 232,
   "metadata": {},
   "outputs": [],
   "source": [
    "# Many ways of Data Frame creation\n",
    "# One Common way is common is\n",
    "# from a dict of equal-length lists or NumPy arrays"
   ]
  },
  {
   "cell_type": "code",
   "execution_count": 233,
   "metadata": {},
   "outputs": [
    {
     "data": {
      "text/html": [
       "<div>\n",
       "<style scoped>\n",
       "    .dataframe tbody tr th:only-of-type {\n",
       "        vertical-align: middle;\n",
       "    }\n",
       "\n",
       "    .dataframe tbody tr th {\n",
       "        vertical-align: top;\n",
       "    }\n",
       "\n",
       "    .dataframe thead th {\n",
       "        text-align: right;\n",
       "    }\n",
       "</style>\n",
       "<table border=\"1\" class=\"dataframe\">\n",
       "  <thead>\n",
       "    <tr style=\"text-align: right;\">\n",
       "      <th></th>\n",
       "      <th>city</th>\n",
       "      <th>year</th>\n",
       "      <th>popul</th>\n",
       "    </tr>\n",
       "  </thead>\n",
       "  <tbody>\n",
       "    <tr>\n",
       "      <th>0</th>\n",
       "      <td>Riga</td>\n",
       "      <td>1990</td>\n",
       "      <td>0.90</td>\n",
       "    </tr>\n",
       "    <tr>\n",
       "      <th>1</th>\n",
       "      <td>Riga</td>\n",
       "      <td>2000</td>\n",
       "      <td>0.75</td>\n",
       "    </tr>\n",
       "    <tr>\n",
       "      <th>2</th>\n",
       "      <td>Riga</td>\n",
       "      <td>2018</td>\n",
       "      <td>0.62</td>\n",
       "    </tr>\n",
       "    <tr>\n",
       "      <th>3</th>\n",
       "      <td>Jurmala</td>\n",
       "      <td>2001</td>\n",
       "      <td>0.09</td>\n",
       "    </tr>\n",
       "    <tr>\n",
       "      <th>4</th>\n",
       "      <td>Jurmala</td>\n",
       "      <td>2002</td>\n",
       "      <td>0.08</td>\n",
       "    </tr>\n",
       "    <tr>\n",
       "      <th>5</th>\n",
       "      <td>Jurmala</td>\n",
       "      <td>2003</td>\n",
       "      <td>0.06</td>\n",
       "    </tr>\n",
       "  </tbody>\n",
       "</table>\n",
       "</div>"
      ],
      "text/plain": [
       "      city  year  popul\n",
       "0     Riga  1990   0.90\n",
       "1     Riga  2000   0.75\n",
       "2     Riga  2018   0.62\n",
       "3  Jurmala  2001   0.09\n",
       "4  Jurmala  2002   0.08\n",
       "5  Jurmala  2003   0.06"
      ]
     },
     "execution_count": 233,
     "metadata": {},
     "output_type": "execute_result"
    }
   ],
   "source": [
    "data = {'city': ['Riga', 'Riga', 'Riga', 'Jurmala', 'Jurmala', 'Jurmala'],\n",
    "        'year': [1990, 2000, 2018, 2001, 2002, 2003],\n",
    "        'popul': [0.9, 0.75, 0.62, 0.09, 0.08, 0.06]}\n",
    "\n",
    "df = pd.DataFrame(data)\n",
    "df"
   ]
  },
  {
   "cell_type": "code",
   "execution_count": 234,
   "metadata": {},
   "outputs": [
    {
     "data": {
      "text/html": [
       "<div>\n",
       "<style scoped>\n",
       "    .dataframe tbody tr th:only-of-type {\n",
       "        vertical-align: middle;\n",
       "    }\n",
       "\n",
       "    .dataframe tbody tr th {\n",
       "        vertical-align: top;\n",
       "    }\n",
       "\n",
       "    .dataframe thead th {\n",
       "        text-align: right;\n",
       "    }\n",
       "</style>\n",
       "<table border=\"1\" class=\"dataframe\">\n",
       "  <thead>\n",
       "    <tr style=\"text-align: right;\">\n",
       "      <th></th>\n",
       "      <th>year</th>\n",
       "      <th>city</th>\n",
       "      <th>popul</th>\n",
       "      <th>budget</th>\n",
       "    </tr>\n",
       "  </thead>\n",
       "  <tbody>\n",
       "    <tr>\n",
       "      <th>0</th>\n",
       "      <td>1990</td>\n",
       "      <td>Riga</td>\n",
       "      <td>0.90</td>\n",
       "      <td>NaN</td>\n",
       "    </tr>\n",
       "    <tr>\n",
       "      <th>1</th>\n",
       "      <td>2000</td>\n",
       "      <td>Riga</td>\n",
       "      <td>0.75</td>\n",
       "      <td>NaN</td>\n",
       "    </tr>\n",
       "    <tr>\n",
       "      <th>2</th>\n",
       "      <td>2018</td>\n",
       "      <td>Riga</td>\n",
       "      <td>0.62</td>\n",
       "      <td>NaN</td>\n",
       "    </tr>\n",
       "    <tr>\n",
       "      <th>3</th>\n",
       "      <td>2001</td>\n",
       "      <td>Jurmala</td>\n",
       "      <td>0.09</td>\n",
       "      <td>NaN</td>\n",
       "    </tr>\n",
       "    <tr>\n",
       "      <th>4</th>\n",
       "      <td>2002</td>\n",
       "      <td>Jurmala</td>\n",
       "      <td>0.08</td>\n",
       "      <td>NaN</td>\n",
       "    </tr>\n",
       "    <tr>\n",
       "      <th>5</th>\n",
       "      <td>2003</td>\n",
       "      <td>Jurmala</td>\n",
       "      <td>0.06</td>\n",
       "      <td>NaN</td>\n",
       "    </tr>\n",
       "  </tbody>\n",
       "</table>\n",
       "</div>"
      ],
      "text/plain": [
       "   year     city  popul budget\n",
       "0  1990     Riga   0.90    NaN\n",
       "1  2000     Riga   0.75    NaN\n",
       "2  2018     Riga   0.62    NaN\n",
       "3  2001  Jurmala   0.09    NaN\n",
       "4  2002  Jurmala   0.08    NaN\n",
       "5  2003  Jurmala   0.06    NaN"
      ]
     },
     "execution_count": 234,
     "metadata": {},
     "output_type": "execute_result"
    }
   ],
   "source": [
    "df2 = pd.DataFrame(data, columns=['year','city', 'popul','budget'])\n",
    "df2"
   ]
  },
  {
   "cell_type": "code",
   "execution_count": 235,
   "metadata": {},
   "outputs": [],
   "source": [
    "# missing column simply given Nans"
   ]
  },
  {
   "cell_type": "code",
   "execution_count": 236,
   "metadata": {},
   "outputs": [
    {
     "data": {
      "text/html": [
       "<div>\n",
       "<style scoped>\n",
       "    .dataframe tbody tr th:only-of-type {\n",
       "        vertical-align: middle;\n",
       "    }\n",
       "\n",
       "    .dataframe tbody tr th {\n",
       "        vertical-align: top;\n",
       "    }\n",
       "\n",
       "    .dataframe thead th {\n",
       "        text-align: right;\n",
       "    }\n",
       "</style>\n",
       "<table border=\"1\" class=\"dataframe\">\n",
       "  <thead>\n",
       "    <tr style=\"text-align: right;\">\n",
       "      <th></th>\n",
       "      <th>year</th>\n",
       "      <th>city</th>\n",
       "      <th>popul</th>\n",
       "      <th>budget</th>\n",
       "    </tr>\n",
       "  </thead>\n",
       "  <tbody>\n",
       "    <tr>\n",
       "      <th>0</th>\n",
       "      <td>1990</td>\n",
       "      <td>Riga</td>\n",
       "      <td>0.90</td>\n",
       "      <td>300000000</td>\n",
       "    </tr>\n",
       "    <tr>\n",
       "      <th>1</th>\n",
       "      <td>2000</td>\n",
       "      <td>Riga</td>\n",
       "      <td>0.75</td>\n",
       "      <td>300000000</td>\n",
       "    </tr>\n",
       "    <tr>\n",
       "      <th>2</th>\n",
       "      <td>2018</td>\n",
       "      <td>Riga</td>\n",
       "      <td>0.62</td>\n",
       "      <td>300000000</td>\n",
       "    </tr>\n",
       "    <tr>\n",
       "      <th>3</th>\n",
       "      <td>2001</td>\n",
       "      <td>Jurmala</td>\n",
       "      <td>0.09</td>\n",
       "      <td>300000000</td>\n",
       "    </tr>\n",
       "    <tr>\n",
       "      <th>4</th>\n",
       "      <td>2002</td>\n",
       "      <td>Jurmala</td>\n",
       "      <td>0.08</td>\n",
       "      <td>300000000</td>\n",
       "    </tr>\n",
       "    <tr>\n",
       "      <th>5</th>\n",
       "      <td>2003</td>\n",
       "      <td>Jurmala</td>\n",
       "      <td>0.06</td>\n",
       "      <td>300000000</td>\n",
       "    </tr>\n",
       "  </tbody>\n",
       "</table>\n",
       "</div>"
      ],
      "text/plain": [
       "   year     city  popul     budget\n",
       "0  1990     Riga   0.90  300000000\n",
       "1  2000     Riga   0.75  300000000\n",
       "2  2018     Riga   0.62  300000000\n",
       "3  2001  Jurmala   0.09  300000000\n",
       "4  2002  Jurmala   0.08  300000000\n",
       "5  2003  Jurmala   0.06  300000000"
      ]
     },
     "execution_count": 236,
     "metadata": {},
     "output_type": "execute_result"
    }
   ],
   "source": [
    "df2['budget']=300000000\n",
    "df2"
   ]
  },
  {
   "cell_type": "code",
   "execution_count": 237,
   "metadata": {},
   "outputs": [
    {
     "data": {
      "text/html": [
       "<div>\n",
       "<style scoped>\n",
       "    .dataframe tbody tr th:only-of-type {\n",
       "        vertical-align: middle;\n",
       "    }\n",
       "\n",
       "    .dataframe tbody tr th {\n",
       "        vertical-align: top;\n",
       "    }\n",
       "\n",
       "    .dataframe thead th {\n",
       "        text-align: right;\n",
       "    }\n",
       "</style>\n",
       "<table border=\"1\" class=\"dataframe\">\n",
       "  <thead>\n",
       "    <tr style=\"text-align: right;\">\n",
       "      <th></th>\n",
       "      <th>year</th>\n",
       "      <th>city</th>\n",
       "      <th>popul</th>\n",
       "      <th>budget</th>\n",
       "    </tr>\n",
       "  </thead>\n",
       "  <tbody>\n",
       "    <tr>\n",
       "      <th>0</th>\n",
       "      <td>1990</td>\n",
       "      <td>Riga</td>\n",
       "      <td>0.90</td>\n",
       "      <td>300000</td>\n",
       "    </tr>\n",
       "    <tr>\n",
       "      <th>1</th>\n",
       "      <td>2000</td>\n",
       "      <td>Riga</td>\n",
       "      <td>0.75</td>\n",
       "      <td>250000</td>\n",
       "    </tr>\n",
       "    <tr>\n",
       "      <th>2</th>\n",
       "      <td>2018</td>\n",
       "      <td>Riga</td>\n",
       "      <td>0.62</td>\n",
       "      <td>400000</td>\n",
       "    </tr>\n",
       "    <tr>\n",
       "      <th>3</th>\n",
       "      <td>2001</td>\n",
       "      <td>Jurmala</td>\n",
       "      <td>0.09</td>\n",
       "      <td>200000</td>\n",
       "    </tr>\n",
       "    <tr>\n",
       "      <th>4</th>\n",
       "      <td>2002</td>\n",
       "      <td>Jurmala</td>\n",
       "      <td>0.08</td>\n",
       "      <td>250000</td>\n",
       "    </tr>\n",
       "    <tr>\n",
       "      <th>5</th>\n",
       "      <td>2003</td>\n",
       "      <td>Jurmala</td>\n",
       "      <td>0.06</td>\n",
       "      <td>200000</td>\n",
       "    </tr>\n",
       "  </tbody>\n",
       "</table>\n",
       "</div>"
      ],
      "text/plain": [
       "   year     city  popul  budget\n",
       "0  1990     Riga   0.90  300000\n",
       "1  2000     Riga   0.75  250000\n",
       "2  2018     Riga   0.62  400000\n",
       "3  2001  Jurmala   0.09  200000\n",
       "4  2002  Jurmala   0.08  250000\n",
       "5  2003  Jurmala   0.06  200000"
      ]
     },
     "execution_count": 237,
     "metadata": {},
     "output_type": "execute_result"
    }
   ],
   "source": [
    "df2['budget']=[300000, 250000, 400000, 200000, 250000, 200000] # need to pass all values\n",
    "df2"
   ]
  },
  {
   "cell_type": "code",
   "execution_count": 238,
   "metadata": {},
   "outputs": [],
   "source": [
    "# Many ways of changing individual values\n",
    "\n",
    "## Recommended way of changing in place (same dataframe)\n"
   ]
  },
  {
   "cell_type": "code",
   "execution_count": 239,
   "metadata": {},
   "outputs": [
    {
     "data": {
      "text/html": [
       "<div>\n",
       "<style scoped>\n",
       "    .dataframe tbody tr th:only-of-type {\n",
       "        vertical-align: middle;\n",
       "    }\n",
       "\n",
       "    .dataframe tbody tr th {\n",
       "        vertical-align: top;\n",
       "    }\n",
       "\n",
       "    .dataframe thead th {\n",
       "        text-align: right;\n",
       "    }\n",
       "</style>\n",
       "<table border=\"1\" class=\"dataframe\">\n",
       "  <thead>\n",
       "    <tr style=\"text-align: right;\">\n",
       "      <th></th>\n",
       "      <th>year</th>\n",
       "      <th>city</th>\n",
       "      <th>popul</th>\n",
       "      <th>budget</th>\n",
       "    </tr>\n",
       "  </thead>\n",
       "  <tbody>\n",
       "    <tr>\n",
       "      <th>0</th>\n",
       "      <td>1990</td>\n",
       "      <td>Riga</td>\n",
       "      <td>0.900</td>\n",
       "      <td>300000</td>\n",
       "    </tr>\n",
       "    <tr>\n",
       "      <th>1</th>\n",
       "      <td>2000</td>\n",
       "      <td>Riga</td>\n",
       "      <td>0.750</td>\n",
       "      <td>250000</td>\n",
       "    </tr>\n",
       "    <tr>\n",
       "      <th>2</th>\n",
       "      <td>2018</td>\n",
       "      <td>Riga</td>\n",
       "      <td>0.620</td>\n",
       "      <td>400000</td>\n",
       "    </tr>\n",
       "    <tr>\n",
       "      <th>3</th>\n",
       "      <td>2001</td>\n",
       "      <td>Jurmala</td>\n",
       "      <td>0.063</td>\n",
       "      <td>200000</td>\n",
       "    </tr>\n",
       "    <tr>\n",
       "      <th>4</th>\n",
       "      <td>2002</td>\n",
       "      <td>Jurmala</td>\n",
       "      <td>0.080</td>\n",
       "      <td>250000</td>\n",
       "    </tr>\n",
       "    <tr>\n",
       "      <th>5</th>\n",
       "      <td>2003</td>\n",
       "      <td>Jurmala</td>\n",
       "      <td>0.060</td>\n",
       "      <td>200000</td>\n",
       "    </tr>\n",
       "  </tbody>\n",
       "</table>\n",
       "</div>"
      ],
      "text/plain": [
       "   year     city  popul  budget\n",
       "0  1990     Riga  0.900  300000\n",
       "1  2000     Riga  0.750  250000\n",
       "2  2018     Riga  0.620  400000\n",
       "3  2001  Jurmala  0.063  200000\n",
       "4  2002  Jurmala  0.080  250000\n",
       "5  2003  Jurmala  0.060  200000"
      ]
     },
     "execution_count": 239,
     "metadata": {},
     "output_type": "execute_result"
    }
   ],
   "source": [
    "df2.iat[3,2]=0.063\n",
    "df2"
   ]
  },
  {
   "cell_type": "code",
   "execution_count": 240,
   "metadata": {},
   "outputs": [
    {
     "data": {
      "text/plain": [
       "0    300000\n",
       "1    250000\n",
       "2    400000\n",
       "3    200000\n",
       "4    250000\n",
       "5    200000\n",
       "Name: budget, dtype: int64"
      ]
     },
     "execution_count": 240,
     "metadata": {},
     "output_type": "execute_result"
    }
   ],
   "source": [
    "df2[\"budget\"]"
   ]
  },
  {
   "cell_type": "code",
   "execution_count": 241,
   "metadata": {},
   "outputs": [
    {
     "data": {
      "text/html": [
       "<div>\n",
       "<style scoped>\n",
       "    .dataframe tbody tr th:only-of-type {\n",
       "        vertical-align: middle;\n",
       "    }\n",
       "\n",
       "    .dataframe tbody tr th {\n",
       "        vertical-align: top;\n",
       "    }\n",
       "\n",
       "    .dataframe thead th {\n",
       "        text-align: right;\n",
       "    }\n",
       "</style>\n",
       "<table border=\"1\" class=\"dataframe\">\n",
       "  <thead>\n",
       "    <tr style=\"text-align: right;\">\n",
       "      <th></th>\n",
       "      <th>year</th>\n",
       "      <th>city</th>\n",
       "      <th>popul</th>\n",
       "    </tr>\n",
       "  </thead>\n",
       "  <tbody>\n",
       "    <tr>\n",
       "      <th>0</th>\n",
       "      <td>1990</td>\n",
       "      <td>Riga</td>\n",
       "      <td>0.900</td>\n",
       "    </tr>\n",
       "    <tr>\n",
       "      <th>1</th>\n",
       "      <td>2000</td>\n",
       "      <td>Riga</td>\n",
       "      <td>0.750</td>\n",
       "    </tr>\n",
       "    <tr>\n",
       "      <th>2</th>\n",
       "      <td>2018</td>\n",
       "      <td>Riga</td>\n",
       "      <td>0.620</td>\n",
       "    </tr>\n",
       "    <tr>\n",
       "      <th>3</th>\n",
       "      <td>2001</td>\n",
       "      <td>Jurmala</td>\n",
       "      <td>0.063</td>\n",
       "    </tr>\n",
       "    <tr>\n",
       "      <th>4</th>\n",
       "      <td>2002</td>\n",
       "      <td>Jurmala</td>\n",
       "      <td>0.080</td>\n",
       "    </tr>\n",
       "    <tr>\n",
       "      <th>5</th>\n",
       "      <td>2003</td>\n",
       "      <td>Jurmala</td>\n",
       "      <td>0.060</td>\n",
       "    </tr>\n",
       "  </tbody>\n",
       "</table>\n",
       "</div>"
      ],
      "text/plain": [
       "   year     city  popul\n",
       "0  1990     Riga  0.900\n",
       "1  2000     Riga  0.750\n",
       "2  2018     Riga  0.620\n",
       "3  2001  Jurmala  0.063\n",
       "4  2002  Jurmala  0.080\n",
       "5  2003  Jurmala  0.060"
      ]
     },
     "execution_count": 241,
     "metadata": {},
     "output_type": "execute_result"
    }
   ],
   "source": [
    "# delete column by its name\n",
    "del df2[\"budget\"]\n",
    "df2"
   ]
  },
  {
   "cell_type": "code",
   "execution_count": 242,
   "metadata": {},
   "outputs": [
    {
     "data": {
      "text/html": [
       "<div>\n",
       "<style scoped>\n",
       "    .dataframe tbody tr th:only-of-type {\n",
       "        vertical-align: middle;\n",
       "    }\n",
       "\n",
       "    .dataframe tbody tr th {\n",
       "        vertical-align: top;\n",
       "    }\n",
       "\n",
       "    .dataframe thead th {\n",
       "        text-align: right;\n",
       "    }\n",
       "</style>\n",
       "<table border=\"1\" class=\"dataframe\">\n",
       "  <thead>\n",
       "    <tr style=\"text-align: right;\">\n",
       "      <th></th>\n",
       "      <th>A</th>\n",
       "      <th>B</th>\n",
       "      <th>C</th>\n",
       "      <th>D</th>\n",
       "      <th>E</th>\n",
       "    </tr>\n",
       "  </thead>\n",
       "  <tbody>\n",
       "    <tr>\n",
       "      <th>2018-05-21</th>\n",
       "      <td>2.411367</td>\n",
       "      <td>1.001082</td>\n",
       "      <td>-0.928356</td>\n",
       "      <td>1.333074</td>\n",
       "      <td>-0.371876</td>\n",
       "    </tr>\n",
       "    <tr>\n",
       "      <th>2018-05-22</th>\n",
       "      <td>-0.173307</td>\n",
       "      <td>-2.044234</td>\n",
       "      <td>-0.754022</td>\n",
       "      <td>0.807121</td>\n",
       "      <td>0.238263</td>\n",
       "    </tr>\n",
       "    <tr>\n",
       "      <th>2018-05-23</th>\n",
       "      <td>-0.019301</td>\n",
       "      <td>0.631000</td>\n",
       "      <td>-1.311873</td>\n",
       "      <td>0.650926</td>\n",
       "      <td>-0.564461</td>\n",
       "    </tr>\n",
       "    <tr>\n",
       "      <th>2018-05-24</th>\n",
       "      <td>-0.985660</td>\n",
       "      <td>-0.808382</td>\n",
       "      <td>-0.007423</td>\n",
       "      <td>0.481543</td>\n",
       "      <td>-0.223927</td>\n",
       "    </tr>\n",
       "    <tr>\n",
       "      <th>2018-05-25</th>\n",
       "      <td>0.370605</td>\n",
       "      <td>-0.513072</td>\n",
       "      <td>0.726219</td>\n",
       "      <td>0.402066</td>\n",
       "      <td>-0.359988</td>\n",
       "    </tr>\n",
       "    <tr>\n",
       "      <th>2018-05-26</th>\n",
       "      <td>-0.907068</td>\n",
       "      <td>1.055247</td>\n",
       "      <td>1.044955</td>\n",
       "      <td>-1.493684</td>\n",
       "      <td>0.435338</td>\n",
       "    </tr>\n",
       "    <tr>\n",
       "      <th>2018-05-27</th>\n",
       "      <td>0.501680</td>\n",
       "      <td>-1.584615</td>\n",
       "      <td>0.190019</td>\n",
       "      <td>-0.051159</td>\n",
       "      <td>-0.094710</td>\n",
       "    </tr>\n",
       "    <tr>\n",
       "      <th>2018-05-28</th>\n",
       "      <td>1.200590</td>\n",
       "      <td>0.377923</td>\n",
       "      <td>0.725378</td>\n",
       "      <td>2.263787</td>\n",
       "      <td>-1.231227</td>\n",
       "    </tr>\n",
       "    <tr>\n",
       "      <th>2018-05-29</th>\n",
       "      <td>-1.315397</td>\n",
       "      <td>-0.374119</td>\n",
       "      <td>-1.068247</td>\n",
       "      <td>-0.323383</td>\n",
       "      <td>0.824601</td>\n",
       "    </tr>\n",
       "    <tr>\n",
       "      <th>2018-05-30</th>\n",
       "      <td>-1.291155</td>\n",
       "      <td>-0.860900</td>\n",
       "      <td>-1.371145</td>\n",
       "      <td>-0.106230</td>\n",
       "      <td>0.191995</td>\n",
       "    </tr>\n",
       "    <tr>\n",
       "      <th>2018-05-31</th>\n",
       "      <td>0.121297</td>\n",
       "      <td>0.945801</td>\n",
       "      <td>-0.552688</td>\n",
       "      <td>-0.793649</td>\n",
       "      <td>-1.777031</td>\n",
       "    </tr>\n",
       "    <tr>\n",
       "      <th>2018-06-01</th>\n",
       "      <td>-0.437262</td>\n",
       "      <td>0.398400</td>\n",
       "      <td>-1.378436</td>\n",
       "      <td>0.887732</td>\n",
       "      <td>-0.924418</td>\n",
       "    </tr>\n",
       "    <tr>\n",
       "      <th>2018-06-02</th>\n",
       "      <td>0.337919</td>\n",
       "      <td>-1.296314</td>\n",
       "      <td>1.810035</td>\n",
       "      <td>-0.700819</td>\n",
       "      <td>0.402370</td>\n",
       "    </tr>\n",
       "    <tr>\n",
       "      <th>2018-06-03</th>\n",
       "      <td>0.033404</td>\n",
       "      <td>0.745515</td>\n",
       "      <td>0.747330</td>\n",
       "      <td>1.832234</td>\n",
       "      <td>0.994273</td>\n",
       "    </tr>\n",
       "    <tr>\n",
       "      <th>2018-06-04</th>\n",
       "      <td>-1.542179</td>\n",
       "      <td>-0.351402</td>\n",
       "      <td>0.684558</td>\n",
       "      <td>0.328971</td>\n",
       "      <td>0.909095</td>\n",
       "    </tr>\n",
       "  </tbody>\n",
       "</table>\n",
       "</div>"
      ],
      "text/plain": [
       "                   A         B         C         D         E\n",
       "2018-05-21  2.411367  1.001082 -0.928356  1.333074 -0.371876\n",
       "2018-05-22 -0.173307 -2.044234 -0.754022  0.807121  0.238263\n",
       "2018-05-23 -0.019301  0.631000 -1.311873  0.650926 -0.564461\n",
       "2018-05-24 -0.985660 -0.808382 -0.007423  0.481543 -0.223927\n",
       "2018-05-25  0.370605 -0.513072  0.726219  0.402066 -0.359988\n",
       "2018-05-26 -0.907068  1.055247  1.044955 -1.493684  0.435338\n",
       "2018-05-27  0.501680 -1.584615  0.190019 -0.051159 -0.094710\n",
       "2018-05-28  1.200590  0.377923  0.725378  2.263787 -1.231227\n",
       "2018-05-29 -1.315397 -0.374119 -1.068247 -0.323383  0.824601\n",
       "2018-05-30 -1.291155 -0.860900 -1.371145 -0.106230  0.191995\n",
       "2018-05-31  0.121297  0.945801 -0.552688 -0.793649 -1.777031\n",
       "2018-06-01 -0.437262  0.398400 -1.378436  0.887732 -0.924418\n",
       "2018-06-02  0.337919 -1.296314  1.810035 -0.700819  0.402370\n",
       "2018-06-03  0.033404  0.745515  0.747330  1.832234  0.994273\n",
       "2018-06-04 -1.542179 -0.351402  0.684558  0.328971  0.909095"
      ]
     },
     "execution_count": 242,
     "metadata": {},
     "output_type": "execute_result"
    }
   ],
   "source": [
    "df = pd.DataFrame(np.random.randn(15,5), index=dates, columns=list('ABCDE'))\n",
    "# We passed 15 rows of 5 random elements and set index to dates and columns to our basic list elements\n",
    "df"
   ]
  },
  {
   "cell_type": "code",
   "execution_count": 243,
   "metadata": {},
   "outputs": [
    {
     "data": {
      "text/html": [
       "<div>\n",
       "<style scoped>\n",
       "    .dataframe tbody tr th:only-of-type {\n",
       "        vertical-align: middle;\n",
       "    }\n",
       "\n",
       "    .dataframe tbody tr th {\n",
       "        vertical-align: top;\n",
       "    }\n",
       "\n",
       "    .dataframe thead th {\n",
       "        text-align: right;\n",
       "    }\n",
       "</style>\n",
       "<table border=\"1\" class=\"dataframe\">\n",
       "  <thead>\n",
       "    <tr style=\"text-align: right;\">\n",
       "      <th></th>\n",
       "      <th>A</th>\n",
       "      <th>B</th>\n",
       "      <th>C</th>\n",
       "      <th>D</th>\n",
       "      <th>E</th>\n",
       "      <th>F</th>\n",
       "    </tr>\n",
       "  </thead>\n",
       "  <tbody>\n",
       "    <tr>\n",
       "      <th>0</th>\n",
       "      <td>1.0</td>\n",
       "      <td>2013-01-02</td>\n",
       "      <td>1.0</td>\n",
       "      <td>3</td>\n",
       "      <td>test</td>\n",
       "      <td>foo</td>\n",
       "    </tr>\n",
       "    <tr>\n",
       "      <th>1</th>\n",
       "      <td>1.0</td>\n",
       "      <td>2013-01-02</td>\n",
       "      <td>1.0</td>\n",
       "      <td>3</td>\n",
       "      <td>train</td>\n",
       "      <td>foo</td>\n",
       "    </tr>\n",
       "    <tr>\n",
       "      <th>2</th>\n",
       "      <td>1.0</td>\n",
       "      <td>2013-01-02</td>\n",
       "      <td>1.0</td>\n",
       "      <td>3</td>\n",
       "      <td>test</td>\n",
       "      <td>foo</td>\n",
       "    </tr>\n",
       "    <tr>\n",
       "      <th>3</th>\n",
       "      <td>1.0</td>\n",
       "      <td>2013-01-02</td>\n",
       "      <td>1.0</td>\n",
       "      <td>3</td>\n",
       "      <td>train</td>\n",
       "      <td>foo</td>\n",
       "    </tr>\n",
       "  </tbody>\n",
       "</table>\n",
       "</div>"
      ],
      "text/plain": [
       "     A          B    C  D      E    F\n",
       "0  1.0 2013-01-02  1.0  3   test  foo\n",
       "1  1.0 2013-01-02  1.0  3  train  foo\n",
       "2  1.0 2013-01-02  1.0  3   test  foo\n",
       "3  1.0 2013-01-02  1.0  3  train  foo"
      ]
     },
     "execution_count": 243,
     "metadata": {},
     "output_type": "execute_result"
    }
   ],
   "source": [
    "df2 = pd.DataFrame({ 'A' : 1.,\n",
    "                      'B' : pd.Timestamp('20130102'),\n",
    "                      'C' : pd.Series(1,index=list(range(4)),dtype='float32'),\n",
    "                      'D' : np.array([3] * 4,dtype='int32'),\n",
    "                      'E' : pd.Categorical([\"test\",\"train\",\"test\",\"train\"]),\n",
    "                      'F' : 'foo' })\n",
    "df2"
   ]
  },
  {
   "cell_type": "code",
   "execution_count": 244,
   "metadata": {},
   "outputs": [],
   "source": [
    "#most columns need matching length!"
   ]
  },
  {
   "cell_type": "code",
   "execution_count": 350,
   "metadata": {},
   "outputs": [
    {
     "data": {
      "text/html": [
       "<div>\n",
       "<style scoped>\n",
       "    .dataframe tbody tr th:only-of-type {\n",
       "        vertical-align: middle;\n",
       "    }\n",
       "\n",
       "    .dataframe tbody tr th {\n",
       "        vertical-align: top;\n",
       "    }\n",
       "\n",
       "    .dataframe thead th {\n",
       "        text-align: right;\n",
       "    }\n",
       "</style>\n",
       "<table border=\"1\" class=\"dataframe\">\n",
       "  <thead>\n",
       "    <tr style=\"text-align: right;\">\n",
       "      <th></th>\n",
       "      <th>A</th>\n",
       "      <th>B</th>\n",
       "      <th>C</th>\n",
       "      <th>D</th>\n",
       "      <th>E</th>\n",
       "      <th>F</th>\n",
       "    </tr>\n",
       "  </thead>\n",
       "  <tbody>\n",
       "    <tr>\n",
       "      <th>0</th>\n",
       "      <td>1.0</td>\n",
       "      <td>2018-05-23</td>\n",
       "      <td>1.0</td>\n",
       "      <td>0</td>\n",
       "      <td>test</td>\n",
       "      <td>aha</td>\n",
       "    </tr>\n",
       "    <tr>\n",
       "      <th>1</th>\n",
       "      <td>1.0</td>\n",
       "      <td>2018-05-23</td>\n",
       "      <td>4.0</td>\n",
       "      <td>1</td>\n",
       "      <td>train</td>\n",
       "      <td>aha</td>\n",
       "    </tr>\n",
       "    <tr>\n",
       "      <th>2</th>\n",
       "      <td>1.0</td>\n",
       "      <td>2018-05-23</td>\n",
       "      <td>3.5</td>\n",
       "      <td>4</td>\n",
       "      <td>test</td>\n",
       "      <td>aha</td>\n",
       "    </tr>\n",
       "    <tr>\n",
       "      <th>3</th>\n",
       "      <td>1.0</td>\n",
       "      <td>2018-05-23</td>\n",
       "      <td>3.0</td>\n",
       "      <td>9</td>\n",
       "      <td>train</td>\n",
       "      <td>aha</td>\n",
       "    </tr>\n",
       "    <tr>\n",
       "      <th>4</th>\n",
       "      <td>1.0</td>\n",
       "      <td>2018-05-23</td>\n",
       "      <td>NaN</td>\n",
       "      <td>16</td>\n",
       "      <td>test</td>\n",
       "      <td>aha</td>\n",
       "    </tr>\n",
       "    <tr>\n",
       "      <th>5</th>\n",
       "      <td>1.0</td>\n",
       "      <td>2018-05-23</td>\n",
       "      <td>0.0</td>\n",
       "      <td>25</td>\n",
       "      <td>train</td>\n",
       "      <td>aha</td>\n",
       "    </tr>\n",
       "    <tr>\n",
       "      <th>6</th>\n",
       "      <td>1.0</td>\n",
       "      <td>2018-05-23</td>\n",
       "      <td>-5.0</td>\n",
       "      <td>36</td>\n",
       "      <td>train</td>\n",
       "      <td>aha</td>\n",
       "    </tr>\n",
       "  </tbody>\n",
       "</table>\n",
       "</div>"
      ],
      "text/plain": [
       "     A          B    C   D      E    F\n",
       "0  1.0 2018-05-23  1.0   0   test  aha\n",
       "1  1.0 2018-05-23  4.0   1  train  aha\n",
       "2  1.0 2018-05-23  3.5   4   test  aha\n",
       "3  1.0 2018-05-23  3.0   9  train  aha\n",
       "4  1.0 2018-05-23  NaN  16   test  aha\n",
       "5  1.0 2018-05-23  0.0  25  train  aha\n",
       "6  1.0 2018-05-23 -5.0  36  train  aha"
      ]
     },
     "execution_count": 350,
     "metadata": {},
     "output_type": "execute_result"
    }
   ],
   "source": [
    "df3 = pd.DataFrame({ 'A' : 1.,\n",
    "                   'B' : pd.Timestamp('20180523'),\n",
    "                   'C' : s,\n",
    "                   'D' : [x**2 for x in range(7)],\n",
    "                   'E' : pd.Categorical(['test','train']*3+[\"train\"]),\n",
    "                   'F' : 'aha'\n",
    "                   })\n",
    "df3"
   ]
  },
  {
   "cell_type": "code",
   "execution_count": 246,
   "metadata": {},
   "outputs": [],
   "source": [
    "## different datatypes for columns! "
   ]
  },
  {
   "cell_type": "code",
   "execution_count": 247,
   "metadata": {},
   "outputs": [
    {
     "data": {
      "text/plain": [
       "A           float64\n",
       "B    datetime64[ns]\n",
       "C           float64\n",
       "D             int64\n",
       "E          category\n",
       "F            object\n",
       "dtype: object"
      ]
     },
     "execution_count": 247,
     "metadata": {},
     "output_type": "execute_result"
    }
   ],
   "source": [
    "df3.dtypes"
   ]
  },
  {
   "cell_type": "code",
   "execution_count": 248,
   "metadata": {},
   "outputs": [
    {
     "data": {
      "text/html": [
       "<div>\n",
       "<style scoped>\n",
       "    .dataframe tbody tr th:only-of-type {\n",
       "        vertical-align: middle;\n",
       "    }\n",
       "\n",
       "    .dataframe tbody tr th {\n",
       "        vertical-align: top;\n",
       "    }\n",
       "\n",
       "    .dataframe thead th {\n",
       "        text-align: right;\n",
       "    }\n",
       "</style>\n",
       "<table border=\"1\" class=\"dataframe\">\n",
       "  <thead>\n",
       "    <tr style=\"text-align: right;\">\n",
       "      <th></th>\n",
       "      <th>A</th>\n",
       "      <th>B</th>\n",
       "      <th>C</th>\n",
       "      <th>D</th>\n",
       "      <th>E</th>\n",
       "      <th>F</th>\n",
       "    </tr>\n",
       "  </thead>\n",
       "  <tbody>\n",
       "    <tr>\n",
       "      <th>0</th>\n",
       "      <td>1.0</td>\n",
       "      <td>2018-05-23</td>\n",
       "      <td>1.0</td>\n",
       "      <td>0</td>\n",
       "      <td>test</td>\n",
       "      <td>aha</td>\n",
       "    </tr>\n",
       "    <tr>\n",
       "      <th>1</th>\n",
       "      <td>1.0</td>\n",
       "      <td>2018-05-23</td>\n",
       "      <td>4.0</td>\n",
       "      <td>1</td>\n",
       "      <td>train</td>\n",
       "      <td>aha</td>\n",
       "    </tr>\n",
       "    <tr>\n",
       "      <th>2</th>\n",
       "      <td>1.0</td>\n",
       "      <td>2018-05-23</td>\n",
       "      <td>3.5</td>\n",
       "      <td>4</td>\n",
       "      <td>test</td>\n",
       "      <td>aha</td>\n",
       "    </tr>\n",
       "    <tr>\n",
       "      <th>3</th>\n",
       "      <td>1.0</td>\n",
       "      <td>2018-05-23</td>\n",
       "      <td>3.0</td>\n",
       "      <td>9</td>\n",
       "      <td>train</td>\n",
       "      <td>aha</td>\n",
       "    </tr>\n",
       "    <tr>\n",
       "      <th>4</th>\n",
       "      <td>1.0</td>\n",
       "      <td>2018-05-23</td>\n",
       "      <td>NaN</td>\n",
       "      <td>16</td>\n",
       "      <td>test</td>\n",
       "      <td>aha</td>\n",
       "    </tr>\n",
       "  </tbody>\n",
       "</table>\n",
       "</div>"
      ],
      "text/plain": [
       "     A          B    C   D      E    F\n",
       "0  1.0 2018-05-23  1.0   0   test  aha\n",
       "1  1.0 2018-05-23  4.0   1  train  aha\n",
       "2  1.0 2018-05-23  3.5   4   test  aha\n",
       "3  1.0 2018-05-23  3.0   9  train  aha\n",
       "4  1.0 2018-05-23  NaN  16   test  aha"
      ]
     },
     "execution_count": 248,
     "metadata": {},
     "output_type": "execute_result"
    }
   ],
   "source": [
    "df3.head()"
   ]
  },
  {
   "cell_type": "code",
   "execution_count": 249,
   "metadata": {},
   "outputs": [
    {
     "data": {
      "text/html": [
       "<div>\n",
       "<style scoped>\n",
       "    .dataframe tbody tr th:only-of-type {\n",
       "        vertical-align: middle;\n",
       "    }\n",
       "\n",
       "    .dataframe tbody tr th {\n",
       "        vertical-align: top;\n",
       "    }\n",
       "\n",
       "    .dataframe thead th {\n",
       "        text-align: right;\n",
       "    }\n",
       "</style>\n",
       "<table border=\"1\" class=\"dataframe\">\n",
       "  <thead>\n",
       "    <tr style=\"text-align: right;\">\n",
       "      <th></th>\n",
       "      <th>A</th>\n",
       "      <th>B</th>\n",
       "      <th>C</th>\n",
       "      <th>D</th>\n",
       "      <th>E</th>\n",
       "      <th>F</th>\n",
       "    </tr>\n",
       "  </thead>\n",
       "  <tbody>\n",
       "    <tr>\n",
       "      <th>4</th>\n",
       "      <td>1.0</td>\n",
       "      <td>2018-05-23</td>\n",
       "      <td>NaN</td>\n",
       "      <td>16</td>\n",
       "      <td>test</td>\n",
       "      <td>aha</td>\n",
       "    </tr>\n",
       "    <tr>\n",
       "      <th>5</th>\n",
       "      <td>1.0</td>\n",
       "      <td>2018-05-23</td>\n",
       "      <td>0.0</td>\n",
       "      <td>25</td>\n",
       "      <td>train</td>\n",
       "      <td>aha</td>\n",
       "    </tr>\n",
       "    <tr>\n",
       "      <th>6</th>\n",
       "      <td>1.0</td>\n",
       "      <td>2018-05-23</td>\n",
       "      <td>-5.0</td>\n",
       "      <td>36</td>\n",
       "      <td>train</td>\n",
       "      <td>aha</td>\n",
       "    </tr>\n",
       "  </tbody>\n",
       "</table>\n",
       "</div>"
      ],
      "text/plain": [
       "     A          B    C   D      E    F\n",
       "4  1.0 2018-05-23  NaN  16   test  aha\n",
       "5  1.0 2018-05-23  0.0  25  train  aha\n",
       "6  1.0 2018-05-23 -5.0  36  train  aha"
      ]
     },
     "execution_count": 249,
     "metadata": {},
     "output_type": "execute_result"
    }
   ],
   "source": [
    "df3.tail(3)"
   ]
  },
  {
   "cell_type": "code",
   "execution_count": 250,
   "metadata": {},
   "outputs": [
    {
     "data": {
      "text/plain": [
       "DatetimeIndex(['2018-05-21', '2018-05-22', '2018-05-23', '2018-05-24',\n",
       "               '2018-05-25', '2018-05-26', '2018-05-27', '2018-05-28',\n",
       "               '2018-05-29', '2018-05-30', '2018-05-31', '2018-06-01',\n",
       "               '2018-06-02', '2018-06-03', '2018-06-04'],\n",
       "              dtype='datetime64[ns]', freq='D')"
      ]
     },
     "execution_count": 250,
     "metadata": {},
     "output_type": "execute_result"
    }
   ],
   "source": [
    "df.index"
   ]
  },
  {
   "cell_type": "code",
   "execution_count": 251,
   "metadata": {},
   "outputs": [
    {
     "data": {
      "text/plain": [
       "RangeIndex(start=0, stop=7, step=1)"
      ]
     },
     "execution_count": 251,
     "metadata": {},
     "output_type": "execute_result"
    }
   ],
   "source": [
    "df3.index"
   ]
  },
  {
   "cell_type": "code",
   "execution_count": 252,
   "metadata": {},
   "outputs": [
    {
     "data": {
      "text/plain": [
       "array([[1.0, Timestamp('2018-05-23 00:00:00'), 1.0, 0, 'test', 'aha'],\n",
       "       [1.0, Timestamp('2018-05-23 00:00:00'), 4.0, 1, 'train', 'aha'],\n",
       "       [1.0, Timestamp('2018-05-23 00:00:00'), 3.5, 4, 'test', 'aha'],\n",
       "       [1.0, Timestamp('2018-05-23 00:00:00'), 3.0, 9, 'train', 'aha'],\n",
       "       [1.0, Timestamp('2018-05-23 00:00:00'), nan, 16, 'test', 'aha'],\n",
       "       [1.0, Timestamp('2018-05-23 00:00:00'), 0.0, 25, 'train', 'aha'],\n",
       "       [1.0, Timestamp('2018-05-23 00:00:00'), -5.0, 36, 'train', 'aha']],\n",
       "      dtype=object)"
      ]
     },
     "execution_count": 252,
     "metadata": {},
     "output_type": "execute_result"
    }
   ],
   "source": [
    "df3.values"
   ]
  },
  {
   "cell_type": "code",
   "execution_count": 253,
   "metadata": {},
   "outputs": [
    {
     "data": {
      "text/html": [
       "<div>\n",
       "<style scoped>\n",
       "    .dataframe tbody tr th:only-of-type {\n",
       "        vertical-align: middle;\n",
       "    }\n",
       "\n",
       "    .dataframe tbody tr th {\n",
       "        vertical-align: top;\n",
       "    }\n",
       "\n",
       "    .dataframe thead th {\n",
       "        text-align: right;\n",
       "    }\n",
       "</style>\n",
       "<table border=\"1\" class=\"dataframe\">\n",
       "  <thead>\n",
       "    <tr style=\"text-align: right;\">\n",
       "      <th></th>\n",
       "      <th>A</th>\n",
       "      <th>C</th>\n",
       "      <th>D</th>\n",
       "    </tr>\n",
       "  </thead>\n",
       "  <tbody>\n",
       "    <tr>\n",
       "      <th>count</th>\n",
       "      <td>7.0</td>\n",
       "      <td>6.000000</td>\n",
       "      <td>7.000000</td>\n",
       "    </tr>\n",
       "    <tr>\n",
       "      <th>mean</th>\n",
       "      <td>1.0</td>\n",
       "      <td>1.083333</td>\n",
       "      <td>13.000000</td>\n",
       "    </tr>\n",
       "    <tr>\n",
       "      <th>std</th>\n",
       "      <td>0.0</td>\n",
       "      <td>3.352859</td>\n",
       "      <td>13.490738</td>\n",
       "    </tr>\n",
       "    <tr>\n",
       "      <th>min</th>\n",
       "      <td>1.0</td>\n",
       "      <td>-5.000000</td>\n",
       "      <td>0.000000</td>\n",
       "    </tr>\n",
       "    <tr>\n",
       "      <th>25%</th>\n",
       "      <td>1.0</td>\n",
       "      <td>0.250000</td>\n",
       "      <td>2.500000</td>\n",
       "    </tr>\n",
       "    <tr>\n",
       "      <th>50%</th>\n",
       "      <td>1.0</td>\n",
       "      <td>2.000000</td>\n",
       "      <td>9.000000</td>\n",
       "    </tr>\n",
       "    <tr>\n",
       "      <th>75%</th>\n",
       "      <td>1.0</td>\n",
       "      <td>3.375000</td>\n",
       "      <td>20.500000</td>\n",
       "    </tr>\n",
       "    <tr>\n",
       "      <th>max</th>\n",
       "      <td>1.0</td>\n",
       "      <td>4.000000</td>\n",
       "      <td>36.000000</td>\n",
       "    </tr>\n",
       "  </tbody>\n",
       "</table>\n",
       "</div>"
      ],
      "text/plain": [
       "         A         C          D\n",
       "count  7.0  6.000000   7.000000\n",
       "mean   1.0  1.083333  13.000000\n",
       "std    0.0  3.352859  13.490738\n",
       "min    1.0 -5.000000   0.000000\n",
       "25%    1.0  0.250000   2.500000\n",
       "50%    1.0  2.000000   9.000000\n",
       "75%    1.0  3.375000  20.500000\n",
       "max    1.0  4.000000  36.000000"
      ]
     },
     "execution_count": 253,
     "metadata": {},
     "output_type": "execute_result"
    }
   ],
   "source": [
    "df3.describe()"
   ]
  },
  {
   "cell_type": "code",
   "execution_count": 254,
   "metadata": {},
   "outputs": [
    {
     "name": "stdout",
     "output_type": "stream",
     "text": [
      "<class 'pandas.core.frame.DataFrame'>\n",
      "DatetimeIndex: 15 entries, 2018-05-21 to 2018-06-04\n",
      "Freq: D\n",
      "Data columns (total 5 columns):\n",
      "A    15 non-null float64\n",
      "B    15 non-null float64\n",
      "C    15 non-null float64\n",
      "D    15 non-null float64\n",
      "E    15 non-null float64\n",
      "dtypes: float64(5)\n",
      "memory usage: 720.0 bytes\n"
     ]
    }
   ],
   "source": [
    "df.info()"
   ]
  },
  {
   "cell_type": "code",
   "execution_count": null,
   "metadata": {},
   "outputs": [],
   "source": []
  },
  {
   "cell_type": "code",
   "execution_count": 255,
   "metadata": {},
   "outputs": [],
   "source": [
    "# Transpose"
   ]
  },
  {
   "cell_type": "code",
   "execution_count": 256,
   "metadata": {},
   "outputs": [
    {
     "data": {
      "text/html": [
       "<div>\n",
       "<style scoped>\n",
       "    .dataframe tbody tr th:only-of-type {\n",
       "        vertical-align: middle;\n",
       "    }\n",
       "\n",
       "    .dataframe tbody tr th {\n",
       "        vertical-align: top;\n",
       "    }\n",
       "\n",
       "    .dataframe thead th {\n",
       "        text-align: right;\n",
       "    }\n",
       "</style>\n",
       "<table border=\"1\" class=\"dataframe\">\n",
       "  <thead>\n",
       "    <tr style=\"text-align: right;\">\n",
       "      <th></th>\n",
       "      <th>0</th>\n",
       "      <th>1</th>\n",
       "      <th>2</th>\n",
       "      <th>3</th>\n",
       "      <th>4</th>\n",
       "      <th>5</th>\n",
       "      <th>6</th>\n",
       "    </tr>\n",
       "  </thead>\n",
       "  <tbody>\n",
       "    <tr>\n",
       "      <th>A</th>\n",
       "      <td>1</td>\n",
       "      <td>1</td>\n",
       "      <td>1</td>\n",
       "      <td>1</td>\n",
       "      <td>1</td>\n",
       "      <td>1</td>\n",
       "      <td>1</td>\n",
       "    </tr>\n",
       "    <tr>\n",
       "      <th>B</th>\n",
       "      <td>2018-05-23 00:00:00</td>\n",
       "      <td>2018-05-23 00:00:00</td>\n",
       "      <td>2018-05-23 00:00:00</td>\n",
       "      <td>2018-05-23 00:00:00</td>\n",
       "      <td>2018-05-23 00:00:00</td>\n",
       "      <td>2018-05-23 00:00:00</td>\n",
       "      <td>2018-05-23 00:00:00</td>\n",
       "    </tr>\n",
       "    <tr>\n",
       "      <th>C</th>\n",
       "      <td>1</td>\n",
       "      <td>4</td>\n",
       "      <td>3.5</td>\n",
       "      <td>3</td>\n",
       "      <td>NaN</td>\n",
       "      <td>0</td>\n",
       "      <td>-5</td>\n",
       "    </tr>\n",
       "    <tr>\n",
       "      <th>D</th>\n",
       "      <td>0</td>\n",
       "      <td>1</td>\n",
       "      <td>4</td>\n",
       "      <td>9</td>\n",
       "      <td>16</td>\n",
       "      <td>25</td>\n",
       "      <td>36</td>\n",
       "    </tr>\n",
       "    <tr>\n",
       "      <th>E</th>\n",
       "      <td>test</td>\n",
       "      <td>train</td>\n",
       "      <td>test</td>\n",
       "      <td>train</td>\n",
       "      <td>test</td>\n",
       "      <td>train</td>\n",
       "      <td>train</td>\n",
       "    </tr>\n",
       "    <tr>\n",
       "      <th>F</th>\n",
       "      <td>aha</td>\n",
       "      <td>aha</td>\n",
       "      <td>aha</td>\n",
       "      <td>aha</td>\n",
       "      <td>aha</td>\n",
       "      <td>aha</td>\n",
       "      <td>aha</td>\n",
       "    </tr>\n",
       "  </tbody>\n",
       "</table>\n",
       "</div>"
      ],
      "text/plain": [
       "                     0                    1                    2  \\\n",
       "A                    1                    1                    1   \n",
       "B  2018-05-23 00:00:00  2018-05-23 00:00:00  2018-05-23 00:00:00   \n",
       "C                    1                    4                  3.5   \n",
       "D                    0                    1                    4   \n",
       "E                 test                train                 test   \n",
       "F                  aha                  aha                  aha   \n",
       "\n",
       "                     3                    4                    5  \\\n",
       "A                    1                    1                    1   \n",
       "B  2018-05-23 00:00:00  2018-05-23 00:00:00  2018-05-23 00:00:00   \n",
       "C                    3                  NaN                    0   \n",
       "D                    9                   16                   25   \n",
       "E                train                 test                train   \n",
       "F                  aha                  aha                  aha   \n",
       "\n",
       "                     6  \n",
       "A                    1  \n",
       "B  2018-05-23 00:00:00  \n",
       "C                   -5  \n",
       "D                   36  \n",
       "E                train  \n",
       "F                  aha  "
      ]
     },
     "execution_count": 256,
     "metadata": {},
     "output_type": "execute_result"
    }
   ],
   "source": [
    "df3.T"
   ]
  },
  {
   "cell_type": "code",
   "execution_count": 257,
   "metadata": {
    "scrolled": true
   },
   "outputs": [
    {
     "data": {
      "text/html": [
       "<div>\n",
       "<style scoped>\n",
       "    .dataframe tbody tr th:only-of-type {\n",
       "        vertical-align: middle;\n",
       "    }\n",
       "\n",
       "    .dataframe tbody tr th {\n",
       "        vertical-align: top;\n",
       "    }\n",
       "\n",
       "    .dataframe thead th {\n",
       "        text-align: right;\n",
       "    }\n",
       "</style>\n",
       "<table border=\"1\" class=\"dataframe\">\n",
       "  <thead>\n",
       "    <tr style=\"text-align: right;\">\n",
       "      <th></th>\n",
       "      <th>A</th>\n",
       "      <th>B</th>\n",
       "      <th>C</th>\n",
       "      <th>D</th>\n",
       "      <th>E</th>\n",
       "    </tr>\n",
       "  </thead>\n",
       "  <tbody>\n",
       "    <tr>\n",
       "      <th>2018-05-21</th>\n",
       "      <td>2.411367</td>\n",
       "      <td>1.001082</td>\n",
       "      <td>-0.928356</td>\n",
       "      <td>1.333074</td>\n",
       "      <td>-0.371876</td>\n",
       "    </tr>\n",
       "    <tr>\n",
       "      <th>2018-05-22</th>\n",
       "      <td>-0.173307</td>\n",
       "      <td>-2.044234</td>\n",
       "      <td>-0.754022</td>\n",
       "      <td>0.807121</td>\n",
       "      <td>0.238263</td>\n",
       "    </tr>\n",
       "    <tr>\n",
       "      <th>2018-05-23</th>\n",
       "      <td>-0.019301</td>\n",
       "      <td>0.631000</td>\n",
       "      <td>-1.311873</td>\n",
       "      <td>0.650926</td>\n",
       "      <td>-0.564461</td>\n",
       "    </tr>\n",
       "    <tr>\n",
       "      <th>2018-05-24</th>\n",
       "      <td>-0.985660</td>\n",
       "      <td>-0.808382</td>\n",
       "      <td>-0.007423</td>\n",
       "      <td>0.481543</td>\n",
       "      <td>-0.223927</td>\n",
       "    </tr>\n",
       "    <tr>\n",
       "      <th>2018-05-25</th>\n",
       "      <td>0.370605</td>\n",
       "      <td>-0.513072</td>\n",
       "      <td>0.726219</td>\n",
       "      <td>0.402066</td>\n",
       "      <td>-0.359988</td>\n",
       "    </tr>\n",
       "    <tr>\n",
       "      <th>2018-05-26</th>\n",
       "      <td>-0.907068</td>\n",
       "      <td>1.055247</td>\n",
       "      <td>1.044955</td>\n",
       "      <td>-1.493684</td>\n",
       "      <td>0.435338</td>\n",
       "    </tr>\n",
       "    <tr>\n",
       "      <th>2018-05-27</th>\n",
       "      <td>0.501680</td>\n",
       "      <td>-1.584615</td>\n",
       "      <td>0.190019</td>\n",
       "      <td>-0.051159</td>\n",
       "      <td>-0.094710</td>\n",
       "    </tr>\n",
       "    <tr>\n",
       "      <th>2018-05-28</th>\n",
       "      <td>1.200590</td>\n",
       "      <td>0.377923</td>\n",
       "      <td>0.725378</td>\n",
       "      <td>2.263787</td>\n",
       "      <td>-1.231227</td>\n",
       "    </tr>\n",
       "    <tr>\n",
       "      <th>2018-05-29</th>\n",
       "      <td>-1.315397</td>\n",
       "      <td>-0.374119</td>\n",
       "      <td>-1.068247</td>\n",
       "      <td>-0.323383</td>\n",
       "      <td>0.824601</td>\n",
       "    </tr>\n",
       "    <tr>\n",
       "      <th>2018-05-30</th>\n",
       "      <td>-1.291155</td>\n",
       "      <td>-0.860900</td>\n",
       "      <td>-1.371145</td>\n",
       "      <td>-0.106230</td>\n",
       "      <td>0.191995</td>\n",
       "    </tr>\n",
       "    <tr>\n",
       "      <th>2018-05-31</th>\n",
       "      <td>0.121297</td>\n",
       "      <td>0.945801</td>\n",
       "      <td>-0.552688</td>\n",
       "      <td>-0.793649</td>\n",
       "      <td>-1.777031</td>\n",
       "    </tr>\n",
       "    <tr>\n",
       "      <th>2018-06-01</th>\n",
       "      <td>-0.437262</td>\n",
       "      <td>0.398400</td>\n",
       "      <td>-1.378436</td>\n",
       "      <td>0.887732</td>\n",
       "      <td>-0.924418</td>\n",
       "    </tr>\n",
       "    <tr>\n",
       "      <th>2018-06-02</th>\n",
       "      <td>0.337919</td>\n",
       "      <td>-1.296314</td>\n",
       "      <td>1.810035</td>\n",
       "      <td>-0.700819</td>\n",
       "      <td>0.402370</td>\n",
       "    </tr>\n",
       "    <tr>\n",
       "      <th>2018-06-03</th>\n",
       "      <td>0.033404</td>\n",
       "      <td>0.745515</td>\n",
       "      <td>0.747330</td>\n",
       "      <td>1.832234</td>\n",
       "      <td>0.994273</td>\n",
       "    </tr>\n",
       "    <tr>\n",
       "      <th>2018-06-04</th>\n",
       "      <td>-1.542179</td>\n",
       "      <td>-0.351402</td>\n",
       "      <td>0.684558</td>\n",
       "      <td>0.328971</td>\n",
       "      <td>0.909095</td>\n",
       "    </tr>\n",
       "  </tbody>\n",
       "</table>\n",
       "</div>"
      ],
      "text/plain": [
       "                   A         B         C         D         E\n",
       "2018-05-21  2.411367  1.001082 -0.928356  1.333074 -0.371876\n",
       "2018-05-22 -0.173307 -2.044234 -0.754022  0.807121  0.238263\n",
       "2018-05-23 -0.019301  0.631000 -1.311873  0.650926 -0.564461\n",
       "2018-05-24 -0.985660 -0.808382 -0.007423  0.481543 -0.223927\n",
       "2018-05-25  0.370605 -0.513072  0.726219  0.402066 -0.359988\n",
       "2018-05-26 -0.907068  1.055247  1.044955 -1.493684  0.435338\n",
       "2018-05-27  0.501680 -1.584615  0.190019 -0.051159 -0.094710\n",
       "2018-05-28  1.200590  0.377923  0.725378  2.263787 -1.231227\n",
       "2018-05-29 -1.315397 -0.374119 -1.068247 -0.323383  0.824601\n",
       "2018-05-30 -1.291155 -0.860900 -1.371145 -0.106230  0.191995\n",
       "2018-05-31  0.121297  0.945801 -0.552688 -0.793649 -1.777031\n",
       "2018-06-01 -0.437262  0.398400 -1.378436  0.887732 -0.924418\n",
       "2018-06-02  0.337919 -1.296314  1.810035 -0.700819  0.402370\n",
       "2018-06-03  0.033404  0.745515  0.747330  1.832234  0.994273\n",
       "2018-06-04 -1.542179 -0.351402  0.684558  0.328971  0.909095"
      ]
     },
     "execution_count": 257,
     "metadata": {},
     "output_type": "execute_result"
    }
   ],
   "source": [
    "df.sort_index(axis=1,ascending=True)"
   ]
  },
  {
   "cell_type": "code",
   "execution_count": 258,
   "metadata": {},
   "outputs": [],
   "source": [
    "## Sort by Axis in reverse"
   ]
  },
  {
   "cell_type": "code",
   "execution_count": 259,
   "metadata": {},
   "outputs": [
    {
     "data": {
      "text/html": [
       "<div>\n",
       "<style scoped>\n",
       "    .dataframe tbody tr th:only-of-type {\n",
       "        vertical-align: middle;\n",
       "    }\n",
       "\n",
       "    .dataframe tbody tr th {\n",
       "        vertical-align: top;\n",
       "    }\n",
       "\n",
       "    .dataframe thead th {\n",
       "        text-align: right;\n",
       "    }\n",
       "</style>\n",
       "<table border=\"1\" class=\"dataframe\">\n",
       "  <thead>\n",
       "    <tr style=\"text-align: right;\">\n",
       "      <th></th>\n",
       "      <th>E</th>\n",
       "      <th>D</th>\n",
       "      <th>C</th>\n",
       "      <th>B</th>\n",
       "      <th>A</th>\n",
       "    </tr>\n",
       "  </thead>\n",
       "  <tbody>\n",
       "    <tr>\n",
       "      <th>2018-05-21</th>\n",
       "      <td>-0.371876</td>\n",
       "      <td>1.333074</td>\n",
       "      <td>-0.928356</td>\n",
       "      <td>1.001082</td>\n",
       "      <td>2.411367</td>\n",
       "    </tr>\n",
       "    <tr>\n",
       "      <th>2018-05-22</th>\n",
       "      <td>0.238263</td>\n",
       "      <td>0.807121</td>\n",
       "      <td>-0.754022</td>\n",
       "      <td>-2.044234</td>\n",
       "      <td>-0.173307</td>\n",
       "    </tr>\n",
       "    <tr>\n",
       "      <th>2018-05-23</th>\n",
       "      <td>-0.564461</td>\n",
       "      <td>0.650926</td>\n",
       "      <td>-1.311873</td>\n",
       "      <td>0.631000</td>\n",
       "      <td>-0.019301</td>\n",
       "    </tr>\n",
       "    <tr>\n",
       "      <th>2018-05-24</th>\n",
       "      <td>-0.223927</td>\n",
       "      <td>0.481543</td>\n",
       "      <td>-0.007423</td>\n",
       "      <td>-0.808382</td>\n",
       "      <td>-0.985660</td>\n",
       "    </tr>\n",
       "    <tr>\n",
       "      <th>2018-05-25</th>\n",
       "      <td>-0.359988</td>\n",
       "      <td>0.402066</td>\n",
       "      <td>0.726219</td>\n",
       "      <td>-0.513072</td>\n",
       "      <td>0.370605</td>\n",
       "    </tr>\n",
       "    <tr>\n",
       "      <th>2018-05-26</th>\n",
       "      <td>0.435338</td>\n",
       "      <td>-1.493684</td>\n",
       "      <td>1.044955</td>\n",
       "      <td>1.055247</td>\n",
       "      <td>-0.907068</td>\n",
       "    </tr>\n",
       "    <tr>\n",
       "      <th>2018-05-27</th>\n",
       "      <td>-0.094710</td>\n",
       "      <td>-0.051159</td>\n",
       "      <td>0.190019</td>\n",
       "      <td>-1.584615</td>\n",
       "      <td>0.501680</td>\n",
       "    </tr>\n",
       "    <tr>\n",
       "      <th>2018-05-28</th>\n",
       "      <td>-1.231227</td>\n",
       "      <td>2.263787</td>\n",
       "      <td>0.725378</td>\n",
       "      <td>0.377923</td>\n",
       "      <td>1.200590</td>\n",
       "    </tr>\n",
       "    <tr>\n",
       "      <th>2018-05-29</th>\n",
       "      <td>0.824601</td>\n",
       "      <td>-0.323383</td>\n",
       "      <td>-1.068247</td>\n",
       "      <td>-0.374119</td>\n",
       "      <td>-1.315397</td>\n",
       "    </tr>\n",
       "    <tr>\n",
       "      <th>2018-05-30</th>\n",
       "      <td>0.191995</td>\n",
       "      <td>-0.106230</td>\n",
       "      <td>-1.371145</td>\n",
       "      <td>-0.860900</td>\n",
       "      <td>-1.291155</td>\n",
       "    </tr>\n",
       "    <tr>\n",
       "      <th>2018-05-31</th>\n",
       "      <td>-1.777031</td>\n",
       "      <td>-0.793649</td>\n",
       "      <td>-0.552688</td>\n",
       "      <td>0.945801</td>\n",
       "      <td>0.121297</td>\n",
       "    </tr>\n",
       "    <tr>\n",
       "      <th>2018-06-01</th>\n",
       "      <td>-0.924418</td>\n",
       "      <td>0.887732</td>\n",
       "      <td>-1.378436</td>\n",
       "      <td>0.398400</td>\n",
       "      <td>-0.437262</td>\n",
       "    </tr>\n",
       "    <tr>\n",
       "      <th>2018-06-02</th>\n",
       "      <td>0.402370</td>\n",
       "      <td>-0.700819</td>\n",
       "      <td>1.810035</td>\n",
       "      <td>-1.296314</td>\n",
       "      <td>0.337919</td>\n",
       "    </tr>\n",
       "    <tr>\n",
       "      <th>2018-06-03</th>\n",
       "      <td>0.994273</td>\n",
       "      <td>1.832234</td>\n",
       "      <td>0.747330</td>\n",
       "      <td>0.745515</td>\n",
       "      <td>0.033404</td>\n",
       "    </tr>\n",
       "    <tr>\n",
       "      <th>2018-06-04</th>\n",
       "      <td>0.909095</td>\n",
       "      <td>0.328971</td>\n",
       "      <td>0.684558</td>\n",
       "      <td>-0.351402</td>\n",
       "      <td>-1.542179</td>\n",
       "    </tr>\n",
       "  </tbody>\n",
       "</table>\n",
       "</div>"
      ],
      "text/plain": [
       "                   E         D         C         B         A\n",
       "2018-05-21 -0.371876  1.333074 -0.928356  1.001082  2.411367\n",
       "2018-05-22  0.238263  0.807121 -0.754022 -2.044234 -0.173307\n",
       "2018-05-23 -0.564461  0.650926 -1.311873  0.631000 -0.019301\n",
       "2018-05-24 -0.223927  0.481543 -0.007423 -0.808382 -0.985660\n",
       "2018-05-25 -0.359988  0.402066  0.726219 -0.513072  0.370605\n",
       "2018-05-26  0.435338 -1.493684  1.044955  1.055247 -0.907068\n",
       "2018-05-27 -0.094710 -0.051159  0.190019 -1.584615  0.501680\n",
       "2018-05-28 -1.231227  2.263787  0.725378  0.377923  1.200590\n",
       "2018-05-29  0.824601 -0.323383 -1.068247 -0.374119 -1.315397\n",
       "2018-05-30  0.191995 -0.106230 -1.371145 -0.860900 -1.291155\n",
       "2018-05-31 -1.777031 -0.793649 -0.552688  0.945801  0.121297\n",
       "2018-06-01 -0.924418  0.887732 -1.378436  0.398400 -0.437262\n",
       "2018-06-02  0.402370 -0.700819  1.810035 -1.296314  0.337919\n",
       "2018-06-03  0.994273  1.832234  0.747330  0.745515  0.033404\n",
       "2018-06-04  0.909095  0.328971  0.684558 -0.351402 -1.542179"
      ]
     },
     "execution_count": 259,
     "metadata": {},
     "output_type": "execute_result"
    }
   ],
   "source": [
    "df.sort_index(axis=1,ascending=False)"
   ]
  },
  {
   "cell_type": "code",
   "execution_count": 351,
   "metadata": {},
   "outputs": [
    {
     "data": {
      "text/html": [
       "<div>\n",
       "<style scoped>\n",
       "    .dataframe tbody tr th:only-of-type {\n",
       "        vertical-align: middle;\n",
       "    }\n",
       "\n",
       "    .dataframe tbody tr th {\n",
       "        vertical-align: top;\n",
       "    }\n",
       "\n",
       "    .dataframe thead th {\n",
       "        text-align: right;\n",
       "    }\n",
       "</style>\n",
       "<table border=\"1\" class=\"dataframe\">\n",
       "  <thead>\n",
       "    <tr style=\"text-align: right;\">\n",
       "      <th></th>\n",
       "      <th>A</th>\n",
       "      <th>B</th>\n",
       "      <th>C</th>\n",
       "      <th>D</th>\n",
       "      <th>E</th>\n",
       "      <th>F</th>\n",
       "    </tr>\n",
       "  </thead>\n",
       "  <tbody>\n",
       "    <tr>\n",
       "      <th>1</th>\n",
       "      <td>1.0</td>\n",
       "      <td>2018-05-23</td>\n",
       "      <td>4.0</td>\n",
       "      <td>1</td>\n",
       "      <td>train</td>\n",
       "      <td>aha</td>\n",
       "    </tr>\n",
       "    <tr>\n",
       "      <th>2</th>\n",
       "      <td>1.0</td>\n",
       "      <td>2018-05-23</td>\n",
       "      <td>3.5</td>\n",
       "      <td>4</td>\n",
       "      <td>test</td>\n",
       "      <td>aha</td>\n",
       "    </tr>\n",
       "    <tr>\n",
       "      <th>3</th>\n",
       "      <td>1.0</td>\n",
       "      <td>2018-05-23</td>\n",
       "      <td>3.0</td>\n",
       "      <td>9</td>\n",
       "      <td>train</td>\n",
       "      <td>aha</td>\n",
       "    </tr>\n",
       "    <tr>\n",
       "      <th>0</th>\n",
       "      <td>1.0</td>\n",
       "      <td>2018-05-23</td>\n",
       "      <td>1.0</td>\n",
       "      <td>0</td>\n",
       "      <td>test</td>\n",
       "      <td>aha</td>\n",
       "    </tr>\n",
       "    <tr>\n",
       "      <th>5</th>\n",
       "      <td>1.0</td>\n",
       "      <td>2018-05-23</td>\n",
       "      <td>0.0</td>\n",
       "      <td>25</td>\n",
       "      <td>train</td>\n",
       "      <td>aha</td>\n",
       "    </tr>\n",
       "    <tr>\n",
       "      <th>6</th>\n",
       "      <td>1.0</td>\n",
       "      <td>2018-05-23</td>\n",
       "      <td>-5.0</td>\n",
       "      <td>36</td>\n",
       "      <td>train</td>\n",
       "      <td>aha</td>\n",
       "    </tr>\n",
       "    <tr>\n",
       "      <th>4</th>\n",
       "      <td>1.0</td>\n",
       "      <td>2018-05-23</td>\n",
       "      <td>NaN</td>\n",
       "      <td>16</td>\n",
       "      <td>test</td>\n",
       "      <td>aha</td>\n",
       "    </tr>\n",
       "  </tbody>\n",
       "</table>\n",
       "</div>"
      ],
      "text/plain": [
       "     A          B    C   D      E    F\n",
       "1  1.0 2018-05-23  4.0   1  train  aha\n",
       "2  1.0 2018-05-23  3.5   4   test  aha\n",
       "3  1.0 2018-05-23  3.0   9  train  aha\n",
       "0  1.0 2018-05-23  1.0   0   test  aha\n",
       "5  1.0 2018-05-23  0.0  25  train  aha\n",
       "6  1.0 2018-05-23 -5.0  36  train  aha\n",
       "4  1.0 2018-05-23  NaN  16   test  aha"
      ]
     },
     "execution_count": 351,
     "metadata": {},
     "output_type": "execute_result"
    }
   ],
   "source": [
    "df3.sort_values(by='C', ascending=False)"
   ]
  },
  {
   "cell_type": "code",
   "execution_count": 261,
   "metadata": {},
   "outputs": [],
   "source": [
    "# Notice NaN gets last"
   ]
  },
  {
   "cell_type": "markdown",
   "metadata": {},
   "source": [
    "### Selection \n",
    "\n",
    "Note: while standard Python / Numpy expressions for selecting and setting are intuitive and come in handy for interactive work, for production code, we recommend the optimized pandas data access methods, .at, .iat, .loc and .iloc."
   ]
  },
  {
   "cell_type": "code",
   "execution_count": 262,
   "metadata": {},
   "outputs": [
    {
     "data": {
      "text/plain": [
       "0     0\n",
       "1     1\n",
       "2     4\n",
       "3     9\n",
       "4    16\n",
       "5    25\n",
       "6    36\n",
       "Name: D, dtype: int64"
      ]
     },
     "execution_count": 262,
     "metadata": {},
     "output_type": "execute_result"
    }
   ],
   "source": [
    "df3['D']"
   ]
  },
  {
   "cell_type": "code",
   "execution_count": 263,
   "metadata": {},
   "outputs": [
    {
     "data": {
      "text/html": [
       "<div>\n",
       "<style scoped>\n",
       "    .dataframe tbody tr th:only-of-type {\n",
       "        vertical-align: middle;\n",
       "    }\n",
       "\n",
       "    .dataframe tbody tr th {\n",
       "        vertical-align: top;\n",
       "    }\n",
       "\n",
       "    .dataframe thead th {\n",
       "        text-align: right;\n",
       "    }\n",
       "</style>\n",
       "<table border=\"1\" class=\"dataframe\">\n",
       "  <thead>\n",
       "    <tr style=\"text-align: right;\">\n",
       "      <th></th>\n",
       "      <th>A</th>\n",
       "      <th>B</th>\n",
       "      <th>C</th>\n",
       "      <th>D</th>\n",
       "      <th>E</th>\n",
       "      <th>F</th>\n",
       "    </tr>\n",
       "  </thead>\n",
       "  <tbody>\n",
       "    <tr>\n",
       "      <th>0</th>\n",
       "      <td>1.0</td>\n",
       "      <td>2018-05-23</td>\n",
       "      <td>1.0</td>\n",
       "      <td>0</td>\n",
       "      <td>test</td>\n",
       "      <td>aha</td>\n",
       "    </tr>\n",
       "    <tr>\n",
       "      <th>1</th>\n",
       "      <td>1.0</td>\n",
       "      <td>2018-05-23</td>\n",
       "      <td>4.0</td>\n",
       "      <td>1</td>\n",
       "      <td>train</td>\n",
       "      <td>aha</td>\n",
       "    </tr>\n",
       "    <tr>\n",
       "      <th>2</th>\n",
       "      <td>1.0</td>\n",
       "      <td>2018-05-23</td>\n",
       "      <td>3.5</td>\n",
       "      <td>4</td>\n",
       "      <td>test</td>\n",
       "      <td>aha</td>\n",
       "    </tr>\n",
       "    <tr>\n",
       "      <th>3</th>\n",
       "      <td>1.0</td>\n",
       "      <td>2018-05-23</td>\n",
       "      <td>3.0</td>\n",
       "      <td>9</td>\n",
       "      <td>train</td>\n",
       "      <td>aha</td>\n",
       "    </tr>\n",
       "    <tr>\n",
       "      <th>4</th>\n",
       "      <td>1.0</td>\n",
       "      <td>2018-05-23</td>\n",
       "      <td>NaN</td>\n",
       "      <td>16</td>\n",
       "      <td>test</td>\n",
       "      <td>aha</td>\n",
       "    </tr>\n",
       "  </tbody>\n",
       "</table>\n",
       "</div>"
      ],
      "text/plain": [
       "     A          B    C   D      E    F\n",
       "0  1.0 2018-05-23  1.0   0   test  aha\n",
       "1  1.0 2018-05-23  4.0   1  train  aha\n",
       "2  1.0 2018-05-23  3.5   4   test  aha\n",
       "3  1.0 2018-05-23  3.0   9  train  aha\n",
       "4  1.0 2018-05-23  NaN  16   test  aha"
      ]
     },
     "execution_count": 263,
     "metadata": {},
     "output_type": "execute_result"
    }
   ],
   "source": [
    "df3[:5]"
   ]
  },
  {
   "cell_type": "code",
   "execution_count": 264,
   "metadata": {},
   "outputs": [
    {
     "data": {
      "text/html": [
       "<div>\n",
       "<style scoped>\n",
       "    .dataframe tbody tr th:only-of-type {\n",
       "        vertical-align: middle;\n",
       "    }\n",
       "\n",
       "    .dataframe tbody tr th {\n",
       "        vertical-align: top;\n",
       "    }\n",
       "\n",
       "    .dataframe thead th {\n",
       "        text-align: right;\n",
       "    }\n",
       "</style>\n",
       "<table border=\"1\" class=\"dataframe\">\n",
       "  <thead>\n",
       "    <tr style=\"text-align: right;\">\n",
       "      <th></th>\n",
       "      <th>A</th>\n",
       "      <th>B</th>\n",
       "      <th>C</th>\n",
       "      <th>D</th>\n",
       "      <th>E</th>\n",
       "      <th>F</th>\n",
       "    </tr>\n",
       "  </thead>\n",
       "  <tbody>\n",
       "    <tr>\n",
       "      <th>2</th>\n",
       "      <td>1.0</td>\n",
       "      <td>2018-05-23</td>\n",
       "      <td>3.5</td>\n",
       "      <td>4</td>\n",
       "      <td>test</td>\n",
       "      <td>aha</td>\n",
       "    </tr>\n",
       "    <tr>\n",
       "      <th>3</th>\n",
       "      <td>1.0</td>\n",
       "      <td>2018-05-23</td>\n",
       "      <td>3.0</td>\n",
       "      <td>9</td>\n",
       "      <td>train</td>\n",
       "      <td>aha</td>\n",
       "    </tr>\n",
       "    <tr>\n",
       "      <th>4</th>\n",
       "      <td>1.0</td>\n",
       "      <td>2018-05-23</td>\n",
       "      <td>NaN</td>\n",
       "      <td>16</td>\n",
       "      <td>test</td>\n",
       "      <td>aha</td>\n",
       "    </tr>\n",
       "  </tbody>\n",
       "</table>\n",
       "</div>"
      ],
      "text/plain": [
       "     A          B    C   D      E    F\n",
       "2  1.0 2018-05-23  3.5   4   test  aha\n",
       "3  1.0 2018-05-23  3.0   9  train  aha\n",
       "4  1.0 2018-05-23  NaN  16   test  aha"
      ]
     },
     "execution_count": 264,
     "metadata": {},
     "output_type": "execute_result"
    }
   ],
   "source": [
    "df3[2:5]"
   ]
  },
  {
   "cell_type": "code",
   "execution_count": 265,
   "metadata": {},
   "outputs": [
    {
     "data": {
      "text/html": [
       "<div>\n",
       "<style scoped>\n",
       "    .dataframe tbody tr th:only-of-type {\n",
       "        vertical-align: middle;\n",
       "    }\n",
       "\n",
       "    .dataframe tbody tr th {\n",
       "        vertical-align: top;\n",
       "    }\n",
       "\n",
       "    .dataframe thead th {\n",
       "        text-align: right;\n",
       "    }\n",
       "</style>\n",
       "<table border=\"1\" class=\"dataframe\">\n",
       "  <thead>\n",
       "    <tr style=\"text-align: right;\">\n",
       "      <th></th>\n",
       "      <th>A</th>\n",
       "      <th>B</th>\n",
       "      <th>C</th>\n",
       "      <th>D</th>\n",
       "      <th>E</th>\n",
       "      <th>F</th>\n",
       "    </tr>\n",
       "  </thead>\n",
       "  <tbody>\n",
       "    <tr>\n",
       "      <th>2</th>\n",
       "      <td>1.0</td>\n",
       "      <td>2018-05-23</td>\n",
       "      <td>3.5</td>\n",
       "      <td>4</td>\n",
       "      <td>test</td>\n",
       "      <td>aha</td>\n",
       "    </tr>\n",
       "    <tr>\n",
       "      <th>4</th>\n",
       "      <td>1.0</td>\n",
       "      <td>2018-05-23</td>\n",
       "      <td>NaN</td>\n",
       "      <td>16</td>\n",
       "      <td>test</td>\n",
       "      <td>aha</td>\n",
       "    </tr>\n",
       "  </tbody>\n",
       "</table>\n",
       "</div>"
      ],
      "text/plain": [
       "     A          B    C   D     E    F\n",
       "2  1.0 2018-05-23  3.5   4  test  aha\n",
       "4  1.0 2018-05-23  NaN  16  test  aha"
      ]
     },
     "execution_count": 265,
     "metadata": {},
     "output_type": "execute_result"
    }
   ],
   "source": [
    "df3[2:5:2]"
   ]
  },
  {
   "cell_type": "code",
   "execution_count": 266,
   "metadata": {},
   "outputs": [
    {
     "data": {
      "text/html": [
       "<div>\n",
       "<style scoped>\n",
       "    .dataframe tbody tr th:only-of-type {\n",
       "        vertical-align: middle;\n",
       "    }\n",
       "\n",
       "    .dataframe tbody tr th {\n",
       "        vertical-align: top;\n",
       "    }\n",
       "\n",
       "    .dataframe thead th {\n",
       "        text-align: right;\n",
       "    }\n",
       "</style>\n",
       "<table border=\"1\" class=\"dataframe\">\n",
       "  <thead>\n",
       "    <tr style=\"text-align: right;\">\n",
       "      <th></th>\n",
       "      <th>A</th>\n",
       "      <th>B</th>\n",
       "      <th>C</th>\n",
       "      <th>D</th>\n",
       "      <th>E</th>\n",
       "      <th>F</th>\n",
       "    </tr>\n",
       "  </thead>\n",
       "  <tbody>\n",
       "    <tr>\n",
       "      <th>6</th>\n",
       "      <td>1.0</td>\n",
       "      <td>2018-05-23</td>\n",
       "      <td>-5.0</td>\n",
       "      <td>36</td>\n",
       "      <td>train</td>\n",
       "      <td>aha</td>\n",
       "    </tr>\n",
       "    <tr>\n",
       "      <th>5</th>\n",
       "      <td>1.0</td>\n",
       "      <td>2018-05-23</td>\n",
       "      <td>0.0</td>\n",
       "      <td>25</td>\n",
       "      <td>train</td>\n",
       "      <td>aha</td>\n",
       "    </tr>\n",
       "    <tr>\n",
       "      <th>4</th>\n",
       "      <td>1.0</td>\n",
       "      <td>2018-05-23</td>\n",
       "      <td>NaN</td>\n",
       "      <td>16</td>\n",
       "      <td>test</td>\n",
       "      <td>aha</td>\n",
       "    </tr>\n",
       "    <tr>\n",
       "      <th>3</th>\n",
       "      <td>1.0</td>\n",
       "      <td>2018-05-23</td>\n",
       "      <td>3.0</td>\n",
       "      <td>9</td>\n",
       "      <td>train</td>\n",
       "      <td>aha</td>\n",
       "    </tr>\n",
       "    <tr>\n",
       "      <th>2</th>\n",
       "      <td>1.0</td>\n",
       "      <td>2018-05-23</td>\n",
       "      <td>3.5</td>\n",
       "      <td>4</td>\n",
       "      <td>test</td>\n",
       "      <td>aha</td>\n",
       "    </tr>\n",
       "    <tr>\n",
       "      <th>1</th>\n",
       "      <td>1.0</td>\n",
       "      <td>2018-05-23</td>\n",
       "      <td>4.0</td>\n",
       "      <td>1</td>\n",
       "      <td>train</td>\n",
       "      <td>aha</td>\n",
       "    </tr>\n",
       "    <tr>\n",
       "      <th>0</th>\n",
       "      <td>1.0</td>\n",
       "      <td>2018-05-23</td>\n",
       "      <td>1.0</td>\n",
       "      <td>0</td>\n",
       "      <td>test</td>\n",
       "      <td>aha</td>\n",
       "    </tr>\n",
       "  </tbody>\n",
       "</table>\n",
       "</div>"
      ],
      "text/plain": [
       "     A          B    C   D      E    F\n",
       "6  1.0 2018-05-23 -5.0  36  train  aha\n",
       "5  1.0 2018-05-23  0.0  25  train  aha\n",
       "4  1.0 2018-05-23  NaN  16   test  aha\n",
       "3  1.0 2018-05-23  3.0   9  train  aha\n",
       "2  1.0 2018-05-23  3.5   4   test  aha\n",
       "1  1.0 2018-05-23  4.0   1  train  aha\n",
       "0  1.0 2018-05-23  1.0   0   test  aha"
      ]
     },
     "execution_count": 266,
     "metadata": {},
     "output_type": "execute_result"
    }
   ],
   "source": [
    "df3[::-1]"
   ]
  },
  {
   "cell_type": "markdown",
   "metadata": {},
   "source": [
    "## Selection by Label\n",
    "\n",
    "For getting a cross section using a label:"
   ]
  },
  {
   "cell_type": "code",
   "execution_count": 267,
   "metadata": {
    "scrolled": false
   },
   "outputs": [
    {
     "data": {
      "text/html": [
       "<div>\n",
       "<style scoped>\n",
       "    .dataframe tbody tr th:only-of-type {\n",
       "        vertical-align: middle;\n",
       "    }\n",
       "\n",
       "    .dataframe tbody tr th {\n",
       "        vertical-align: top;\n",
       "    }\n",
       "\n",
       "    .dataframe thead th {\n",
       "        text-align: right;\n",
       "    }\n",
       "</style>\n",
       "<table border=\"1\" class=\"dataframe\">\n",
       "  <thead>\n",
       "    <tr style=\"text-align: right;\">\n",
       "      <th></th>\n",
       "      <th>A</th>\n",
       "      <th>B</th>\n",
       "      <th>C</th>\n",
       "      <th>D</th>\n",
       "      <th>E</th>\n",
       "    </tr>\n",
       "  </thead>\n",
       "  <tbody>\n",
       "    <tr>\n",
       "      <th>2018-05-21</th>\n",
       "      <td>2.411367</td>\n",
       "      <td>1.001082</td>\n",
       "      <td>-0.928356</td>\n",
       "      <td>1.333074</td>\n",
       "      <td>-0.371876</td>\n",
       "    </tr>\n",
       "    <tr>\n",
       "      <th>2018-05-22</th>\n",
       "      <td>-0.173307</td>\n",
       "      <td>-2.044234</td>\n",
       "      <td>-0.754022</td>\n",
       "      <td>0.807121</td>\n",
       "      <td>0.238263</td>\n",
       "    </tr>\n",
       "    <tr>\n",
       "      <th>2018-05-23</th>\n",
       "      <td>-0.019301</td>\n",
       "      <td>0.631000</td>\n",
       "      <td>-1.311873</td>\n",
       "      <td>0.650926</td>\n",
       "      <td>-0.564461</td>\n",
       "    </tr>\n",
       "    <tr>\n",
       "      <th>2018-05-24</th>\n",
       "      <td>-0.985660</td>\n",
       "      <td>-0.808382</td>\n",
       "      <td>-0.007423</td>\n",
       "      <td>0.481543</td>\n",
       "      <td>-0.223927</td>\n",
       "    </tr>\n",
       "    <tr>\n",
       "      <th>2018-05-25</th>\n",
       "      <td>0.370605</td>\n",
       "      <td>-0.513072</td>\n",
       "      <td>0.726219</td>\n",
       "      <td>0.402066</td>\n",
       "      <td>-0.359988</td>\n",
       "    </tr>\n",
       "    <tr>\n",
       "      <th>2018-05-26</th>\n",
       "      <td>-0.907068</td>\n",
       "      <td>1.055247</td>\n",
       "      <td>1.044955</td>\n",
       "      <td>-1.493684</td>\n",
       "      <td>0.435338</td>\n",
       "    </tr>\n",
       "    <tr>\n",
       "      <th>2018-05-27</th>\n",
       "      <td>0.501680</td>\n",
       "      <td>-1.584615</td>\n",
       "      <td>0.190019</td>\n",
       "      <td>-0.051159</td>\n",
       "      <td>-0.094710</td>\n",
       "    </tr>\n",
       "    <tr>\n",
       "      <th>2018-05-28</th>\n",
       "      <td>1.200590</td>\n",
       "      <td>0.377923</td>\n",
       "      <td>0.725378</td>\n",
       "      <td>2.263787</td>\n",
       "      <td>-1.231227</td>\n",
       "    </tr>\n",
       "    <tr>\n",
       "      <th>2018-05-29</th>\n",
       "      <td>-1.315397</td>\n",
       "      <td>-0.374119</td>\n",
       "      <td>-1.068247</td>\n",
       "      <td>-0.323383</td>\n",
       "      <td>0.824601</td>\n",
       "    </tr>\n",
       "    <tr>\n",
       "      <th>2018-05-30</th>\n",
       "      <td>-1.291155</td>\n",
       "      <td>-0.860900</td>\n",
       "      <td>-1.371145</td>\n",
       "      <td>-0.106230</td>\n",
       "      <td>0.191995</td>\n",
       "    </tr>\n",
       "    <tr>\n",
       "      <th>2018-05-31</th>\n",
       "      <td>0.121297</td>\n",
       "      <td>0.945801</td>\n",
       "      <td>-0.552688</td>\n",
       "      <td>-0.793649</td>\n",
       "      <td>-1.777031</td>\n",
       "    </tr>\n",
       "    <tr>\n",
       "      <th>2018-06-01</th>\n",
       "      <td>-0.437262</td>\n",
       "      <td>0.398400</td>\n",
       "      <td>-1.378436</td>\n",
       "      <td>0.887732</td>\n",
       "      <td>-0.924418</td>\n",
       "    </tr>\n",
       "    <tr>\n",
       "      <th>2018-06-02</th>\n",
       "      <td>0.337919</td>\n",
       "      <td>-1.296314</td>\n",
       "      <td>1.810035</td>\n",
       "      <td>-0.700819</td>\n",
       "      <td>0.402370</td>\n",
       "    </tr>\n",
       "    <tr>\n",
       "      <th>2018-06-03</th>\n",
       "      <td>0.033404</td>\n",
       "      <td>0.745515</td>\n",
       "      <td>0.747330</td>\n",
       "      <td>1.832234</td>\n",
       "      <td>0.994273</td>\n",
       "    </tr>\n",
       "    <tr>\n",
       "      <th>2018-06-04</th>\n",
       "      <td>-1.542179</td>\n",
       "      <td>-0.351402</td>\n",
       "      <td>0.684558</td>\n",
       "      <td>0.328971</td>\n",
       "      <td>0.909095</td>\n",
       "    </tr>\n",
       "  </tbody>\n",
       "</table>\n",
       "</div>"
      ],
      "text/plain": [
       "                   A         B         C         D         E\n",
       "2018-05-21  2.411367  1.001082 -0.928356  1.333074 -0.371876\n",
       "2018-05-22 -0.173307 -2.044234 -0.754022  0.807121  0.238263\n",
       "2018-05-23 -0.019301  0.631000 -1.311873  0.650926 -0.564461\n",
       "2018-05-24 -0.985660 -0.808382 -0.007423  0.481543 -0.223927\n",
       "2018-05-25  0.370605 -0.513072  0.726219  0.402066 -0.359988\n",
       "2018-05-26 -0.907068  1.055247  1.044955 -1.493684  0.435338\n",
       "2018-05-27  0.501680 -1.584615  0.190019 -0.051159 -0.094710\n",
       "2018-05-28  1.200590  0.377923  0.725378  2.263787 -1.231227\n",
       "2018-05-29 -1.315397 -0.374119 -1.068247 -0.323383  0.824601\n",
       "2018-05-30 -1.291155 -0.860900 -1.371145 -0.106230  0.191995\n",
       "2018-05-31  0.121297  0.945801 -0.552688 -0.793649 -1.777031\n",
       "2018-06-01 -0.437262  0.398400 -1.378436  0.887732 -0.924418\n",
       "2018-06-02  0.337919 -1.296314  1.810035 -0.700819  0.402370\n",
       "2018-06-03  0.033404  0.745515  0.747330  1.832234  0.994273\n",
       "2018-06-04 -1.542179 -0.351402  0.684558  0.328971  0.909095"
      ]
     },
     "execution_count": 267,
     "metadata": {},
     "output_type": "execute_result"
    }
   ],
   "source": [
    "df"
   ]
  },
  {
   "cell_type": "code",
   "execution_count": 268,
   "metadata": {},
   "outputs": [
    {
     "data": {
      "text/plain": [
       "A    2.411367\n",
       "B    1.001082\n",
       "C   -0.928356\n",
       "D    1.333074\n",
       "E   -0.371876\n",
       "Name: 2018-05-21 00:00:00, dtype: float64"
      ]
     },
     "execution_count": 268,
     "metadata": {},
     "output_type": "execute_result"
    }
   ],
   "source": [
    "df.loc[dates[0]]"
   ]
  },
  {
   "cell_type": "code",
   "execution_count": 269,
   "metadata": {},
   "outputs": [
    {
     "data": {
      "text/html": [
       "<div>\n",
       "<style scoped>\n",
       "    .dataframe tbody tr th:only-of-type {\n",
       "        vertical-align: middle;\n",
       "    }\n",
       "\n",
       "    .dataframe tbody tr th {\n",
       "        vertical-align: top;\n",
       "    }\n",
       "\n",
       "    .dataframe thead th {\n",
       "        text-align: right;\n",
       "    }\n",
       "</style>\n",
       "<table border=\"1\" class=\"dataframe\">\n",
       "  <thead>\n",
       "    <tr style=\"text-align: right;\">\n",
       "      <th></th>\n",
       "      <th>A</th>\n",
       "      <th>B</th>\n",
       "      <th>C</th>\n",
       "      <th>D</th>\n",
       "      <th>E</th>\n",
       "    </tr>\n",
       "  </thead>\n",
       "  <tbody>\n",
       "    <tr>\n",
       "      <th>2018-05-23</th>\n",
       "      <td>-0.019301</td>\n",
       "      <td>0.631000</td>\n",
       "      <td>-1.311873</td>\n",
       "      <td>0.650926</td>\n",
       "      <td>-0.564461</td>\n",
       "    </tr>\n",
       "    <tr>\n",
       "      <th>2018-05-24</th>\n",
       "      <td>-0.985660</td>\n",
       "      <td>-0.808382</td>\n",
       "      <td>-0.007423</td>\n",
       "      <td>0.481543</td>\n",
       "      <td>-0.223927</td>\n",
       "    </tr>\n",
       "    <tr>\n",
       "      <th>2018-05-25</th>\n",
       "      <td>0.370605</td>\n",
       "      <td>-0.513072</td>\n",
       "      <td>0.726219</td>\n",
       "      <td>0.402066</td>\n",
       "      <td>-0.359988</td>\n",
       "    </tr>\n",
       "  </tbody>\n",
       "</table>\n",
       "</div>"
      ],
      "text/plain": [
       "                   A         B         C         D         E\n",
       "2018-05-23 -0.019301  0.631000 -1.311873  0.650926 -0.564461\n",
       "2018-05-24 -0.985660 -0.808382 -0.007423  0.481543 -0.223927\n",
       "2018-05-25  0.370605 -0.513072  0.726219  0.402066 -0.359988"
      ]
     },
     "execution_count": 269,
     "metadata": {},
     "output_type": "execute_result"
    }
   ],
   "source": [
    "df.loc[dates[2:5]]"
   ]
  },
  {
   "cell_type": "code",
   "execution_count": 270,
   "metadata": {},
   "outputs": [],
   "source": [
    "## Selecting on a multi-axis by label:"
   ]
  },
  {
   "cell_type": "code",
   "execution_count": 271,
   "metadata": {},
   "outputs": [
    {
     "data": {
      "text/html": [
       "<div>\n",
       "<style scoped>\n",
       "    .dataframe tbody tr th:only-of-type {\n",
       "        vertical-align: middle;\n",
       "    }\n",
       "\n",
       "    .dataframe tbody tr th {\n",
       "        vertical-align: top;\n",
       "    }\n",
       "\n",
       "    .dataframe thead th {\n",
       "        text-align: right;\n",
       "    }\n",
       "</style>\n",
       "<table border=\"1\" class=\"dataframe\">\n",
       "  <thead>\n",
       "    <tr style=\"text-align: right;\">\n",
       "      <th></th>\n",
       "      <th>A</th>\n",
       "      <th>B</th>\n",
       "      <th>C</th>\n",
       "    </tr>\n",
       "  </thead>\n",
       "  <tbody>\n",
       "    <tr>\n",
       "      <th>2018-05-21</th>\n",
       "      <td>2.411367</td>\n",
       "      <td>1.001082</td>\n",
       "      <td>-0.928356</td>\n",
       "    </tr>\n",
       "    <tr>\n",
       "      <th>2018-05-22</th>\n",
       "      <td>-0.173307</td>\n",
       "      <td>-2.044234</td>\n",
       "      <td>-0.754022</td>\n",
       "    </tr>\n",
       "    <tr>\n",
       "      <th>2018-05-23</th>\n",
       "      <td>-0.019301</td>\n",
       "      <td>0.631000</td>\n",
       "      <td>-1.311873</td>\n",
       "    </tr>\n",
       "    <tr>\n",
       "      <th>2018-05-24</th>\n",
       "      <td>-0.985660</td>\n",
       "      <td>-0.808382</td>\n",
       "      <td>-0.007423</td>\n",
       "    </tr>\n",
       "    <tr>\n",
       "      <th>2018-05-25</th>\n",
       "      <td>0.370605</td>\n",
       "      <td>-0.513072</td>\n",
       "      <td>0.726219</td>\n",
       "    </tr>\n",
       "    <tr>\n",
       "      <th>2018-05-26</th>\n",
       "      <td>-0.907068</td>\n",
       "      <td>1.055247</td>\n",
       "      <td>1.044955</td>\n",
       "    </tr>\n",
       "    <tr>\n",
       "      <th>2018-05-27</th>\n",
       "      <td>0.501680</td>\n",
       "      <td>-1.584615</td>\n",
       "      <td>0.190019</td>\n",
       "    </tr>\n",
       "    <tr>\n",
       "      <th>2018-05-28</th>\n",
       "      <td>1.200590</td>\n",
       "      <td>0.377923</td>\n",
       "      <td>0.725378</td>\n",
       "    </tr>\n",
       "    <tr>\n",
       "      <th>2018-05-29</th>\n",
       "      <td>-1.315397</td>\n",
       "      <td>-0.374119</td>\n",
       "      <td>-1.068247</td>\n",
       "    </tr>\n",
       "    <tr>\n",
       "      <th>2018-05-30</th>\n",
       "      <td>-1.291155</td>\n",
       "      <td>-0.860900</td>\n",
       "      <td>-1.371145</td>\n",
       "    </tr>\n",
       "    <tr>\n",
       "      <th>2018-05-31</th>\n",
       "      <td>0.121297</td>\n",
       "      <td>0.945801</td>\n",
       "      <td>-0.552688</td>\n",
       "    </tr>\n",
       "    <tr>\n",
       "      <th>2018-06-01</th>\n",
       "      <td>-0.437262</td>\n",
       "      <td>0.398400</td>\n",
       "      <td>-1.378436</td>\n",
       "    </tr>\n",
       "    <tr>\n",
       "      <th>2018-06-02</th>\n",
       "      <td>0.337919</td>\n",
       "      <td>-1.296314</td>\n",
       "      <td>1.810035</td>\n",
       "    </tr>\n",
       "    <tr>\n",
       "      <th>2018-06-03</th>\n",
       "      <td>0.033404</td>\n",
       "      <td>0.745515</td>\n",
       "      <td>0.747330</td>\n",
       "    </tr>\n",
       "    <tr>\n",
       "      <th>2018-06-04</th>\n",
       "      <td>-1.542179</td>\n",
       "      <td>-0.351402</td>\n",
       "      <td>0.684558</td>\n",
       "    </tr>\n",
       "  </tbody>\n",
       "</table>\n",
       "</div>"
      ],
      "text/plain": [
       "                   A         B         C\n",
       "2018-05-21  2.411367  1.001082 -0.928356\n",
       "2018-05-22 -0.173307 -2.044234 -0.754022\n",
       "2018-05-23 -0.019301  0.631000 -1.311873\n",
       "2018-05-24 -0.985660 -0.808382 -0.007423\n",
       "2018-05-25  0.370605 -0.513072  0.726219\n",
       "2018-05-26 -0.907068  1.055247  1.044955\n",
       "2018-05-27  0.501680 -1.584615  0.190019\n",
       "2018-05-28  1.200590  0.377923  0.725378\n",
       "2018-05-29 -1.315397 -0.374119 -1.068247\n",
       "2018-05-30 -1.291155 -0.860900 -1.371145\n",
       "2018-05-31  0.121297  0.945801 -0.552688\n",
       "2018-06-01 -0.437262  0.398400 -1.378436\n",
       "2018-06-02  0.337919 -1.296314  1.810035\n",
       "2018-06-03  0.033404  0.745515  0.747330\n",
       "2018-06-04 -1.542179 -0.351402  0.684558"
      ]
     },
     "execution_count": 271,
     "metadata": {},
     "output_type": "execute_result"
    }
   ],
   "source": [
    "df.loc[:, ['A','B','C']]"
   ]
  },
  {
   "cell_type": "code",
   "execution_count": 272,
   "metadata": {},
   "outputs": [
    {
     "data": {
      "text/html": [
       "<div>\n",
       "<style scoped>\n",
       "    .dataframe tbody tr th:only-of-type {\n",
       "        vertical-align: middle;\n",
       "    }\n",
       "\n",
       "    .dataframe tbody tr th {\n",
       "        vertical-align: top;\n",
       "    }\n",
       "\n",
       "    .dataframe thead th {\n",
       "        text-align: right;\n",
       "    }\n",
       "</style>\n",
       "<table border=\"1\" class=\"dataframe\">\n",
       "  <thead>\n",
       "    <tr style=\"text-align: right;\">\n",
       "      <th></th>\n",
       "      <th>A</th>\n",
       "      <th>B</th>\n",
       "      <th>C</th>\n",
       "    </tr>\n",
       "  </thead>\n",
       "  <tbody>\n",
       "    <tr>\n",
       "      <th>2018-05-23</th>\n",
       "      <td>-0.019301</td>\n",
       "      <td>0.631000</td>\n",
       "      <td>-1.311873</td>\n",
       "    </tr>\n",
       "    <tr>\n",
       "      <th>2018-05-24</th>\n",
       "      <td>-0.985660</td>\n",
       "      <td>-0.808382</td>\n",
       "      <td>-0.007423</td>\n",
       "    </tr>\n",
       "    <tr>\n",
       "      <th>2018-05-25</th>\n",
       "      <td>0.370605</td>\n",
       "      <td>-0.513072</td>\n",
       "      <td>0.726219</td>\n",
       "    </tr>\n",
       "  </tbody>\n",
       "</table>\n",
       "</div>"
      ],
      "text/plain": [
       "                   A         B         C\n",
       "2018-05-23 -0.019301  0.631000 -1.311873\n",
       "2018-05-24 -0.985660 -0.808382 -0.007423\n",
       "2018-05-25  0.370605 -0.513072  0.726219"
      ]
     },
     "execution_count": 272,
     "metadata": {},
     "output_type": "execute_result"
    }
   ],
   "source": [
    "df.loc[dates[2:5], ['A','B','C']]"
   ]
  },
  {
   "cell_type": "code",
   "execution_count": 273,
   "metadata": {},
   "outputs": [
    {
     "data": {
      "text/html": [
       "<div>\n",
       "<style scoped>\n",
       "    .dataframe tbody tr th:only-of-type {\n",
       "        vertical-align: middle;\n",
       "    }\n",
       "\n",
       "    .dataframe tbody tr th {\n",
       "        vertical-align: top;\n",
       "    }\n",
       "\n",
       "    .dataframe thead th {\n",
       "        text-align: right;\n",
       "    }\n",
       "</style>\n",
       "<table border=\"1\" class=\"dataframe\">\n",
       "  <thead>\n",
       "    <tr style=\"text-align: right;\">\n",
       "      <th></th>\n",
       "      <th>B</th>\n",
       "      <th>C</th>\n",
       "    </tr>\n",
       "  </thead>\n",
       "  <tbody>\n",
       "    <tr>\n",
       "      <th>2018-05-25</th>\n",
       "      <td>-0.513072</td>\n",
       "      <td>0.726219</td>\n",
       "    </tr>\n",
       "    <tr>\n",
       "      <th>2018-05-26</th>\n",
       "      <td>1.055247</td>\n",
       "      <td>1.044955</td>\n",
       "    </tr>\n",
       "    <tr>\n",
       "      <th>2018-05-27</th>\n",
       "      <td>-1.584615</td>\n",
       "      <td>0.190019</td>\n",
       "    </tr>\n",
       "    <tr>\n",
       "      <th>2018-05-28</th>\n",
       "      <td>0.377923</td>\n",
       "      <td>0.725378</td>\n",
       "    </tr>\n",
       "    <tr>\n",
       "      <th>2018-05-29</th>\n",
       "      <td>-0.374119</td>\n",
       "      <td>-1.068247</td>\n",
       "    </tr>\n",
       "    <tr>\n",
       "      <th>2018-05-30</th>\n",
       "      <td>-0.860900</td>\n",
       "      <td>-1.371145</td>\n",
       "    </tr>\n",
       "    <tr>\n",
       "      <th>2018-05-31</th>\n",
       "      <td>0.945801</td>\n",
       "      <td>-0.552688</td>\n",
       "    </tr>\n",
       "    <tr>\n",
       "      <th>2018-06-01</th>\n",
       "      <td>0.398400</td>\n",
       "      <td>-1.378436</td>\n",
       "    </tr>\n",
       "  </tbody>\n",
       "</table>\n",
       "</div>"
      ],
      "text/plain": [
       "                   B         C\n",
       "2018-05-25 -0.513072  0.726219\n",
       "2018-05-26  1.055247  1.044955\n",
       "2018-05-27 -1.584615  0.190019\n",
       "2018-05-28  0.377923  0.725378\n",
       "2018-05-29 -0.374119 -1.068247\n",
       "2018-05-30 -0.860900 -1.371145\n",
       "2018-05-31  0.945801 -0.552688\n",
       "2018-06-01  0.398400 -1.378436"
      ]
     },
     "execution_count": 273,
     "metadata": {},
     "output_type": "execute_result"
    }
   ],
   "source": [
    "df.loc['20180525':'20180601',['B','C']]"
   ]
  },
  {
   "cell_type": "code",
   "execution_count": 274,
   "metadata": {},
   "outputs": [],
   "source": [
    "# Reduction in the dimensions of the returned object:"
   ]
  },
  {
   "cell_type": "code",
   "execution_count": 275,
   "metadata": {},
   "outputs": [
    {
     "data": {
      "text/plain": [
       "B    1.055247\n",
       "D   -1.493684\n",
       "Name: 2018-05-26 00:00:00, dtype: float64"
      ]
     },
     "execution_count": 275,
     "metadata": {},
     "output_type": "execute_result"
    }
   ],
   "source": [
    "df.loc['20180526', [\"B\", \"D\"]]"
   ]
  },
  {
   "cell_type": "code",
   "execution_count": 276,
   "metadata": {},
   "outputs": [],
   "source": [
    "## Getting scalars (single values)"
   ]
  },
  {
   "cell_type": "code",
   "execution_count": 277,
   "metadata": {},
   "outputs": [
    {
     "data": {
      "text/plain": [
       "D   -1.493684\n",
       "Name: 2018-05-26 00:00:00, dtype: float64"
      ]
     },
     "execution_count": 277,
     "metadata": {},
     "output_type": "execute_result"
    }
   ],
   "source": [
    "df.loc['20180526', [\"D\"]]"
   ]
  },
  {
   "cell_type": "code",
   "execution_count": 278,
   "metadata": {},
   "outputs": [],
   "source": [
    "# same as above"
   ]
  },
  {
   "cell_type": "code",
   "execution_count": 279,
   "metadata": {},
   "outputs": [
    {
     "data": {
      "text/plain": [
       "-1.4936839250030132"
      ]
     },
     "execution_count": 279,
     "metadata": {},
     "output_type": "execute_result"
    }
   ],
   "source": [
    "df.at[dates[5],'D']"
   ]
  },
  {
   "cell_type": "code",
   "execution_count": 280,
   "metadata": {},
   "outputs": [],
   "source": [
    "## Selection by Position"
   ]
  },
  {
   "cell_type": "code",
   "execution_count": 281,
   "metadata": {},
   "outputs": [
    {
     "data": {
      "text/plain": [
       "A   -0.985660\n",
       "B   -0.808382\n",
       "C   -0.007423\n",
       "D    0.481543\n",
       "E   -0.223927\n",
       "Name: 2018-05-24 00:00:00, dtype: float64"
      ]
     },
     "execution_count": 281,
     "metadata": {},
     "output_type": "execute_result"
    }
   ],
   "source": [
    "df.iloc[3]"
   ]
  },
  {
   "cell_type": "code",
   "execution_count": 282,
   "metadata": {},
   "outputs": [],
   "source": [
    "# By integer slices, acting similar to numpy/python:"
   ]
  },
  {
   "cell_type": "code",
   "execution_count": 283,
   "metadata": {},
   "outputs": [
    {
     "data": {
      "text/html": [
       "<div>\n",
       "<style scoped>\n",
       "    .dataframe tbody tr th:only-of-type {\n",
       "        vertical-align: middle;\n",
       "    }\n",
       "\n",
       "    .dataframe tbody tr th {\n",
       "        vertical-align: top;\n",
       "    }\n",
       "\n",
       "    .dataframe thead th {\n",
       "        text-align: right;\n",
       "    }\n",
       "</style>\n",
       "<table border=\"1\" class=\"dataframe\">\n",
       "  <thead>\n",
       "    <tr style=\"text-align: right;\">\n",
       "      <th></th>\n",
       "      <th>A</th>\n",
       "      <th>B</th>\n",
       "    </tr>\n",
       "  </thead>\n",
       "  <tbody>\n",
       "    <tr>\n",
       "      <th>2018-05-23</th>\n",
       "      <td>-0.019301</td>\n",
       "      <td>0.631000</td>\n",
       "    </tr>\n",
       "    <tr>\n",
       "      <th>2018-05-24</th>\n",
       "      <td>-0.985660</td>\n",
       "      <td>-0.808382</td>\n",
       "    </tr>\n",
       "    <tr>\n",
       "      <th>2018-05-25</th>\n",
       "      <td>0.370605</td>\n",
       "      <td>-0.513072</td>\n",
       "    </tr>\n",
       "  </tbody>\n",
       "</table>\n",
       "</div>"
      ],
      "text/plain": [
       "                   A         B\n",
       "2018-05-23 -0.019301  0.631000\n",
       "2018-05-24 -0.985660 -0.808382\n",
       "2018-05-25  0.370605 -0.513072"
      ]
     },
     "execution_count": 283,
     "metadata": {},
     "output_type": "execute_result"
    }
   ],
   "source": [
    "df.iloc[2:5,:2]"
   ]
  },
  {
   "cell_type": "code",
   "execution_count": null,
   "metadata": {},
   "outputs": [],
   "source": []
  },
  {
   "cell_type": "code",
   "execution_count": 284,
   "metadata": {},
   "outputs": [],
   "source": [
    "# By lists of integer position locations, similar to the numpy/python style:"
   ]
  },
  {
   "cell_type": "code",
   "execution_count": 285,
   "metadata": {},
   "outputs": [
    {
     "data": {
      "text/html": [
       "<div>\n",
       "<style scoped>\n",
       "    .dataframe tbody tr th:only-of-type {\n",
       "        vertical-align: middle;\n",
       "    }\n",
       "\n",
       "    .dataframe tbody tr th {\n",
       "        vertical-align: top;\n",
       "    }\n",
       "\n",
       "    .dataframe thead th {\n",
       "        text-align: right;\n",
       "    }\n",
       "</style>\n",
       "<table border=\"1\" class=\"dataframe\">\n",
       "  <thead>\n",
       "    <tr style=\"text-align: right;\">\n",
       "      <th></th>\n",
       "      <th>B</th>\n",
       "      <th>E</th>\n",
       "      <th>C</th>\n",
       "    </tr>\n",
       "  </thead>\n",
       "  <tbody>\n",
       "    <tr>\n",
       "      <th>2018-05-24</th>\n",
       "      <td>-0.808382</td>\n",
       "      <td>-0.223927</td>\n",
       "      <td>-0.007423</td>\n",
       "    </tr>\n",
       "    <tr>\n",
       "      <th>2018-05-26</th>\n",
       "      <td>1.055247</td>\n",
       "      <td>0.435338</td>\n",
       "      <td>1.044955</td>\n",
       "    </tr>\n",
       "    <tr>\n",
       "      <th>2018-05-22</th>\n",
       "      <td>-2.044234</td>\n",
       "      <td>0.238263</td>\n",
       "      <td>-0.754022</td>\n",
       "    </tr>\n",
       "  </tbody>\n",
       "</table>\n",
       "</div>"
      ],
      "text/plain": [
       "                   B         E         C\n",
       "2018-05-24 -0.808382 -0.223927 -0.007423\n",
       "2018-05-26  1.055247  0.435338  1.044955\n",
       "2018-05-22 -2.044234  0.238263 -0.754022"
      ]
     },
     "execution_count": 285,
     "metadata": {},
     "output_type": "execute_result"
    }
   ],
   "source": [
    "df.iloc[[3,5,1],[1,4,2]]"
   ]
  },
  {
   "cell_type": "code",
   "execution_count": 286,
   "metadata": {},
   "outputs": [
    {
     "data": {
      "text/plain": [
       "-1.3118727779338955"
      ]
     },
     "execution_count": 286,
     "metadata": {},
     "output_type": "execute_result"
    }
   ],
   "source": [
    "df.iloc[2,2]"
   ]
  },
  {
   "cell_type": "code",
   "execution_count": 287,
   "metadata": {},
   "outputs": [],
   "source": [
    "# For getting fast access to a scalar (equivalent to the prior method):"
   ]
  },
  {
   "cell_type": "code",
   "execution_count": 288,
   "metadata": {},
   "outputs": [
    {
     "data": {
      "text/plain": [
       "-1.3118727779338955"
      ]
     },
     "execution_count": 288,
     "metadata": {},
     "output_type": "execute_result"
    }
   ],
   "source": [
    "df.iat[2,2]"
   ]
  },
  {
   "cell_type": "markdown",
   "metadata": {},
   "source": [
    "## Boolean Indexing"
   ]
  },
  {
   "cell_type": "code",
   "execution_count": 289,
   "metadata": {},
   "outputs": [],
   "source": [
    "## Using a single column’s values to select data."
   ]
  },
  {
   "cell_type": "code",
   "execution_count": 290,
   "metadata": {},
   "outputs": [
    {
     "data": {
      "text/html": [
       "<div>\n",
       "<style scoped>\n",
       "    .dataframe tbody tr th:only-of-type {\n",
       "        vertical-align: middle;\n",
       "    }\n",
       "\n",
       "    .dataframe tbody tr th {\n",
       "        vertical-align: top;\n",
       "    }\n",
       "\n",
       "    .dataframe thead th {\n",
       "        text-align: right;\n",
       "    }\n",
       "</style>\n",
       "<table border=\"1\" class=\"dataframe\">\n",
       "  <thead>\n",
       "    <tr style=\"text-align: right;\">\n",
       "      <th></th>\n",
       "      <th>A</th>\n",
       "      <th>B</th>\n",
       "      <th>C</th>\n",
       "      <th>D</th>\n",
       "      <th>E</th>\n",
       "    </tr>\n",
       "  </thead>\n",
       "  <tbody>\n",
       "    <tr>\n",
       "      <th>2018-05-21</th>\n",
       "      <td>2.411367</td>\n",
       "      <td>1.001082</td>\n",
       "      <td>-0.928356</td>\n",
       "      <td>1.333074</td>\n",
       "      <td>-0.371876</td>\n",
       "    </tr>\n",
       "    <tr>\n",
       "      <th>2018-05-25</th>\n",
       "      <td>0.370605</td>\n",
       "      <td>-0.513072</td>\n",
       "      <td>0.726219</td>\n",
       "      <td>0.402066</td>\n",
       "      <td>-0.359988</td>\n",
       "    </tr>\n",
       "    <tr>\n",
       "      <th>2018-05-27</th>\n",
       "      <td>0.501680</td>\n",
       "      <td>-1.584615</td>\n",
       "      <td>0.190019</td>\n",
       "      <td>-0.051159</td>\n",
       "      <td>-0.094710</td>\n",
       "    </tr>\n",
       "    <tr>\n",
       "      <th>2018-05-28</th>\n",
       "      <td>1.200590</td>\n",
       "      <td>0.377923</td>\n",
       "      <td>0.725378</td>\n",
       "      <td>2.263787</td>\n",
       "      <td>-1.231227</td>\n",
       "    </tr>\n",
       "    <tr>\n",
       "      <th>2018-06-02</th>\n",
       "      <td>0.337919</td>\n",
       "      <td>-1.296314</td>\n",
       "      <td>1.810035</td>\n",
       "      <td>-0.700819</td>\n",
       "      <td>0.402370</td>\n",
       "    </tr>\n",
       "  </tbody>\n",
       "</table>\n",
       "</div>"
      ],
      "text/plain": [
       "                   A         B         C         D         E\n",
       "2018-05-21  2.411367  1.001082 -0.928356  1.333074 -0.371876\n",
       "2018-05-25  0.370605 -0.513072  0.726219  0.402066 -0.359988\n",
       "2018-05-27  0.501680 -1.584615  0.190019 -0.051159 -0.094710\n",
       "2018-05-28  1.200590  0.377923  0.725378  2.263787 -1.231227\n",
       "2018-06-02  0.337919 -1.296314  1.810035 -0.700819  0.402370"
      ]
     },
     "execution_count": 290,
     "metadata": {},
     "output_type": "execute_result"
    }
   ],
   "source": [
    "df[df.A > 0.2]"
   ]
  },
  {
   "cell_type": "code",
   "execution_count": 291,
   "metadata": {},
   "outputs": [
    {
     "data": {
      "text/html": [
       "<div>\n",
       "<style scoped>\n",
       "    .dataframe tbody tr th:only-of-type {\n",
       "        vertical-align: middle;\n",
       "    }\n",
       "\n",
       "    .dataframe tbody tr th {\n",
       "        vertical-align: top;\n",
       "    }\n",
       "\n",
       "    .dataframe thead th {\n",
       "        text-align: right;\n",
       "    }\n",
       "</style>\n",
       "<table border=\"1\" class=\"dataframe\">\n",
       "  <thead>\n",
       "    <tr style=\"text-align: right;\">\n",
       "      <th></th>\n",
       "      <th>A</th>\n",
       "      <th>B</th>\n",
       "      <th>C</th>\n",
       "      <th>D</th>\n",
       "      <th>E</th>\n",
       "    </tr>\n",
       "  </thead>\n",
       "  <tbody>\n",
       "    <tr>\n",
       "      <th>2018-05-21</th>\n",
       "      <td>2.411367</td>\n",
       "      <td>1.001082</td>\n",
       "      <td>NaN</td>\n",
       "      <td>1.333074</td>\n",
       "      <td>NaN</td>\n",
       "    </tr>\n",
       "    <tr>\n",
       "      <th>2018-05-22</th>\n",
       "      <td>NaN</td>\n",
       "      <td>NaN</td>\n",
       "      <td>NaN</td>\n",
       "      <td>0.807121</td>\n",
       "      <td>0.238263</td>\n",
       "    </tr>\n",
       "    <tr>\n",
       "      <th>2018-05-23</th>\n",
       "      <td>NaN</td>\n",
       "      <td>0.631000</td>\n",
       "      <td>NaN</td>\n",
       "      <td>0.650926</td>\n",
       "      <td>NaN</td>\n",
       "    </tr>\n",
       "    <tr>\n",
       "      <th>2018-05-24</th>\n",
       "      <td>NaN</td>\n",
       "      <td>NaN</td>\n",
       "      <td>NaN</td>\n",
       "      <td>0.481543</td>\n",
       "      <td>NaN</td>\n",
       "    </tr>\n",
       "    <tr>\n",
       "      <th>2018-05-25</th>\n",
       "      <td>0.370605</td>\n",
       "      <td>NaN</td>\n",
       "      <td>0.726219</td>\n",
       "      <td>0.402066</td>\n",
       "      <td>NaN</td>\n",
       "    </tr>\n",
       "    <tr>\n",
       "      <th>2018-05-26</th>\n",
       "      <td>NaN</td>\n",
       "      <td>1.055247</td>\n",
       "      <td>1.044955</td>\n",
       "      <td>NaN</td>\n",
       "      <td>0.435338</td>\n",
       "    </tr>\n",
       "    <tr>\n",
       "      <th>2018-05-27</th>\n",
       "      <td>0.501680</td>\n",
       "      <td>NaN</td>\n",
       "      <td>0.190019</td>\n",
       "      <td>NaN</td>\n",
       "      <td>NaN</td>\n",
       "    </tr>\n",
       "    <tr>\n",
       "      <th>2018-05-28</th>\n",
       "      <td>1.200590</td>\n",
       "      <td>0.377923</td>\n",
       "      <td>0.725378</td>\n",
       "      <td>2.263787</td>\n",
       "      <td>NaN</td>\n",
       "    </tr>\n",
       "    <tr>\n",
       "      <th>2018-05-29</th>\n",
       "      <td>NaN</td>\n",
       "      <td>NaN</td>\n",
       "      <td>NaN</td>\n",
       "      <td>NaN</td>\n",
       "      <td>0.824601</td>\n",
       "    </tr>\n",
       "    <tr>\n",
       "      <th>2018-05-30</th>\n",
       "      <td>NaN</td>\n",
       "      <td>NaN</td>\n",
       "      <td>NaN</td>\n",
       "      <td>NaN</td>\n",
       "      <td>0.191995</td>\n",
       "    </tr>\n",
       "    <tr>\n",
       "      <th>2018-05-31</th>\n",
       "      <td>0.121297</td>\n",
       "      <td>0.945801</td>\n",
       "      <td>NaN</td>\n",
       "      <td>NaN</td>\n",
       "      <td>NaN</td>\n",
       "    </tr>\n",
       "    <tr>\n",
       "      <th>2018-06-01</th>\n",
       "      <td>NaN</td>\n",
       "      <td>0.398400</td>\n",
       "      <td>NaN</td>\n",
       "      <td>0.887732</td>\n",
       "      <td>NaN</td>\n",
       "    </tr>\n",
       "    <tr>\n",
       "      <th>2018-06-02</th>\n",
       "      <td>0.337919</td>\n",
       "      <td>NaN</td>\n",
       "      <td>1.810035</td>\n",
       "      <td>NaN</td>\n",
       "      <td>0.402370</td>\n",
       "    </tr>\n",
       "    <tr>\n",
       "      <th>2018-06-03</th>\n",
       "      <td>0.033404</td>\n",
       "      <td>0.745515</td>\n",
       "      <td>0.747330</td>\n",
       "      <td>1.832234</td>\n",
       "      <td>0.994273</td>\n",
       "    </tr>\n",
       "    <tr>\n",
       "      <th>2018-06-04</th>\n",
       "      <td>NaN</td>\n",
       "      <td>NaN</td>\n",
       "      <td>0.684558</td>\n",
       "      <td>0.328971</td>\n",
       "      <td>0.909095</td>\n",
       "    </tr>\n",
       "  </tbody>\n",
       "</table>\n",
       "</div>"
      ],
      "text/plain": [
       "                   A         B         C         D         E\n",
       "2018-05-21  2.411367  1.001082       NaN  1.333074       NaN\n",
       "2018-05-22       NaN       NaN       NaN  0.807121  0.238263\n",
       "2018-05-23       NaN  0.631000       NaN  0.650926       NaN\n",
       "2018-05-24       NaN       NaN       NaN  0.481543       NaN\n",
       "2018-05-25  0.370605       NaN  0.726219  0.402066       NaN\n",
       "2018-05-26       NaN  1.055247  1.044955       NaN  0.435338\n",
       "2018-05-27  0.501680       NaN  0.190019       NaN       NaN\n",
       "2018-05-28  1.200590  0.377923  0.725378  2.263787       NaN\n",
       "2018-05-29       NaN       NaN       NaN       NaN  0.824601\n",
       "2018-05-30       NaN       NaN       NaN       NaN  0.191995\n",
       "2018-05-31  0.121297  0.945801       NaN       NaN       NaN\n",
       "2018-06-01       NaN  0.398400       NaN  0.887732       NaN\n",
       "2018-06-02  0.337919       NaN  1.810035       NaN  0.402370\n",
       "2018-06-03  0.033404  0.745515  0.747330  1.832234  0.994273\n",
       "2018-06-04       NaN       NaN  0.684558  0.328971  0.909095"
      ]
     },
     "execution_count": 291,
     "metadata": {},
     "output_type": "execute_result"
    }
   ],
   "source": [
    "df[df > 0]"
   ]
  },
  {
   "cell_type": "code",
   "execution_count": 292,
   "metadata": {},
   "outputs": [
    {
     "data": {
      "text/html": [
       "<div>\n",
       "<style scoped>\n",
       "    .dataframe tbody tr th:only-of-type {\n",
       "        vertical-align: middle;\n",
       "    }\n",
       "\n",
       "    .dataframe tbody tr th {\n",
       "        vertical-align: top;\n",
       "    }\n",
       "\n",
       "    .dataframe thead th {\n",
       "        text-align: right;\n",
       "    }\n",
       "</style>\n",
       "<table border=\"1\" class=\"dataframe\">\n",
       "  <thead>\n",
       "    <tr style=\"text-align: right;\">\n",
       "      <th></th>\n",
       "      <th>A</th>\n",
       "      <th>B</th>\n",
       "      <th>C</th>\n",
       "      <th>D</th>\n",
       "      <th>E</th>\n",
       "    </tr>\n",
       "  </thead>\n",
       "  <tbody>\n",
       "    <tr>\n",
       "      <th>2018-05-21</th>\n",
       "      <td>2.411367</td>\n",
       "      <td>1.001082</td>\n",
       "      <td>NaN</td>\n",
       "      <td>1.333074</td>\n",
       "      <td>NaN</td>\n",
       "    </tr>\n",
       "    <tr>\n",
       "      <th>2018-05-22</th>\n",
       "      <td>NaN</td>\n",
       "      <td>NaN</td>\n",
       "      <td>NaN</td>\n",
       "      <td>NaN</td>\n",
       "      <td>NaN</td>\n",
       "    </tr>\n",
       "    <tr>\n",
       "      <th>2018-05-23</th>\n",
       "      <td>NaN</td>\n",
       "      <td>NaN</td>\n",
       "      <td>NaN</td>\n",
       "      <td>NaN</td>\n",
       "      <td>NaN</td>\n",
       "    </tr>\n",
       "    <tr>\n",
       "      <th>2018-05-24</th>\n",
       "      <td>NaN</td>\n",
       "      <td>NaN</td>\n",
       "      <td>NaN</td>\n",
       "      <td>NaN</td>\n",
       "      <td>NaN</td>\n",
       "    </tr>\n",
       "    <tr>\n",
       "      <th>2018-05-25</th>\n",
       "      <td>NaN</td>\n",
       "      <td>NaN</td>\n",
       "      <td>NaN</td>\n",
       "      <td>NaN</td>\n",
       "      <td>NaN</td>\n",
       "    </tr>\n",
       "    <tr>\n",
       "      <th>2018-05-26</th>\n",
       "      <td>NaN</td>\n",
       "      <td>1.055247</td>\n",
       "      <td>1.044955</td>\n",
       "      <td>NaN</td>\n",
       "      <td>NaN</td>\n",
       "    </tr>\n",
       "    <tr>\n",
       "      <th>2018-05-27</th>\n",
       "      <td>NaN</td>\n",
       "      <td>NaN</td>\n",
       "      <td>NaN</td>\n",
       "      <td>NaN</td>\n",
       "      <td>NaN</td>\n",
       "    </tr>\n",
       "    <tr>\n",
       "      <th>2018-05-28</th>\n",
       "      <td>1.200590</td>\n",
       "      <td>NaN</td>\n",
       "      <td>NaN</td>\n",
       "      <td>2.263787</td>\n",
       "      <td>NaN</td>\n",
       "    </tr>\n",
       "    <tr>\n",
       "      <th>2018-05-29</th>\n",
       "      <td>NaN</td>\n",
       "      <td>NaN</td>\n",
       "      <td>NaN</td>\n",
       "      <td>NaN</td>\n",
       "      <td>NaN</td>\n",
       "    </tr>\n",
       "    <tr>\n",
       "      <th>2018-05-30</th>\n",
       "      <td>NaN</td>\n",
       "      <td>NaN</td>\n",
       "      <td>NaN</td>\n",
       "      <td>NaN</td>\n",
       "      <td>NaN</td>\n",
       "    </tr>\n",
       "    <tr>\n",
       "      <th>2018-05-31</th>\n",
       "      <td>NaN</td>\n",
       "      <td>NaN</td>\n",
       "      <td>NaN</td>\n",
       "      <td>NaN</td>\n",
       "      <td>NaN</td>\n",
       "    </tr>\n",
       "    <tr>\n",
       "      <th>2018-06-01</th>\n",
       "      <td>NaN</td>\n",
       "      <td>NaN</td>\n",
       "      <td>NaN</td>\n",
       "      <td>NaN</td>\n",
       "      <td>NaN</td>\n",
       "    </tr>\n",
       "    <tr>\n",
       "      <th>2018-06-02</th>\n",
       "      <td>NaN</td>\n",
       "      <td>NaN</td>\n",
       "      <td>1.810035</td>\n",
       "      <td>NaN</td>\n",
       "      <td>NaN</td>\n",
       "    </tr>\n",
       "    <tr>\n",
       "      <th>2018-06-03</th>\n",
       "      <td>NaN</td>\n",
       "      <td>NaN</td>\n",
       "      <td>NaN</td>\n",
       "      <td>1.832234</td>\n",
       "      <td>NaN</td>\n",
       "    </tr>\n",
       "    <tr>\n",
       "      <th>2018-06-04</th>\n",
       "      <td>NaN</td>\n",
       "      <td>NaN</td>\n",
       "      <td>NaN</td>\n",
       "      <td>NaN</td>\n",
       "      <td>NaN</td>\n",
       "    </tr>\n",
       "  </tbody>\n",
       "</table>\n",
       "</div>"
      ],
      "text/plain": [
       "                   A         B         C         D   E\n",
       "2018-05-21  2.411367  1.001082       NaN  1.333074 NaN\n",
       "2018-05-22       NaN       NaN       NaN       NaN NaN\n",
       "2018-05-23       NaN       NaN       NaN       NaN NaN\n",
       "2018-05-24       NaN       NaN       NaN       NaN NaN\n",
       "2018-05-25       NaN       NaN       NaN       NaN NaN\n",
       "2018-05-26       NaN  1.055247  1.044955       NaN NaN\n",
       "2018-05-27       NaN       NaN       NaN       NaN NaN\n",
       "2018-05-28  1.200590       NaN       NaN  2.263787 NaN\n",
       "2018-05-29       NaN       NaN       NaN       NaN NaN\n",
       "2018-05-30       NaN       NaN       NaN       NaN NaN\n",
       "2018-05-31       NaN       NaN       NaN       NaN NaN\n",
       "2018-06-01       NaN       NaN       NaN       NaN NaN\n",
       "2018-06-02       NaN       NaN  1.810035       NaN NaN\n",
       "2018-06-03       NaN       NaN       NaN  1.832234 NaN\n",
       "2018-06-04       NaN       NaN       NaN       NaN NaN"
      ]
     },
     "execution_count": 292,
     "metadata": {},
     "output_type": "execute_result"
    }
   ],
   "source": [
    "df[df > 1]"
   ]
  },
  {
   "cell_type": "code",
   "execution_count": 293,
   "metadata": {},
   "outputs": [
    {
     "data": {
      "text/plain": [
       "2013-05-21       0\n",
       "2013-05-22       1\n",
       "2013-05-23       8\n",
       "2013-05-24      27\n",
       "2013-05-25      64\n",
       "2013-05-26     125\n",
       "2013-05-27     216\n",
       "2013-05-28     343\n",
       "2013-05-29     512\n",
       "2013-05-30     729\n",
       "2013-05-31    1000\n",
       "2013-06-01    1331\n",
       "2013-06-02    1728\n",
       "2013-06-03    2197\n",
       "2013-06-04    2744\n",
       "Freq: D, dtype: int64"
      ]
     },
     "execution_count": 293,
     "metadata": {},
     "output_type": "execute_result"
    }
   ],
   "source": [
    "# TODO - fix this!\n",
    "s1 = pd.Series([x**3 for x in range(15)], index=pd.date_range('20180521', periods=15))\n",
    "s1"
   ]
  },
  {
   "cell_type": "code",
   "execution_count": 294,
   "metadata": {},
   "outputs": [
    {
     "data": {
      "text/html": [
       "<div>\n",
       "<style scoped>\n",
       "    .dataframe tbody tr th:only-of-type {\n",
       "        vertical-align: middle;\n",
       "    }\n",
       "\n",
       "    .dataframe tbody tr th {\n",
       "        vertical-align: top;\n",
       "    }\n",
       "\n",
       "    .dataframe thead th {\n",
       "        text-align: right;\n",
       "    }\n",
       "</style>\n",
       "<table border=\"1\" class=\"dataframe\">\n",
       "  <thead>\n",
       "    <tr style=\"text-align: right;\">\n",
       "      <th></th>\n",
       "      <th>A</th>\n",
       "      <th>B</th>\n",
       "      <th>C</th>\n",
       "      <th>D</th>\n",
       "      <th>E</th>\n",
       "      <th>F</th>\n",
       "    </tr>\n",
       "  </thead>\n",
       "  <tbody>\n",
       "    <tr>\n",
       "      <th>2018-05-21</th>\n",
       "      <td>2.411367</td>\n",
       "      <td>1.001082</td>\n",
       "      <td>-0.928356</td>\n",
       "      <td>1.333074</td>\n",
       "      <td>-0.371876</td>\n",
       "      <td>NaN</td>\n",
       "    </tr>\n",
       "    <tr>\n",
       "      <th>2018-05-22</th>\n",
       "      <td>-0.173307</td>\n",
       "      <td>-2.044234</td>\n",
       "      <td>-0.754022</td>\n",
       "      <td>0.807121</td>\n",
       "      <td>0.238263</td>\n",
       "      <td>NaN</td>\n",
       "    </tr>\n",
       "    <tr>\n",
       "      <th>2018-05-23</th>\n",
       "      <td>-0.019301</td>\n",
       "      <td>0.631000</td>\n",
       "      <td>-1.311873</td>\n",
       "      <td>0.650926</td>\n",
       "      <td>-0.564461</td>\n",
       "      <td>NaN</td>\n",
       "    </tr>\n",
       "    <tr>\n",
       "      <th>2018-05-24</th>\n",
       "      <td>-0.985660</td>\n",
       "      <td>-0.808382</td>\n",
       "      <td>-0.007423</td>\n",
       "      <td>0.481543</td>\n",
       "      <td>-0.223927</td>\n",
       "      <td>NaN</td>\n",
       "    </tr>\n",
       "    <tr>\n",
       "      <th>2018-05-25</th>\n",
       "      <td>0.370605</td>\n",
       "      <td>-0.513072</td>\n",
       "      <td>0.726219</td>\n",
       "      <td>0.402066</td>\n",
       "      <td>-0.359988</td>\n",
       "      <td>NaN</td>\n",
       "    </tr>\n",
       "    <tr>\n",
       "      <th>2018-05-26</th>\n",
       "      <td>-0.907068</td>\n",
       "      <td>1.055247</td>\n",
       "      <td>1.044955</td>\n",
       "      <td>-1.493684</td>\n",
       "      <td>0.435338</td>\n",
       "      <td>NaN</td>\n",
       "    </tr>\n",
       "    <tr>\n",
       "      <th>2018-05-27</th>\n",
       "      <td>0.501680</td>\n",
       "      <td>-1.584615</td>\n",
       "      <td>0.190019</td>\n",
       "      <td>-0.051159</td>\n",
       "      <td>-0.094710</td>\n",
       "      <td>NaN</td>\n",
       "    </tr>\n",
       "    <tr>\n",
       "      <th>2018-05-28</th>\n",
       "      <td>1.200590</td>\n",
       "      <td>0.377923</td>\n",
       "      <td>0.725378</td>\n",
       "      <td>2.263787</td>\n",
       "      <td>-1.231227</td>\n",
       "      <td>NaN</td>\n",
       "    </tr>\n",
       "    <tr>\n",
       "      <th>2018-05-29</th>\n",
       "      <td>-1.315397</td>\n",
       "      <td>-0.374119</td>\n",
       "      <td>-1.068247</td>\n",
       "      <td>-0.323383</td>\n",
       "      <td>0.824601</td>\n",
       "      <td>NaN</td>\n",
       "    </tr>\n",
       "    <tr>\n",
       "      <th>2018-05-30</th>\n",
       "      <td>-1.291155</td>\n",
       "      <td>-0.860900</td>\n",
       "      <td>-1.371145</td>\n",
       "      <td>-0.106230</td>\n",
       "      <td>0.191995</td>\n",
       "      <td>NaN</td>\n",
       "    </tr>\n",
       "    <tr>\n",
       "      <th>2018-05-31</th>\n",
       "      <td>0.121297</td>\n",
       "      <td>0.945801</td>\n",
       "      <td>-0.552688</td>\n",
       "      <td>-0.793649</td>\n",
       "      <td>-1.777031</td>\n",
       "      <td>NaN</td>\n",
       "    </tr>\n",
       "    <tr>\n",
       "      <th>2018-06-01</th>\n",
       "      <td>-0.437262</td>\n",
       "      <td>0.398400</td>\n",
       "      <td>-1.378436</td>\n",
       "      <td>0.887732</td>\n",
       "      <td>-0.924418</td>\n",
       "      <td>NaN</td>\n",
       "    </tr>\n",
       "    <tr>\n",
       "      <th>2018-06-02</th>\n",
       "      <td>0.337919</td>\n",
       "      <td>-1.296314</td>\n",
       "      <td>1.810035</td>\n",
       "      <td>-0.700819</td>\n",
       "      <td>0.402370</td>\n",
       "      <td>NaN</td>\n",
       "    </tr>\n",
       "    <tr>\n",
       "      <th>2018-06-03</th>\n",
       "      <td>0.033404</td>\n",
       "      <td>0.745515</td>\n",
       "      <td>0.747330</td>\n",
       "      <td>1.832234</td>\n",
       "      <td>0.994273</td>\n",
       "      <td>NaN</td>\n",
       "    </tr>\n",
       "    <tr>\n",
       "      <th>2018-06-04</th>\n",
       "      <td>-1.542179</td>\n",
       "      <td>-0.351402</td>\n",
       "      <td>0.684558</td>\n",
       "      <td>0.328971</td>\n",
       "      <td>0.909095</td>\n",
       "      <td>NaN</td>\n",
       "    </tr>\n",
       "  </tbody>\n",
       "</table>\n",
       "</div>"
      ],
      "text/plain": [
       "                   A         B         C         D         E   F\n",
       "2018-05-21  2.411367  1.001082 -0.928356  1.333074 -0.371876 NaN\n",
       "2018-05-22 -0.173307 -2.044234 -0.754022  0.807121  0.238263 NaN\n",
       "2018-05-23 -0.019301  0.631000 -1.311873  0.650926 -0.564461 NaN\n",
       "2018-05-24 -0.985660 -0.808382 -0.007423  0.481543 -0.223927 NaN\n",
       "2018-05-25  0.370605 -0.513072  0.726219  0.402066 -0.359988 NaN\n",
       "2018-05-26 -0.907068  1.055247  1.044955 -1.493684  0.435338 NaN\n",
       "2018-05-27  0.501680 -1.584615  0.190019 -0.051159 -0.094710 NaN\n",
       "2018-05-28  1.200590  0.377923  0.725378  2.263787 -1.231227 NaN\n",
       "2018-05-29 -1.315397 -0.374119 -1.068247 -0.323383  0.824601 NaN\n",
       "2018-05-30 -1.291155 -0.860900 -1.371145 -0.106230  0.191995 NaN\n",
       "2018-05-31  0.121297  0.945801 -0.552688 -0.793649 -1.777031 NaN\n",
       "2018-06-01 -0.437262  0.398400 -1.378436  0.887732 -0.924418 NaN\n",
       "2018-06-02  0.337919 -1.296314  1.810035 -0.700819  0.402370 NaN\n",
       "2018-06-03  0.033404  0.745515  0.747330  1.832234  0.994273 NaN\n",
       "2018-06-04 -1.542179 -0.351402  0.684558  0.328971  0.909095 NaN"
      ]
     },
     "execution_count": 294,
     "metadata": {},
     "output_type": "execute_result"
    }
   ],
   "source": [
    "df['F'] = s1\n",
    "df"
   ]
  },
  {
   "cell_type": "code",
   "execution_count": 295,
   "metadata": {},
   "outputs": [],
   "source": [
    "## This is apparently a bug! https://github.com/pandas-dev/pandas/issues/10440"
   ]
  },
  {
   "cell_type": "code",
   "execution_count": 296,
   "metadata": {},
   "outputs": [
    {
     "data": {
      "text/html": [
       "<div>\n",
       "<style scoped>\n",
       "    .dataframe tbody tr th:only-of-type {\n",
       "        vertical-align: middle;\n",
       "    }\n",
       "\n",
       "    .dataframe tbody tr th {\n",
       "        vertical-align: top;\n",
       "    }\n",
       "\n",
       "    .dataframe thead th {\n",
       "        text-align: right;\n",
       "    }\n",
       "</style>\n",
       "<table border=\"1\" class=\"dataframe\">\n",
       "  <thead>\n",
       "    <tr style=\"text-align: right;\">\n",
       "      <th></th>\n",
       "      <th>A</th>\n",
       "      <th>B</th>\n",
       "      <th>C</th>\n",
       "      <th>D</th>\n",
       "      <th>E</th>\n",
       "      <th>F</th>\n",
       "    </tr>\n",
       "  </thead>\n",
       "  <tbody>\n",
       "    <tr>\n",
       "      <th>2018-05-21</th>\n",
       "      <td>2.411367</td>\n",
       "      <td>1.001082</td>\n",
       "      <td>-0.928356</td>\n",
       "      <td>1.333074</td>\n",
       "      <td>-0.371876</td>\n",
       "      <td>42</td>\n",
       "    </tr>\n",
       "    <tr>\n",
       "      <th>2018-05-22</th>\n",
       "      <td>-0.173307</td>\n",
       "      <td>-2.044234</td>\n",
       "      <td>-0.754022</td>\n",
       "      <td>0.807121</td>\n",
       "      <td>0.238263</td>\n",
       "      <td>42</td>\n",
       "    </tr>\n",
       "    <tr>\n",
       "      <th>2018-05-23</th>\n",
       "      <td>-0.019301</td>\n",
       "      <td>0.631000</td>\n",
       "      <td>-1.311873</td>\n",
       "      <td>0.650926</td>\n",
       "      <td>-0.564461</td>\n",
       "      <td>42</td>\n",
       "    </tr>\n",
       "    <tr>\n",
       "      <th>2018-05-24</th>\n",
       "      <td>-0.985660</td>\n",
       "      <td>-0.808382</td>\n",
       "      <td>-0.007423</td>\n",
       "      <td>0.481543</td>\n",
       "      <td>-0.223927</td>\n",
       "      <td>42</td>\n",
       "    </tr>\n",
       "    <tr>\n",
       "      <th>2018-05-25</th>\n",
       "      <td>0.370605</td>\n",
       "      <td>-0.513072</td>\n",
       "      <td>0.726219</td>\n",
       "      <td>0.402066</td>\n",
       "      <td>-0.359988</td>\n",
       "      <td>42</td>\n",
       "    </tr>\n",
       "    <tr>\n",
       "      <th>2018-05-26</th>\n",
       "      <td>-0.907068</td>\n",
       "      <td>1.055247</td>\n",
       "      <td>1.044955</td>\n",
       "      <td>-1.493684</td>\n",
       "      <td>0.435338</td>\n",
       "      <td>42</td>\n",
       "    </tr>\n",
       "    <tr>\n",
       "      <th>2018-05-27</th>\n",
       "      <td>0.501680</td>\n",
       "      <td>-1.584615</td>\n",
       "      <td>0.190019</td>\n",
       "      <td>-0.051159</td>\n",
       "      <td>-0.094710</td>\n",
       "      <td>42</td>\n",
       "    </tr>\n",
       "    <tr>\n",
       "      <th>2018-05-28</th>\n",
       "      <td>1.200590</td>\n",
       "      <td>0.377923</td>\n",
       "      <td>0.725378</td>\n",
       "      <td>2.263787</td>\n",
       "      <td>-1.231227</td>\n",
       "      <td>42</td>\n",
       "    </tr>\n",
       "    <tr>\n",
       "      <th>2018-05-29</th>\n",
       "      <td>-1.315397</td>\n",
       "      <td>-0.374119</td>\n",
       "      <td>-1.068247</td>\n",
       "      <td>-0.323383</td>\n",
       "      <td>0.824601</td>\n",
       "      <td>42</td>\n",
       "    </tr>\n",
       "    <tr>\n",
       "      <th>2018-05-30</th>\n",
       "      <td>-1.291155</td>\n",
       "      <td>-0.860900</td>\n",
       "      <td>-1.371145</td>\n",
       "      <td>-0.106230</td>\n",
       "      <td>0.191995</td>\n",
       "      <td>42</td>\n",
       "    </tr>\n",
       "    <tr>\n",
       "      <th>2018-05-31</th>\n",
       "      <td>0.121297</td>\n",
       "      <td>0.945801</td>\n",
       "      <td>-0.552688</td>\n",
       "      <td>-0.793649</td>\n",
       "      <td>-1.777031</td>\n",
       "      <td>42</td>\n",
       "    </tr>\n",
       "    <tr>\n",
       "      <th>2018-06-01</th>\n",
       "      <td>-0.437262</td>\n",
       "      <td>0.398400</td>\n",
       "      <td>-1.378436</td>\n",
       "      <td>0.887732</td>\n",
       "      <td>-0.924418</td>\n",
       "      <td>42</td>\n",
       "    </tr>\n",
       "    <tr>\n",
       "      <th>2018-06-02</th>\n",
       "      <td>0.337919</td>\n",
       "      <td>-1.296314</td>\n",
       "      <td>1.810035</td>\n",
       "      <td>-0.700819</td>\n",
       "      <td>0.402370</td>\n",
       "      <td>42</td>\n",
       "    </tr>\n",
       "    <tr>\n",
       "      <th>2018-06-03</th>\n",
       "      <td>0.033404</td>\n",
       "      <td>0.745515</td>\n",
       "      <td>0.747330</td>\n",
       "      <td>1.832234</td>\n",
       "      <td>0.994273</td>\n",
       "      <td>42</td>\n",
       "    </tr>\n",
       "    <tr>\n",
       "      <th>2018-06-04</th>\n",
       "      <td>-1.542179</td>\n",
       "      <td>-0.351402</td>\n",
       "      <td>0.684558</td>\n",
       "      <td>0.328971</td>\n",
       "      <td>0.909095</td>\n",
       "      <td>42</td>\n",
       "    </tr>\n",
       "  </tbody>\n",
       "</table>\n",
       "</div>"
      ],
      "text/plain": [
       "                   A         B         C         D         E   F\n",
       "2018-05-21  2.411367  1.001082 -0.928356  1.333074 -0.371876  42\n",
       "2018-05-22 -0.173307 -2.044234 -0.754022  0.807121  0.238263  42\n",
       "2018-05-23 -0.019301  0.631000 -1.311873  0.650926 -0.564461  42\n",
       "2018-05-24 -0.985660 -0.808382 -0.007423  0.481543 -0.223927  42\n",
       "2018-05-25  0.370605 -0.513072  0.726219  0.402066 -0.359988  42\n",
       "2018-05-26 -0.907068  1.055247  1.044955 -1.493684  0.435338  42\n",
       "2018-05-27  0.501680 -1.584615  0.190019 -0.051159 -0.094710  42\n",
       "2018-05-28  1.200590  0.377923  0.725378  2.263787 -1.231227  42\n",
       "2018-05-29 -1.315397 -0.374119 -1.068247 -0.323383  0.824601  42\n",
       "2018-05-30 -1.291155 -0.860900 -1.371145 -0.106230  0.191995  42\n",
       "2018-05-31  0.121297  0.945801 -0.552688 -0.793649 -1.777031  42\n",
       "2018-06-01 -0.437262  0.398400 -1.378436  0.887732 -0.924418  42\n",
       "2018-06-02  0.337919 -1.296314  1.810035 -0.700819  0.402370  42\n",
       "2018-06-03  0.033404  0.745515  0.747330  1.832234  0.994273  42\n",
       "2018-06-04 -1.542179 -0.351402  0.684558  0.328971  0.909095  42"
      ]
     },
     "execution_count": 296,
     "metadata": {},
     "output_type": "execute_result"
    }
   ],
   "source": [
    "df['F']=42\n",
    "df"
   ]
  },
  {
   "cell_type": "code",
   "execution_count": 297,
   "metadata": {},
   "outputs": [
    {
     "data": {
      "text/html": [
       "<div>\n",
       "<style scoped>\n",
       "    .dataframe tbody tr th:only-of-type {\n",
       "        vertical-align: middle;\n",
       "    }\n",
       "\n",
       "    .dataframe tbody tr th {\n",
       "        vertical-align: top;\n",
       "    }\n",
       "\n",
       "    .dataframe thead th {\n",
       "        text-align: right;\n",
       "    }\n",
       "</style>\n",
       "<table border=\"1\" class=\"dataframe\">\n",
       "  <thead>\n",
       "    <tr style=\"text-align: right;\">\n",
       "      <th></th>\n",
       "      <th>A</th>\n",
       "      <th>B</th>\n",
       "      <th>C</th>\n",
       "      <th>D</th>\n",
       "      <th>E</th>\n",
       "      <th>F</th>\n",
       "      <th>G</th>\n",
       "    </tr>\n",
       "  </thead>\n",
       "  <tbody>\n",
       "    <tr>\n",
       "      <th>2018-05-21</th>\n",
       "      <td>2.411367</td>\n",
       "      <td>1.001082</td>\n",
       "      <td>-0.928356</td>\n",
       "      <td>1.333074</td>\n",
       "      <td>-0.371876</td>\n",
       "      <td>42</td>\n",
       "      <td>0</td>\n",
       "    </tr>\n",
       "    <tr>\n",
       "      <th>2018-05-22</th>\n",
       "      <td>-0.173307</td>\n",
       "      <td>-2.044234</td>\n",
       "      <td>-0.754022</td>\n",
       "      <td>0.807121</td>\n",
       "      <td>0.238263</td>\n",
       "      <td>42</td>\n",
       "      <td>1</td>\n",
       "    </tr>\n",
       "    <tr>\n",
       "      <th>2018-05-23</th>\n",
       "      <td>-0.019301</td>\n",
       "      <td>0.631000</td>\n",
       "      <td>-1.311873</td>\n",
       "      <td>0.650926</td>\n",
       "      <td>-0.564461</td>\n",
       "      <td>42</td>\n",
       "      <td>8</td>\n",
       "    </tr>\n",
       "    <tr>\n",
       "      <th>2018-05-24</th>\n",
       "      <td>-0.985660</td>\n",
       "      <td>-0.808382</td>\n",
       "      <td>-0.007423</td>\n",
       "      <td>0.481543</td>\n",
       "      <td>-0.223927</td>\n",
       "      <td>42</td>\n",
       "      <td>27</td>\n",
       "    </tr>\n",
       "    <tr>\n",
       "      <th>2018-05-25</th>\n",
       "      <td>0.370605</td>\n",
       "      <td>-0.513072</td>\n",
       "      <td>0.726219</td>\n",
       "      <td>0.402066</td>\n",
       "      <td>-0.359988</td>\n",
       "      <td>42</td>\n",
       "      <td>64</td>\n",
       "    </tr>\n",
       "    <tr>\n",
       "      <th>2018-05-26</th>\n",
       "      <td>-0.907068</td>\n",
       "      <td>1.055247</td>\n",
       "      <td>1.044955</td>\n",
       "      <td>-1.493684</td>\n",
       "      <td>0.435338</td>\n",
       "      <td>42</td>\n",
       "      <td>125</td>\n",
       "    </tr>\n",
       "    <tr>\n",
       "      <th>2018-05-27</th>\n",
       "      <td>0.501680</td>\n",
       "      <td>-1.584615</td>\n",
       "      <td>0.190019</td>\n",
       "      <td>-0.051159</td>\n",
       "      <td>-0.094710</td>\n",
       "      <td>42</td>\n",
       "      <td>216</td>\n",
       "    </tr>\n",
       "    <tr>\n",
       "      <th>2018-05-28</th>\n",
       "      <td>1.200590</td>\n",
       "      <td>0.377923</td>\n",
       "      <td>0.725378</td>\n",
       "      <td>2.263787</td>\n",
       "      <td>-1.231227</td>\n",
       "      <td>42</td>\n",
       "      <td>343</td>\n",
       "    </tr>\n",
       "    <tr>\n",
       "      <th>2018-05-29</th>\n",
       "      <td>-1.315397</td>\n",
       "      <td>-0.374119</td>\n",
       "      <td>-1.068247</td>\n",
       "      <td>-0.323383</td>\n",
       "      <td>0.824601</td>\n",
       "      <td>42</td>\n",
       "      <td>512</td>\n",
       "    </tr>\n",
       "    <tr>\n",
       "      <th>2018-05-30</th>\n",
       "      <td>-1.291155</td>\n",
       "      <td>-0.860900</td>\n",
       "      <td>-1.371145</td>\n",
       "      <td>-0.106230</td>\n",
       "      <td>0.191995</td>\n",
       "      <td>42</td>\n",
       "      <td>729</td>\n",
       "    </tr>\n",
       "    <tr>\n",
       "      <th>2018-05-31</th>\n",
       "      <td>0.121297</td>\n",
       "      <td>0.945801</td>\n",
       "      <td>-0.552688</td>\n",
       "      <td>-0.793649</td>\n",
       "      <td>-1.777031</td>\n",
       "      <td>42</td>\n",
       "      <td>1000</td>\n",
       "    </tr>\n",
       "    <tr>\n",
       "      <th>2018-06-01</th>\n",
       "      <td>-0.437262</td>\n",
       "      <td>0.398400</td>\n",
       "      <td>-1.378436</td>\n",
       "      <td>0.887732</td>\n",
       "      <td>-0.924418</td>\n",
       "      <td>42</td>\n",
       "      <td>1331</td>\n",
       "    </tr>\n",
       "    <tr>\n",
       "      <th>2018-06-02</th>\n",
       "      <td>0.337919</td>\n",
       "      <td>-1.296314</td>\n",
       "      <td>1.810035</td>\n",
       "      <td>-0.700819</td>\n",
       "      <td>0.402370</td>\n",
       "      <td>42</td>\n",
       "      <td>1728</td>\n",
       "    </tr>\n",
       "    <tr>\n",
       "      <th>2018-06-03</th>\n",
       "      <td>0.033404</td>\n",
       "      <td>0.745515</td>\n",
       "      <td>0.747330</td>\n",
       "      <td>1.832234</td>\n",
       "      <td>0.994273</td>\n",
       "      <td>42</td>\n",
       "      <td>2197</td>\n",
       "    </tr>\n",
       "    <tr>\n",
       "      <th>2018-06-04</th>\n",
       "      <td>-1.542179</td>\n",
       "      <td>-0.351402</td>\n",
       "      <td>0.684558</td>\n",
       "      <td>0.328971</td>\n",
       "      <td>0.909095</td>\n",
       "      <td>42</td>\n",
       "      <td>2744</td>\n",
       "    </tr>\n",
       "  </tbody>\n",
       "</table>\n",
       "</div>"
      ],
      "text/plain": [
       "                   A         B         C         D         E   F     G\n",
       "2018-05-21  2.411367  1.001082 -0.928356  1.333074 -0.371876  42     0\n",
       "2018-05-22 -0.173307 -2.044234 -0.754022  0.807121  0.238263  42     1\n",
       "2018-05-23 -0.019301  0.631000 -1.311873  0.650926 -0.564461  42     8\n",
       "2018-05-24 -0.985660 -0.808382 -0.007423  0.481543 -0.223927  42    27\n",
       "2018-05-25  0.370605 -0.513072  0.726219  0.402066 -0.359988  42    64\n",
       "2018-05-26 -0.907068  1.055247  1.044955 -1.493684  0.435338  42   125\n",
       "2018-05-27  0.501680 -1.584615  0.190019 -0.051159 -0.094710  42   216\n",
       "2018-05-28  1.200590  0.377923  0.725378  2.263787 -1.231227  42   343\n",
       "2018-05-29 -1.315397 -0.374119 -1.068247 -0.323383  0.824601  42   512\n",
       "2018-05-30 -1.291155 -0.860900 -1.371145 -0.106230  0.191995  42   729\n",
       "2018-05-31  0.121297  0.945801 -0.552688 -0.793649 -1.777031  42  1000\n",
       "2018-06-01 -0.437262  0.398400 -1.378436  0.887732 -0.924418  42  1331\n",
       "2018-06-02  0.337919 -1.296314  1.810035 -0.700819  0.402370  42  1728\n",
       "2018-06-03  0.033404  0.745515  0.747330  1.832234  0.994273  42  2197\n",
       "2018-06-04 -1.542179 -0.351402  0.684558  0.328971  0.909095  42  2744"
      ]
     },
     "execution_count": 297,
     "metadata": {},
     "output_type": "execute_result"
    }
   ],
   "source": [
    "df['G']=[x**3 for x in range(15)] # passing a fresh list to particular column\n",
    "df"
   ]
  },
  {
   "cell_type": "code",
   "execution_count": 298,
   "metadata": {},
   "outputs": [
    {
     "data": {
      "text/html": [
       "<div>\n",
       "<style scoped>\n",
       "    .dataframe tbody tr th:only-of-type {\n",
       "        vertical-align: middle;\n",
       "    }\n",
       "\n",
       "    .dataframe tbody tr th {\n",
       "        vertical-align: top;\n",
       "    }\n",
       "\n",
       "    .dataframe thead th {\n",
       "        text-align: right;\n",
       "    }\n",
       "</style>\n",
       "<table border=\"1\" class=\"dataframe\">\n",
       "  <thead>\n",
       "    <tr style=\"text-align: right;\">\n",
       "      <th></th>\n",
       "      <th>A</th>\n",
       "      <th>B</th>\n",
       "      <th>C</th>\n",
       "      <th>D</th>\n",
       "      <th>E</th>\n",
       "      <th>F</th>\n",
       "      <th>G</th>\n",
       "    </tr>\n",
       "  </thead>\n",
       "  <tbody>\n",
       "    <tr>\n",
       "      <th>2018-05-21</th>\n",
       "      <td>2.411367</td>\n",
       "      <td>1.001082</td>\n",
       "      <td>-0.928356</td>\n",
       "      <td>1.333074</td>\n",
       "      <td>-0.371876</td>\n",
       "      <td>42</td>\n",
       "      <td>0</td>\n",
       "    </tr>\n",
       "    <tr>\n",
       "      <th>2018-05-22</th>\n",
       "      <td>33.000000</td>\n",
       "      <td>-2.044234</td>\n",
       "      <td>-0.754022</td>\n",
       "      <td>0.807121</td>\n",
       "      <td>0.238263</td>\n",
       "      <td>42</td>\n",
       "      <td>1</td>\n",
       "    </tr>\n",
       "    <tr>\n",
       "      <th>2018-05-23</th>\n",
       "      <td>-0.019301</td>\n",
       "      <td>0.631000</td>\n",
       "      <td>-1.311873</td>\n",
       "      <td>0.650926</td>\n",
       "      <td>-0.564461</td>\n",
       "      <td>42</td>\n",
       "      <td>8</td>\n",
       "    </tr>\n",
       "    <tr>\n",
       "      <th>2018-05-24</th>\n",
       "      <td>-0.985660</td>\n",
       "      <td>-0.808382</td>\n",
       "      <td>-0.007423</td>\n",
       "      <td>0.481543</td>\n",
       "      <td>-0.223927</td>\n",
       "      <td>42</td>\n",
       "      <td>27</td>\n",
       "    </tr>\n",
       "    <tr>\n",
       "      <th>2018-05-25</th>\n",
       "      <td>0.370605</td>\n",
       "      <td>-0.513072</td>\n",
       "      <td>0.726219</td>\n",
       "      <td>0.402066</td>\n",
       "      <td>-0.359988</td>\n",
       "      <td>42</td>\n",
       "      <td>64</td>\n",
       "    </tr>\n",
       "    <tr>\n",
       "      <th>2018-05-26</th>\n",
       "      <td>-0.907068</td>\n",
       "      <td>1.055247</td>\n",
       "      <td>1.044955</td>\n",
       "      <td>-1.493684</td>\n",
       "      <td>0.435338</td>\n",
       "      <td>42</td>\n",
       "      <td>125</td>\n",
       "    </tr>\n",
       "    <tr>\n",
       "      <th>2018-05-27</th>\n",
       "      <td>0.501680</td>\n",
       "      <td>-1.584615</td>\n",
       "      <td>0.190019</td>\n",
       "      <td>-0.051159</td>\n",
       "      <td>-0.094710</td>\n",
       "      <td>42</td>\n",
       "      <td>216</td>\n",
       "    </tr>\n",
       "    <tr>\n",
       "      <th>2018-05-28</th>\n",
       "      <td>1.200590</td>\n",
       "      <td>0.377923</td>\n",
       "      <td>0.725378</td>\n",
       "      <td>2.263787</td>\n",
       "      <td>-1.231227</td>\n",
       "      <td>42</td>\n",
       "      <td>343</td>\n",
       "    </tr>\n",
       "    <tr>\n",
       "      <th>2018-05-29</th>\n",
       "      <td>-1.315397</td>\n",
       "      <td>-0.374119</td>\n",
       "      <td>-1.068247</td>\n",
       "      <td>-0.323383</td>\n",
       "      <td>0.824601</td>\n",
       "      <td>42</td>\n",
       "      <td>512</td>\n",
       "    </tr>\n",
       "    <tr>\n",
       "      <th>2018-05-30</th>\n",
       "      <td>-1.291155</td>\n",
       "      <td>-0.860900</td>\n",
       "      <td>-1.371145</td>\n",
       "      <td>-0.106230</td>\n",
       "      <td>0.191995</td>\n",
       "      <td>42</td>\n",
       "      <td>729</td>\n",
       "    </tr>\n",
       "    <tr>\n",
       "      <th>2018-05-31</th>\n",
       "      <td>0.121297</td>\n",
       "      <td>0.945801</td>\n",
       "      <td>-0.552688</td>\n",
       "      <td>-0.793649</td>\n",
       "      <td>-1.777031</td>\n",
       "      <td>42</td>\n",
       "      <td>1000</td>\n",
       "    </tr>\n",
       "    <tr>\n",
       "      <th>2018-06-01</th>\n",
       "      <td>-0.437262</td>\n",
       "      <td>0.398400</td>\n",
       "      <td>-1.378436</td>\n",
       "      <td>0.887732</td>\n",
       "      <td>-0.924418</td>\n",
       "      <td>42</td>\n",
       "      <td>1331</td>\n",
       "    </tr>\n",
       "    <tr>\n",
       "      <th>2018-06-02</th>\n",
       "      <td>0.337919</td>\n",
       "      <td>-1.296314</td>\n",
       "      <td>1.810035</td>\n",
       "      <td>-0.700819</td>\n",
       "      <td>0.402370</td>\n",
       "      <td>42</td>\n",
       "      <td>1728</td>\n",
       "    </tr>\n",
       "    <tr>\n",
       "      <th>2018-06-03</th>\n",
       "      <td>0.033404</td>\n",
       "      <td>0.745515</td>\n",
       "      <td>0.747330</td>\n",
       "      <td>1.832234</td>\n",
       "      <td>0.994273</td>\n",
       "      <td>42</td>\n",
       "      <td>2197</td>\n",
       "    </tr>\n",
       "    <tr>\n",
       "      <th>2018-06-04</th>\n",
       "      <td>-1.542179</td>\n",
       "      <td>-0.351402</td>\n",
       "      <td>0.684558</td>\n",
       "      <td>0.328971</td>\n",
       "      <td>0.909095</td>\n",
       "      <td>42</td>\n",
       "      <td>2744</td>\n",
       "    </tr>\n",
       "  </tbody>\n",
       "</table>\n",
       "</div>"
      ],
      "text/plain": [
       "                    A         B         C         D         E   F     G\n",
       "2018-05-21   2.411367  1.001082 -0.928356  1.333074 -0.371876  42     0\n",
       "2018-05-22  33.000000 -2.044234 -0.754022  0.807121  0.238263  42     1\n",
       "2018-05-23  -0.019301  0.631000 -1.311873  0.650926 -0.564461  42     8\n",
       "2018-05-24  -0.985660 -0.808382 -0.007423  0.481543 -0.223927  42    27\n",
       "2018-05-25   0.370605 -0.513072  0.726219  0.402066 -0.359988  42    64\n",
       "2018-05-26  -0.907068  1.055247  1.044955 -1.493684  0.435338  42   125\n",
       "2018-05-27   0.501680 -1.584615  0.190019 -0.051159 -0.094710  42   216\n",
       "2018-05-28   1.200590  0.377923  0.725378  2.263787 -1.231227  42   343\n",
       "2018-05-29  -1.315397 -0.374119 -1.068247 -0.323383  0.824601  42   512\n",
       "2018-05-30  -1.291155 -0.860900 -1.371145 -0.106230  0.191995  42   729\n",
       "2018-05-31   0.121297  0.945801 -0.552688 -0.793649 -1.777031  42  1000\n",
       "2018-06-01  -0.437262  0.398400 -1.378436  0.887732 -0.924418  42  1331\n",
       "2018-06-02   0.337919 -1.296314  1.810035 -0.700819  0.402370  42  1728\n",
       "2018-06-03   0.033404  0.745515  0.747330  1.832234  0.994273  42  2197\n",
       "2018-06-04  -1.542179 -0.351402  0.684558  0.328971  0.909095  42  2744"
      ]
     },
     "execution_count": 298,
     "metadata": {},
     "output_type": "execute_result"
    }
   ],
   "source": [
    "df.at[dates[1], 'A'] = 33\n",
    "df"
   ]
  },
  {
   "cell_type": "code",
   "execution_count": 299,
   "metadata": {},
   "outputs": [
    {
     "data": {
      "text/html": [
       "<div>\n",
       "<style scoped>\n",
       "    .dataframe tbody tr th:only-of-type {\n",
       "        vertical-align: middle;\n",
       "    }\n",
       "\n",
       "    .dataframe tbody tr th {\n",
       "        vertical-align: top;\n",
       "    }\n",
       "\n",
       "    .dataframe thead th {\n",
       "        text-align: right;\n",
       "    }\n",
       "</style>\n",
       "<table border=\"1\" class=\"dataframe\">\n",
       "  <thead>\n",
       "    <tr style=\"text-align: right;\">\n",
       "      <th></th>\n",
       "      <th>A</th>\n",
       "      <th>B</th>\n",
       "      <th>C</th>\n",
       "      <th>D</th>\n",
       "      <th>E</th>\n",
       "      <th>F</th>\n",
       "      <th>G</th>\n",
       "    </tr>\n",
       "  </thead>\n",
       "  <tbody>\n",
       "    <tr>\n",
       "      <th>2018-05-21</th>\n",
       "      <td>2.411367</td>\n",
       "      <td>1.001082</td>\n",
       "      <td>-0.928356</td>\n",
       "      <td>1.333074</td>\n",
       "      <td>-0.371876</td>\n",
       "      <td>42</td>\n",
       "      <td>0</td>\n",
       "    </tr>\n",
       "    <tr>\n",
       "      <th>2018-05-22</th>\n",
       "      <td>33.000000</td>\n",
       "      <td>-2.044234</td>\n",
       "      <td>-0.754022</td>\n",
       "      <td>0.807121</td>\n",
       "      <td>0.238263</td>\n",
       "      <td>42</td>\n",
       "      <td>1</td>\n",
       "    </tr>\n",
       "    <tr>\n",
       "      <th>2018-05-23</th>\n",
       "      <td>-0.019301</td>\n",
       "      <td>0.631000</td>\n",
       "      <td>-1.311873</td>\n",
       "      <td>0.650926</td>\n",
       "      <td>-0.564461</td>\n",
       "      <td>42</td>\n",
       "      <td>8</td>\n",
       "    </tr>\n",
       "    <tr>\n",
       "      <th>2018-05-24</th>\n",
       "      <td>-0.985660</td>\n",
       "      <td>-0.808382</td>\n",
       "      <td>-0.007423</td>\n",
       "      <td>0.481543</td>\n",
       "      <td>-0.223927</td>\n",
       "      <td>42</td>\n",
       "      <td>27</td>\n",
       "    </tr>\n",
       "    <tr>\n",
       "      <th>2018-05-25</th>\n",
       "      <td>0.370605</td>\n",
       "      <td>-0.513072</td>\n",
       "      <td>0.726219</td>\n",
       "      <td>0.402066</td>\n",
       "      <td>42.000000</td>\n",
       "      <td>42</td>\n",
       "      <td>64</td>\n",
       "    </tr>\n",
       "    <tr>\n",
       "      <th>2018-05-26</th>\n",
       "      <td>-0.907068</td>\n",
       "      <td>1.055247</td>\n",
       "      <td>1.044955</td>\n",
       "      <td>-1.493684</td>\n",
       "      <td>0.435338</td>\n",
       "      <td>42</td>\n",
       "      <td>125</td>\n",
       "    </tr>\n",
       "    <tr>\n",
       "      <th>2018-05-27</th>\n",
       "      <td>0.501680</td>\n",
       "      <td>-1.584615</td>\n",
       "      <td>0.190019</td>\n",
       "      <td>-0.051159</td>\n",
       "      <td>-0.094710</td>\n",
       "      <td>42</td>\n",
       "      <td>216</td>\n",
       "    </tr>\n",
       "    <tr>\n",
       "      <th>2018-05-28</th>\n",
       "      <td>1.200590</td>\n",
       "      <td>0.377923</td>\n",
       "      <td>0.725378</td>\n",
       "      <td>2.263787</td>\n",
       "      <td>-1.231227</td>\n",
       "      <td>42</td>\n",
       "      <td>343</td>\n",
       "    </tr>\n",
       "    <tr>\n",
       "      <th>2018-05-29</th>\n",
       "      <td>-1.315397</td>\n",
       "      <td>-0.374119</td>\n",
       "      <td>-1.068247</td>\n",
       "      <td>-0.323383</td>\n",
       "      <td>0.824601</td>\n",
       "      <td>42</td>\n",
       "      <td>512</td>\n",
       "    </tr>\n",
       "    <tr>\n",
       "      <th>2018-05-30</th>\n",
       "      <td>-1.291155</td>\n",
       "      <td>-0.860900</td>\n",
       "      <td>-1.371145</td>\n",
       "      <td>-0.106230</td>\n",
       "      <td>0.191995</td>\n",
       "      <td>42</td>\n",
       "      <td>729</td>\n",
       "    </tr>\n",
       "    <tr>\n",
       "      <th>2018-05-31</th>\n",
       "      <td>0.121297</td>\n",
       "      <td>0.945801</td>\n",
       "      <td>-0.552688</td>\n",
       "      <td>-0.793649</td>\n",
       "      <td>-1.777031</td>\n",
       "      <td>42</td>\n",
       "      <td>1000</td>\n",
       "    </tr>\n",
       "    <tr>\n",
       "      <th>2018-06-01</th>\n",
       "      <td>-0.437262</td>\n",
       "      <td>0.398400</td>\n",
       "      <td>-1.378436</td>\n",
       "      <td>0.887732</td>\n",
       "      <td>-0.924418</td>\n",
       "      <td>42</td>\n",
       "      <td>1331</td>\n",
       "    </tr>\n",
       "    <tr>\n",
       "      <th>2018-06-02</th>\n",
       "      <td>0.337919</td>\n",
       "      <td>-1.296314</td>\n",
       "      <td>1.810035</td>\n",
       "      <td>-0.700819</td>\n",
       "      <td>0.402370</td>\n",
       "      <td>42</td>\n",
       "      <td>1728</td>\n",
       "    </tr>\n",
       "    <tr>\n",
       "      <th>2018-06-03</th>\n",
       "      <td>0.033404</td>\n",
       "      <td>0.745515</td>\n",
       "      <td>0.747330</td>\n",
       "      <td>1.832234</td>\n",
       "      <td>0.994273</td>\n",
       "      <td>42</td>\n",
       "      <td>2197</td>\n",
       "    </tr>\n",
       "    <tr>\n",
       "      <th>2018-06-04</th>\n",
       "      <td>-1.542179</td>\n",
       "      <td>-0.351402</td>\n",
       "      <td>0.684558</td>\n",
       "      <td>0.328971</td>\n",
       "      <td>0.909095</td>\n",
       "      <td>42</td>\n",
       "      <td>2744</td>\n",
       "    </tr>\n",
       "  </tbody>\n",
       "</table>\n",
       "</div>"
      ],
      "text/plain": [
       "                    A         B         C         D          E   F     G\n",
       "2018-05-21   2.411367  1.001082 -0.928356  1.333074  -0.371876  42     0\n",
       "2018-05-22  33.000000 -2.044234 -0.754022  0.807121   0.238263  42     1\n",
       "2018-05-23  -0.019301  0.631000 -1.311873  0.650926  -0.564461  42     8\n",
       "2018-05-24  -0.985660 -0.808382 -0.007423  0.481543  -0.223927  42    27\n",
       "2018-05-25   0.370605 -0.513072  0.726219  0.402066  42.000000  42    64\n",
       "2018-05-26  -0.907068  1.055247  1.044955 -1.493684   0.435338  42   125\n",
       "2018-05-27   0.501680 -1.584615  0.190019 -0.051159  -0.094710  42   216\n",
       "2018-05-28   1.200590  0.377923  0.725378  2.263787  -1.231227  42   343\n",
       "2018-05-29  -1.315397 -0.374119 -1.068247 -0.323383   0.824601  42   512\n",
       "2018-05-30  -1.291155 -0.860900 -1.371145 -0.106230   0.191995  42   729\n",
       "2018-05-31   0.121297  0.945801 -0.552688 -0.793649  -1.777031  42  1000\n",
       "2018-06-01  -0.437262  0.398400 -1.378436  0.887732  -0.924418  42  1331\n",
       "2018-06-02   0.337919 -1.296314  1.810035 -0.700819   0.402370  42  1728\n",
       "2018-06-03   0.033404  0.745515  0.747330  1.832234   0.994273  42  2197\n",
       "2018-06-04  -1.542179 -0.351402  0.684558  0.328971   0.909095  42  2744"
      ]
     },
     "execution_count": 299,
     "metadata": {},
     "output_type": "execute_result"
    }
   ],
   "source": [
    "df.iat[4,4]= 42\n",
    "df"
   ]
  },
  {
   "cell_type": "code",
   "execution_count": 300,
   "metadata": {},
   "outputs": [
    {
     "data": {
      "text/html": [
       "<div>\n",
       "<style scoped>\n",
       "    .dataframe tbody tr th:only-of-type {\n",
       "        vertical-align: middle;\n",
       "    }\n",
       "\n",
       "    .dataframe tbody tr th {\n",
       "        vertical-align: top;\n",
       "    }\n",
       "\n",
       "    .dataframe thead th {\n",
       "        text-align: right;\n",
       "    }\n",
       "</style>\n",
       "<table border=\"1\" class=\"dataframe\">\n",
       "  <thead>\n",
       "    <tr style=\"text-align: right;\">\n",
       "      <th></th>\n",
       "      <th>A</th>\n",
       "      <th>B</th>\n",
       "      <th>C</th>\n",
       "      <th>D</th>\n",
       "      <th>E</th>\n",
       "      <th>F</th>\n",
       "      <th>G</th>\n",
       "    </tr>\n",
       "  </thead>\n",
       "  <tbody>\n",
       "    <tr>\n",
       "      <th>2018-05-21</th>\n",
       "      <td>2.411367</td>\n",
       "      <td>1.001082</td>\n",
       "      <td>-0.928356</td>\n",
       "      <td>1.333074</td>\n",
       "      <td>-0.371876</td>\n",
       "      <td>42</td>\n",
       "      <td>0</td>\n",
       "    </tr>\n",
       "    <tr>\n",
       "      <th>2018-05-22</th>\n",
       "      <td>33.000000</td>\n",
       "      <td>-2.044234</td>\n",
       "      <td>-0.754022</td>\n",
       "      <td>0.807121</td>\n",
       "      <td>0.238263</td>\n",
       "      <td>42</td>\n",
       "      <td>1</td>\n",
       "    </tr>\n",
       "    <tr>\n",
       "      <th>2018-05-23</th>\n",
       "      <td>-0.019301</td>\n",
       "      <td>0.631000</td>\n",
       "      <td>-1.311873</td>\n",
       "      <td>0.650926</td>\n",
       "      <td>-0.564461</td>\n",
       "      <td>42</td>\n",
       "      <td>8</td>\n",
       "    </tr>\n",
       "    <tr>\n",
       "      <th>2018-05-24</th>\n",
       "      <td>-0.985660</td>\n",
       "      <td>-0.808382</td>\n",
       "      <td>-0.007423</td>\n",
       "      <td>0.481543</td>\n",
       "      <td>-0.223927</td>\n",
       "      <td>42</td>\n",
       "      <td>27</td>\n",
       "    </tr>\n",
       "    <tr>\n",
       "      <th>2018-05-25</th>\n",
       "      <td>0.370605</td>\n",
       "      <td>-0.513072</td>\n",
       "      <td>0.726219</td>\n",
       "      <td>0.402066</td>\n",
       "      <td>42.000000</td>\n",
       "      <td>42</td>\n",
       "      <td>64</td>\n",
       "    </tr>\n",
       "    <tr>\n",
       "      <th>2018-05-26</th>\n",
       "      <td>-0.907068</td>\n",
       "      <td>1.055247</td>\n",
       "      <td>1.044955</td>\n",
       "      <td>-1.493684</td>\n",
       "      <td>0.435338</td>\n",
       "      <td>42</td>\n",
       "      <td>125</td>\n",
       "    </tr>\n",
       "    <tr>\n",
       "      <th>2018-05-27</th>\n",
       "      <td>0.501680</td>\n",
       "      <td>-1.584615</td>\n",
       "      <td>0.190019</td>\n",
       "      <td>-0.051159</td>\n",
       "      <td>-0.094710</td>\n",
       "      <td>42</td>\n",
       "      <td>216</td>\n",
       "    </tr>\n",
       "    <tr>\n",
       "      <th>2018-05-28</th>\n",
       "      <td>1.200590</td>\n",
       "      <td>0.377923</td>\n",
       "      <td>0.725378</td>\n",
       "      <td>2.263787</td>\n",
       "      <td>-1.231227</td>\n",
       "      <td>42</td>\n",
       "      <td>343</td>\n",
       "    </tr>\n",
       "    <tr>\n",
       "      <th>2018-05-29</th>\n",
       "      <td>-1.315397</td>\n",
       "      <td>-0.374119</td>\n",
       "      <td>-1.068247</td>\n",
       "      <td>-0.323383</td>\n",
       "      <td>0.824601</td>\n",
       "      <td>42</td>\n",
       "      <td>512</td>\n",
       "    </tr>\n",
       "    <tr>\n",
       "      <th>2018-05-30</th>\n",
       "      <td>-1.291155</td>\n",
       "      <td>-0.860900</td>\n",
       "      <td>-1.371145</td>\n",
       "      <td>-0.106230</td>\n",
       "      <td>0.191995</td>\n",
       "      <td>42</td>\n",
       "      <td>729</td>\n",
       "    </tr>\n",
       "    <tr>\n",
       "      <th>2018-05-31</th>\n",
       "      <td>0.121297</td>\n",
       "      <td>0.945801</td>\n",
       "      <td>-0.552688</td>\n",
       "      <td>-0.793649</td>\n",
       "      <td>-1.777031</td>\n",
       "      <td>42</td>\n",
       "      <td>1000</td>\n",
       "    </tr>\n",
       "    <tr>\n",
       "      <th>2018-06-01</th>\n",
       "      <td>-0.437262</td>\n",
       "      <td>0.398400</td>\n",
       "      <td>-1.378436</td>\n",
       "      <td>0.887732</td>\n",
       "      <td>-0.924418</td>\n",
       "      <td>42</td>\n",
       "      <td>1331</td>\n",
       "    </tr>\n",
       "    <tr>\n",
       "      <th>2018-06-02</th>\n",
       "      <td>0.337919</td>\n",
       "      <td>-1.296314</td>\n",
       "      <td>1.810035</td>\n",
       "      <td>-0.700819</td>\n",
       "      <td>0.402370</td>\n",
       "      <td>42</td>\n",
       "      <td>1728</td>\n",
       "    </tr>\n",
       "    <tr>\n",
       "      <th>2018-06-03</th>\n",
       "      <td>0.033404</td>\n",
       "      <td>0.745515</td>\n",
       "      <td>0.747330</td>\n",
       "      <td>1.832234</td>\n",
       "      <td>0.994273</td>\n",
       "      <td>42</td>\n",
       "      <td>2197</td>\n",
       "    </tr>\n",
       "    <tr>\n",
       "      <th>2018-06-04</th>\n",
       "      <td>-1.542179</td>\n",
       "      <td>-0.351402</td>\n",
       "      <td>0.684558</td>\n",
       "      <td>0.328971</td>\n",
       "      <td>0.909095</td>\n",
       "      <td>42</td>\n",
       "      <td>2744</td>\n",
       "    </tr>\n",
       "  </tbody>\n",
       "</table>\n",
       "</div>"
      ],
      "text/plain": [
       "                    A         B         C         D          E   F     G\n",
       "2018-05-21   2.411367  1.001082 -0.928356  1.333074  -0.371876  42     0\n",
       "2018-05-22  33.000000 -2.044234 -0.754022  0.807121   0.238263  42     1\n",
       "2018-05-23  -0.019301  0.631000 -1.311873  0.650926  -0.564461  42     8\n",
       "2018-05-24  -0.985660 -0.808382 -0.007423  0.481543  -0.223927  42    27\n",
       "2018-05-25   0.370605 -0.513072  0.726219  0.402066  42.000000  42    64\n",
       "2018-05-26  -0.907068  1.055247  1.044955 -1.493684   0.435338  42   125\n",
       "2018-05-27   0.501680 -1.584615  0.190019 -0.051159  -0.094710  42   216\n",
       "2018-05-28   1.200590  0.377923  0.725378  2.263787  -1.231227  42   343\n",
       "2018-05-29  -1.315397 -0.374119 -1.068247 -0.323383   0.824601  42   512\n",
       "2018-05-30  -1.291155 -0.860900 -1.371145 -0.106230   0.191995  42   729\n",
       "2018-05-31   0.121297  0.945801 -0.552688 -0.793649  -1.777031  42  1000\n",
       "2018-06-01  -0.437262  0.398400 -1.378436  0.887732  -0.924418  42  1331\n",
       "2018-06-02   0.337919 -1.296314  1.810035 -0.700819   0.402370  42  1728\n",
       "2018-06-03   0.033404  0.745515  0.747330  1.832234   0.994273  42  2197\n",
       "2018-06-04  -1.542179 -0.351402  0.684558  0.328971   0.909095  42  2744"
      ]
     },
     "execution_count": 300,
     "metadata": {},
     "output_type": "execute_result"
    }
   ],
   "source": [
    "df3 = df.copy()\n",
    "df3"
   ]
  },
  {
   "cell_type": "code",
   "execution_count": 301,
   "metadata": {},
   "outputs": [
    {
     "data": {
      "text/html": [
       "<div>\n",
       "<style scoped>\n",
       "    .dataframe tbody tr th:only-of-type {\n",
       "        vertical-align: middle;\n",
       "    }\n",
       "\n",
       "    .dataframe tbody tr th {\n",
       "        vertical-align: top;\n",
       "    }\n",
       "\n",
       "    .dataframe thead th {\n",
       "        text-align: right;\n",
       "    }\n",
       "</style>\n",
       "<table border=\"1\" class=\"dataframe\">\n",
       "  <thead>\n",
       "    <tr style=\"text-align: right;\">\n",
       "      <th></th>\n",
       "      <th>A</th>\n",
       "      <th>B</th>\n",
       "      <th>C</th>\n",
       "      <th>D</th>\n",
       "      <th>E</th>\n",
       "      <th>F</th>\n",
       "      <th>G</th>\n",
       "    </tr>\n",
       "  </thead>\n",
       "  <tbody>\n",
       "    <tr>\n",
       "      <th>2018-05-21</th>\n",
       "      <td>-2.411367</td>\n",
       "      <td>-1.001082</td>\n",
       "      <td>-0.928356</td>\n",
       "      <td>-1.333074</td>\n",
       "      <td>-0.371876</td>\n",
       "      <td>-42</td>\n",
       "      <td>0</td>\n",
       "    </tr>\n",
       "    <tr>\n",
       "      <th>2018-05-22</th>\n",
       "      <td>-33.000000</td>\n",
       "      <td>-2.044234</td>\n",
       "      <td>-0.754022</td>\n",
       "      <td>-0.807121</td>\n",
       "      <td>-0.238263</td>\n",
       "      <td>-42</td>\n",
       "      <td>-1</td>\n",
       "    </tr>\n",
       "    <tr>\n",
       "      <th>2018-05-23</th>\n",
       "      <td>-0.019301</td>\n",
       "      <td>-0.631000</td>\n",
       "      <td>-1.311873</td>\n",
       "      <td>-0.650926</td>\n",
       "      <td>-0.564461</td>\n",
       "      <td>-42</td>\n",
       "      <td>-8</td>\n",
       "    </tr>\n",
       "    <tr>\n",
       "      <th>2018-05-24</th>\n",
       "      <td>-0.985660</td>\n",
       "      <td>-0.808382</td>\n",
       "      <td>-0.007423</td>\n",
       "      <td>-0.481543</td>\n",
       "      <td>-0.223927</td>\n",
       "      <td>-42</td>\n",
       "      <td>-27</td>\n",
       "    </tr>\n",
       "    <tr>\n",
       "      <th>2018-05-25</th>\n",
       "      <td>-0.370605</td>\n",
       "      <td>-0.513072</td>\n",
       "      <td>-0.726219</td>\n",
       "      <td>-0.402066</td>\n",
       "      <td>-42.000000</td>\n",
       "      <td>-42</td>\n",
       "      <td>-64</td>\n",
       "    </tr>\n",
       "    <tr>\n",
       "      <th>2018-05-26</th>\n",
       "      <td>-0.907068</td>\n",
       "      <td>-1.055247</td>\n",
       "      <td>-1.044955</td>\n",
       "      <td>-1.493684</td>\n",
       "      <td>-0.435338</td>\n",
       "      <td>-42</td>\n",
       "      <td>-125</td>\n",
       "    </tr>\n",
       "    <tr>\n",
       "      <th>2018-05-27</th>\n",
       "      <td>-0.501680</td>\n",
       "      <td>-1.584615</td>\n",
       "      <td>0.190019</td>\n",
       "      <td>-0.051159</td>\n",
       "      <td>-0.094710</td>\n",
       "      <td>-42</td>\n",
       "      <td>-216</td>\n",
       "    </tr>\n",
       "    <tr>\n",
       "      <th>2018-05-28</th>\n",
       "      <td>-1.200590</td>\n",
       "      <td>-0.377923</td>\n",
       "      <td>-0.725378</td>\n",
       "      <td>-2.263787</td>\n",
       "      <td>-1.231227</td>\n",
       "      <td>-42</td>\n",
       "      <td>-343</td>\n",
       "    </tr>\n",
       "    <tr>\n",
       "      <th>2018-05-29</th>\n",
       "      <td>-1.315397</td>\n",
       "      <td>-0.374119</td>\n",
       "      <td>-1.068247</td>\n",
       "      <td>-0.323383</td>\n",
       "      <td>-0.824601</td>\n",
       "      <td>-42</td>\n",
       "      <td>-512</td>\n",
       "    </tr>\n",
       "    <tr>\n",
       "      <th>2018-05-30</th>\n",
       "      <td>-1.291155</td>\n",
       "      <td>-0.860900</td>\n",
       "      <td>-1.371145</td>\n",
       "      <td>-0.106230</td>\n",
       "      <td>0.191995</td>\n",
       "      <td>-42</td>\n",
       "      <td>-729</td>\n",
       "    </tr>\n",
       "    <tr>\n",
       "      <th>2018-05-31</th>\n",
       "      <td>0.121297</td>\n",
       "      <td>-0.945801</td>\n",
       "      <td>-0.552688</td>\n",
       "      <td>-0.793649</td>\n",
       "      <td>-1.777031</td>\n",
       "      <td>-42</td>\n",
       "      <td>-1000</td>\n",
       "    </tr>\n",
       "    <tr>\n",
       "      <th>2018-06-01</th>\n",
       "      <td>-0.437262</td>\n",
       "      <td>-0.398400</td>\n",
       "      <td>-1.378436</td>\n",
       "      <td>-0.887732</td>\n",
       "      <td>-0.924418</td>\n",
       "      <td>-42</td>\n",
       "      <td>-1331</td>\n",
       "    </tr>\n",
       "    <tr>\n",
       "      <th>2018-06-02</th>\n",
       "      <td>-0.337919</td>\n",
       "      <td>-1.296314</td>\n",
       "      <td>-1.810035</td>\n",
       "      <td>-0.700819</td>\n",
       "      <td>-0.402370</td>\n",
       "      <td>-42</td>\n",
       "      <td>-1728</td>\n",
       "    </tr>\n",
       "    <tr>\n",
       "      <th>2018-06-03</th>\n",
       "      <td>0.033404</td>\n",
       "      <td>-0.745515</td>\n",
       "      <td>-0.747330</td>\n",
       "      <td>-1.832234</td>\n",
       "      <td>-0.994273</td>\n",
       "      <td>-42</td>\n",
       "      <td>-2197</td>\n",
       "    </tr>\n",
       "    <tr>\n",
       "      <th>2018-06-04</th>\n",
       "      <td>-1.542179</td>\n",
       "      <td>-0.351402</td>\n",
       "      <td>-0.684558</td>\n",
       "      <td>-0.328971</td>\n",
       "      <td>-0.909095</td>\n",
       "      <td>-42</td>\n",
       "      <td>-2744</td>\n",
       "    </tr>\n",
       "  </tbody>\n",
       "</table>\n",
       "</div>"
      ],
      "text/plain": [
       "                    A         B         C         D          E   F     G\n",
       "2018-05-21  -2.411367 -1.001082 -0.928356 -1.333074  -0.371876 -42     0\n",
       "2018-05-22 -33.000000 -2.044234 -0.754022 -0.807121  -0.238263 -42    -1\n",
       "2018-05-23  -0.019301 -0.631000 -1.311873 -0.650926  -0.564461 -42    -8\n",
       "2018-05-24  -0.985660 -0.808382 -0.007423 -0.481543  -0.223927 -42   -27\n",
       "2018-05-25  -0.370605 -0.513072 -0.726219 -0.402066 -42.000000 -42   -64\n",
       "2018-05-26  -0.907068 -1.055247 -1.044955 -1.493684  -0.435338 -42  -125\n",
       "2018-05-27  -0.501680 -1.584615  0.190019 -0.051159  -0.094710 -42  -216\n",
       "2018-05-28  -1.200590 -0.377923 -0.725378 -2.263787  -1.231227 -42  -343\n",
       "2018-05-29  -1.315397 -0.374119 -1.068247 -0.323383  -0.824601 -42  -512\n",
       "2018-05-30  -1.291155 -0.860900 -1.371145 -0.106230   0.191995 -42  -729\n",
       "2018-05-31   0.121297 -0.945801 -0.552688 -0.793649  -1.777031 -42 -1000\n",
       "2018-06-01  -0.437262 -0.398400 -1.378436 -0.887732  -0.924418 -42 -1331\n",
       "2018-06-02  -0.337919 -1.296314 -1.810035 -0.700819  -0.402370 -42 -1728\n",
       "2018-06-03   0.033404 -0.745515 -0.747330 -1.832234  -0.994273 -42 -2197\n",
       "2018-06-04  -1.542179 -0.351402 -0.684558 -0.328971  -0.909095 -42 -2744"
      ]
     },
     "execution_count": 301,
     "metadata": {},
     "output_type": "execute_result"
    }
   ],
   "source": [
    "df3[df3 > 0.2 ] = -df3\n",
    "df3"
   ]
  },
  {
   "cell_type": "code",
   "execution_count": 302,
   "metadata": {},
   "outputs": [],
   "source": [
    "# Missing Data\n",
    "# pandas primarily uses the value np.nan to represent missing data. It is by default not included in computations"
   ]
  },
  {
   "cell_type": "code",
   "execution_count": 303,
   "metadata": {},
   "outputs": [
    {
     "data": {
      "text/html": [
       "<div>\n",
       "<style scoped>\n",
       "    .dataframe tbody tr th:only-of-type {\n",
       "        vertical-align: middle;\n",
       "    }\n",
       "\n",
       "    .dataframe tbody tr th {\n",
       "        vertical-align: top;\n",
       "    }\n",
       "\n",
       "    .dataframe thead th {\n",
       "        text-align: right;\n",
       "    }\n",
       "</style>\n",
       "<table border=\"1\" class=\"dataframe\">\n",
       "  <thead>\n",
       "    <tr style=\"text-align: right;\">\n",
       "      <th></th>\n",
       "      <th>A</th>\n",
       "      <th>B</th>\n",
       "      <th>C</th>\n",
       "      <th>D</th>\n",
       "      <th>E</th>\n",
       "      <th>F</th>\n",
       "      <th>G</th>\n",
       "      <th>H</th>\n",
       "    </tr>\n",
       "  </thead>\n",
       "  <tbody>\n",
       "    <tr>\n",
       "      <th>2018-05-21</th>\n",
       "      <td>2.411367</td>\n",
       "      <td>1.001082</td>\n",
       "      <td>-0.928356</td>\n",
       "      <td>1.333074</td>\n",
       "      <td>-0.371876</td>\n",
       "      <td>42</td>\n",
       "      <td>0</td>\n",
       "      <td>NaN</td>\n",
       "    </tr>\n",
       "    <tr>\n",
       "      <th>2018-05-22</th>\n",
       "      <td>33.000000</td>\n",
       "      <td>-2.044234</td>\n",
       "      <td>-0.754022</td>\n",
       "      <td>0.807121</td>\n",
       "      <td>0.238263</td>\n",
       "      <td>42</td>\n",
       "      <td>1</td>\n",
       "      <td>NaN</td>\n",
       "    </tr>\n",
       "    <tr>\n",
       "      <th>2018-05-23</th>\n",
       "      <td>-0.019301</td>\n",
       "      <td>0.631000</td>\n",
       "      <td>-1.311873</td>\n",
       "      <td>0.650926</td>\n",
       "      <td>-0.564461</td>\n",
       "      <td>42</td>\n",
       "      <td>8</td>\n",
       "      <td>NaN</td>\n",
       "    </tr>\n",
       "    <tr>\n",
       "      <th>2018-05-24</th>\n",
       "      <td>-0.985660</td>\n",
       "      <td>-0.808382</td>\n",
       "      <td>-0.007423</td>\n",
       "      <td>0.481543</td>\n",
       "      <td>-0.223927</td>\n",
       "      <td>42</td>\n",
       "      <td>27</td>\n",
       "      <td>NaN</td>\n",
       "    </tr>\n",
       "    <tr>\n",
       "      <th>2018-05-25</th>\n",
       "      <td>0.370605</td>\n",
       "      <td>-0.513072</td>\n",
       "      <td>0.726219</td>\n",
       "      <td>0.402066</td>\n",
       "      <td>42.000000</td>\n",
       "      <td>42</td>\n",
       "      <td>64</td>\n",
       "      <td>NaN</td>\n",
       "    </tr>\n",
       "    <tr>\n",
       "      <th>2018-05-26</th>\n",
       "      <td>-0.907068</td>\n",
       "      <td>1.055247</td>\n",
       "      <td>1.044955</td>\n",
       "      <td>-1.493684</td>\n",
       "      <td>0.435338</td>\n",
       "      <td>42</td>\n",
       "      <td>125</td>\n",
       "      <td>NaN</td>\n",
       "    </tr>\n",
       "    <tr>\n",
       "      <th>2018-05-27</th>\n",
       "      <td>0.501680</td>\n",
       "      <td>-1.584615</td>\n",
       "      <td>0.190019</td>\n",
       "      <td>-0.051159</td>\n",
       "      <td>-0.094710</td>\n",
       "      <td>42</td>\n",
       "      <td>216</td>\n",
       "      <td>NaN</td>\n",
       "    </tr>\n",
       "    <tr>\n",
       "      <th>2018-05-28</th>\n",
       "      <td>1.200590</td>\n",
       "      <td>0.377923</td>\n",
       "      <td>0.725378</td>\n",
       "      <td>2.263787</td>\n",
       "      <td>-1.231227</td>\n",
       "      <td>42</td>\n",
       "      <td>343</td>\n",
       "      <td>NaN</td>\n",
       "    </tr>\n",
       "    <tr>\n",
       "      <th>2018-05-29</th>\n",
       "      <td>-1.315397</td>\n",
       "      <td>-0.374119</td>\n",
       "      <td>-1.068247</td>\n",
       "      <td>-0.323383</td>\n",
       "      <td>0.824601</td>\n",
       "      <td>42</td>\n",
       "      <td>512</td>\n",
       "      <td>NaN</td>\n",
       "    </tr>\n",
       "    <tr>\n",
       "      <th>2018-05-30</th>\n",
       "      <td>-1.291155</td>\n",
       "      <td>-0.860900</td>\n",
       "      <td>-1.371145</td>\n",
       "      <td>-0.106230</td>\n",
       "      <td>0.191995</td>\n",
       "      <td>42</td>\n",
       "      <td>729</td>\n",
       "      <td>NaN</td>\n",
       "    </tr>\n",
       "    <tr>\n",
       "      <th>2018-05-31</th>\n",
       "      <td>0.121297</td>\n",
       "      <td>0.945801</td>\n",
       "      <td>-0.552688</td>\n",
       "      <td>-0.793649</td>\n",
       "      <td>-1.777031</td>\n",
       "      <td>42</td>\n",
       "      <td>1000</td>\n",
       "      <td>NaN</td>\n",
       "    </tr>\n",
       "    <tr>\n",
       "      <th>2018-06-01</th>\n",
       "      <td>-0.437262</td>\n",
       "      <td>0.398400</td>\n",
       "      <td>-1.378436</td>\n",
       "      <td>0.887732</td>\n",
       "      <td>-0.924418</td>\n",
       "      <td>42</td>\n",
       "      <td>1331</td>\n",
       "      <td>NaN</td>\n",
       "    </tr>\n",
       "    <tr>\n",
       "      <th>2018-06-02</th>\n",
       "      <td>0.337919</td>\n",
       "      <td>-1.296314</td>\n",
       "      <td>1.810035</td>\n",
       "      <td>-0.700819</td>\n",
       "      <td>0.402370</td>\n",
       "      <td>42</td>\n",
       "      <td>1728</td>\n",
       "      <td>NaN</td>\n",
       "    </tr>\n",
       "    <tr>\n",
       "      <th>2018-06-03</th>\n",
       "      <td>0.033404</td>\n",
       "      <td>0.745515</td>\n",
       "      <td>0.747330</td>\n",
       "      <td>1.832234</td>\n",
       "      <td>0.994273</td>\n",
       "      <td>42</td>\n",
       "      <td>2197</td>\n",
       "      <td>NaN</td>\n",
       "    </tr>\n",
       "    <tr>\n",
       "      <th>2018-06-04</th>\n",
       "      <td>-1.542179</td>\n",
       "      <td>-0.351402</td>\n",
       "      <td>0.684558</td>\n",
       "      <td>0.328971</td>\n",
       "      <td>0.909095</td>\n",
       "      <td>42</td>\n",
       "      <td>2744</td>\n",
       "      <td>NaN</td>\n",
       "    </tr>\n",
       "  </tbody>\n",
       "</table>\n",
       "</div>"
      ],
      "text/plain": [
       "                    A         B         C         D          E   F     G   H\n",
       "2018-05-21   2.411367  1.001082 -0.928356  1.333074  -0.371876  42     0 NaN\n",
       "2018-05-22  33.000000 -2.044234 -0.754022  0.807121   0.238263  42     1 NaN\n",
       "2018-05-23  -0.019301  0.631000 -1.311873  0.650926  -0.564461  42     8 NaN\n",
       "2018-05-24  -0.985660 -0.808382 -0.007423  0.481543  -0.223927  42    27 NaN\n",
       "2018-05-25   0.370605 -0.513072  0.726219  0.402066  42.000000  42    64 NaN\n",
       "2018-05-26  -0.907068  1.055247  1.044955 -1.493684   0.435338  42   125 NaN\n",
       "2018-05-27   0.501680 -1.584615  0.190019 -0.051159  -0.094710  42   216 NaN\n",
       "2018-05-28   1.200590  0.377923  0.725378  2.263787  -1.231227  42   343 NaN\n",
       "2018-05-29  -1.315397 -0.374119 -1.068247 -0.323383   0.824601  42   512 NaN\n",
       "2018-05-30  -1.291155 -0.860900 -1.371145 -0.106230   0.191995  42   729 NaN\n",
       "2018-05-31   0.121297  0.945801 -0.552688 -0.793649  -1.777031  42  1000 NaN\n",
       "2018-06-01  -0.437262  0.398400 -1.378436  0.887732  -0.924418  42  1331 NaN\n",
       "2018-06-02   0.337919 -1.296314  1.810035 -0.700819   0.402370  42  1728 NaN\n",
       "2018-06-03   0.033404  0.745515  0.747330  1.832234   0.994273  42  2197 NaN\n",
       "2018-06-04  -1.542179 -0.351402  0.684558  0.328971   0.909095  42  2744 NaN"
      ]
     },
     "execution_count": 303,
     "metadata": {},
     "output_type": "execute_result"
    }
   ],
   "source": [
    "df['H'] = s1\n",
    "df"
   ]
  },
  {
   "cell_type": "code",
   "execution_count": 304,
   "metadata": {},
   "outputs": [
    {
     "data": {
      "text/html": [
       "<div>\n",
       "<style scoped>\n",
       "    .dataframe tbody tr th:only-of-type {\n",
       "        vertical-align: middle;\n",
       "    }\n",
       "\n",
       "    .dataframe tbody tr th {\n",
       "        vertical-align: top;\n",
       "    }\n",
       "\n",
       "    .dataframe thead th {\n",
       "        text-align: right;\n",
       "    }\n",
       "</style>\n",
       "<table border=\"1\" class=\"dataframe\">\n",
       "  <thead>\n",
       "    <tr style=\"text-align: right;\">\n",
       "      <th></th>\n",
       "      <th>A</th>\n",
       "      <th>B</th>\n",
       "      <th>C</th>\n",
       "      <th>D</th>\n",
       "      <th>E</th>\n",
       "      <th>F</th>\n",
       "      <th>G</th>\n",
       "      <th>H</th>\n",
       "    </tr>\n",
       "  </thead>\n",
       "  <tbody>\n",
       "    <tr>\n",
       "      <th>2018-05-21</th>\n",
       "      <td>2.411367</td>\n",
       "      <td>1.001082</td>\n",
       "      <td>-0.928356</td>\n",
       "      <td>1.333074</td>\n",
       "      <td>-0.371876</td>\n",
       "      <td>42</td>\n",
       "      <td>0</td>\n",
       "      <td>3.14</td>\n",
       "    </tr>\n",
       "    <tr>\n",
       "      <th>2018-05-22</th>\n",
       "      <td>33.000000</td>\n",
       "      <td>-2.044234</td>\n",
       "      <td>-0.754022</td>\n",
       "      <td>0.807121</td>\n",
       "      <td>0.238263</td>\n",
       "      <td>42</td>\n",
       "      <td>1</td>\n",
       "      <td>3.14</td>\n",
       "    </tr>\n",
       "    <tr>\n",
       "      <th>2018-05-23</th>\n",
       "      <td>-0.019301</td>\n",
       "      <td>0.631000</td>\n",
       "      <td>-1.311873</td>\n",
       "      <td>0.650926</td>\n",
       "      <td>-0.564461</td>\n",
       "      <td>42</td>\n",
       "      <td>8</td>\n",
       "      <td>3.14</td>\n",
       "    </tr>\n",
       "    <tr>\n",
       "      <th>2018-05-24</th>\n",
       "      <td>-0.985660</td>\n",
       "      <td>-0.808382</td>\n",
       "      <td>-0.007423</td>\n",
       "      <td>0.481543</td>\n",
       "      <td>-0.223927</td>\n",
       "      <td>42</td>\n",
       "      <td>27</td>\n",
       "      <td>3.14</td>\n",
       "    </tr>\n",
       "    <tr>\n",
       "      <th>2018-05-25</th>\n",
       "      <td>0.370605</td>\n",
       "      <td>-0.513072</td>\n",
       "      <td>0.726219</td>\n",
       "      <td>0.402066</td>\n",
       "      <td>42.000000</td>\n",
       "      <td>42</td>\n",
       "      <td>64</td>\n",
       "      <td>3.14</td>\n",
       "    </tr>\n",
       "    <tr>\n",
       "      <th>2018-05-26</th>\n",
       "      <td>-0.907068</td>\n",
       "      <td>1.055247</td>\n",
       "      <td>1.044955</td>\n",
       "      <td>-1.493684</td>\n",
       "      <td>0.435338</td>\n",
       "      <td>42</td>\n",
       "      <td>125</td>\n",
       "      <td>3.14</td>\n",
       "    </tr>\n",
       "    <tr>\n",
       "      <th>2018-05-27</th>\n",
       "      <td>0.501680</td>\n",
       "      <td>-1.584615</td>\n",
       "      <td>0.190019</td>\n",
       "      <td>-0.051159</td>\n",
       "      <td>-0.094710</td>\n",
       "      <td>42</td>\n",
       "      <td>216</td>\n",
       "      <td>3.14</td>\n",
       "    </tr>\n",
       "    <tr>\n",
       "      <th>2018-05-28</th>\n",
       "      <td>1.200590</td>\n",
       "      <td>0.377923</td>\n",
       "      <td>0.725378</td>\n",
       "      <td>2.263787</td>\n",
       "      <td>-1.231227</td>\n",
       "      <td>42</td>\n",
       "      <td>343</td>\n",
       "      <td>3.14</td>\n",
       "    </tr>\n",
       "    <tr>\n",
       "      <th>2018-05-29</th>\n",
       "      <td>-1.315397</td>\n",
       "      <td>-0.374119</td>\n",
       "      <td>-1.068247</td>\n",
       "      <td>-0.323383</td>\n",
       "      <td>0.824601</td>\n",
       "      <td>42</td>\n",
       "      <td>512</td>\n",
       "      <td>3.14</td>\n",
       "    </tr>\n",
       "    <tr>\n",
       "      <th>2018-05-30</th>\n",
       "      <td>-1.291155</td>\n",
       "      <td>-0.860900</td>\n",
       "      <td>-1.371145</td>\n",
       "      <td>-0.106230</td>\n",
       "      <td>0.191995</td>\n",
       "      <td>42</td>\n",
       "      <td>729</td>\n",
       "      <td>3.14</td>\n",
       "    </tr>\n",
       "    <tr>\n",
       "      <th>2018-05-31</th>\n",
       "      <td>0.121297</td>\n",
       "      <td>0.945801</td>\n",
       "      <td>-0.552688</td>\n",
       "      <td>-0.793649</td>\n",
       "      <td>-1.777031</td>\n",
       "      <td>42</td>\n",
       "      <td>1000</td>\n",
       "      <td>3.14</td>\n",
       "    </tr>\n",
       "    <tr>\n",
       "      <th>2018-06-01</th>\n",
       "      <td>-0.437262</td>\n",
       "      <td>0.398400</td>\n",
       "      <td>-1.378436</td>\n",
       "      <td>0.887732</td>\n",
       "      <td>-0.924418</td>\n",
       "      <td>42</td>\n",
       "      <td>1331</td>\n",
       "      <td>3.14</td>\n",
       "    </tr>\n",
       "    <tr>\n",
       "      <th>2018-06-02</th>\n",
       "      <td>0.337919</td>\n",
       "      <td>-1.296314</td>\n",
       "      <td>1.810035</td>\n",
       "      <td>-0.700819</td>\n",
       "      <td>0.402370</td>\n",
       "      <td>42</td>\n",
       "      <td>1728</td>\n",
       "      <td>3.14</td>\n",
       "    </tr>\n",
       "    <tr>\n",
       "      <th>2018-06-03</th>\n",
       "      <td>0.033404</td>\n",
       "      <td>0.745515</td>\n",
       "      <td>0.747330</td>\n",
       "      <td>1.832234</td>\n",
       "      <td>0.994273</td>\n",
       "      <td>42</td>\n",
       "      <td>2197</td>\n",
       "      <td>3.14</td>\n",
       "    </tr>\n",
       "    <tr>\n",
       "      <th>2018-06-04</th>\n",
       "      <td>-1.542179</td>\n",
       "      <td>-0.351402</td>\n",
       "      <td>0.684558</td>\n",
       "      <td>0.328971</td>\n",
       "      <td>0.909095</td>\n",
       "      <td>42</td>\n",
       "      <td>2744</td>\n",
       "      <td>3.14</td>\n",
       "    </tr>\n",
       "  </tbody>\n",
       "</table>\n",
       "</div>"
      ],
      "text/plain": [
       "                    A         B         C         D          E   F     G     H\n",
       "2018-05-21   2.411367  1.001082 -0.928356  1.333074  -0.371876  42     0  3.14\n",
       "2018-05-22  33.000000 -2.044234 -0.754022  0.807121   0.238263  42     1  3.14\n",
       "2018-05-23  -0.019301  0.631000 -1.311873  0.650926  -0.564461  42     8  3.14\n",
       "2018-05-24  -0.985660 -0.808382 -0.007423  0.481543  -0.223927  42    27  3.14\n",
       "2018-05-25   0.370605 -0.513072  0.726219  0.402066  42.000000  42    64  3.14\n",
       "2018-05-26  -0.907068  1.055247  1.044955 -1.493684   0.435338  42   125  3.14\n",
       "2018-05-27   0.501680 -1.584615  0.190019 -0.051159  -0.094710  42   216  3.14\n",
       "2018-05-28   1.200590  0.377923  0.725378  2.263787  -1.231227  42   343  3.14\n",
       "2018-05-29  -1.315397 -0.374119 -1.068247 -0.323383   0.824601  42   512  3.14\n",
       "2018-05-30  -1.291155 -0.860900 -1.371145 -0.106230   0.191995  42   729  3.14\n",
       "2018-05-31   0.121297  0.945801 -0.552688 -0.793649  -1.777031  42  1000  3.14\n",
       "2018-06-01  -0.437262  0.398400 -1.378436  0.887732  -0.924418  42  1331  3.14\n",
       "2018-06-02   0.337919 -1.296314  1.810035 -0.700819   0.402370  42  1728  3.14\n",
       "2018-06-03   0.033404  0.745515  0.747330  1.832234   0.994273  42  2197  3.14\n",
       "2018-06-04  -1.542179 -0.351402  0.684558  0.328971   0.909095  42  2744  3.14"
      ]
     },
     "execution_count": 304,
     "metadata": {},
     "output_type": "execute_result"
    }
   ],
   "source": [
    "df.fillna(value=3.14)"
   ]
  },
  {
   "cell_type": "code",
   "execution_count": 305,
   "metadata": {},
   "outputs": [],
   "source": [
    "# there is also df.dropna() to drop any ROWS! with missing data"
   ]
  },
  {
   "cell_type": "markdown",
   "metadata": {},
   "source": [
    "## Operations"
   ]
  },
  {
   "cell_type": "markdown",
   "metadata": {},
   "source": [
    "DataFrame methods and properties:\n",
    "* https://pandas.pydata.org/pandas-docs/stable/reference/api/pandas.DataFrame.html\n",
    "        \n",
    "Series methods and properties:\n",
    "* https://pandas.pydata.org/pandas-docs/stable/reference/api/pandas.Series.html\n",
    "    \n",
    "Data Science Handbook:\n",
    "* [Data manipulation with Pandas](https://jakevdp.github.io/PythonDataScienceHandbook/index.html#3.-Data-Manipulation-with-Pandas)"
   ]
  },
  {
   "cell_type": "code",
   "execution_count": 306,
   "metadata": {},
   "outputs": [
    {
     "data": {
      "text/plain": [
       "A      2.098589\n",
       "B     -0.178538\n",
       "C     -0.096246\n",
       "D      0.367902\n",
       "E      2.720552\n",
       "F     42.000000\n",
       "G    735.000000\n",
       "H           NaN\n",
       "dtype: float64"
      ]
     },
     "execution_count": 306,
     "metadata": {},
     "output_type": "execute_result"
    }
   ],
   "source": [
    "df.mean()"
   ]
  },
  {
   "cell_type": "code",
   "execution_count": 307,
   "metadata": {},
   "outputs": [
    {
     "data": {
      "text/plain": [
       "A      33.000000\n",
       "B       1.055247\n",
       "C       1.810035\n",
       "D       2.263787\n",
       "E      42.000000\n",
       "F      42.000000\n",
       "G    2744.000000\n",
       "H            NaN\n",
       "dtype: float64"
      ]
     },
     "execution_count": 307,
     "metadata": {},
     "output_type": "execute_result"
    }
   ],
   "source": [
    "df.max()"
   ]
  },
  {
   "cell_type": "code",
   "execution_count": 308,
   "metadata": {},
   "outputs": [],
   "source": [
    "# Other axis"
   ]
  },
  {
   "cell_type": "code",
   "execution_count": 309,
   "metadata": {},
   "outputs": [
    {
     "data": {
      "text/plain": [
       "2018-05-21      6.492184\n",
       "2018-05-22     10.606733\n",
       "2018-05-23      7.055185\n",
       "2018-05-24      9.636593\n",
       "2018-05-25     21.283688\n",
       "2018-05-26     23.876398\n",
       "2018-05-27     36.708745\n",
       "2018-05-28     55.476636\n",
       "2018-05-29     78.820494\n",
       "2018-05-30    109.651795\n",
       "2018-05-31    148.563390\n",
       "2018-06-01    195.935145\n",
       "2018-06-02    252.936170\n",
       "2018-06-03    320.478965\n",
       "2018-06-04    398.004149\n",
       "Freq: D, dtype: float64"
      ]
     },
     "execution_count": 309,
     "metadata": {},
     "output_type": "execute_result"
    }
   ],
   "source": [
    "df.mean(axis=1)"
   ]
  },
  {
   "cell_type": "code",
   "execution_count": 310,
   "metadata": {},
   "outputs": [],
   "source": [
    "## String operations (df.str.*)"
   ]
  },
  {
   "cell_type": "code",
   "execution_count": 311,
   "metadata": {},
   "outputs": [
    {
     "data": {
      "text/plain": [
       "0     APPle\n",
       "1    baNAna\n",
       "2       NaN\n",
       "3        42\n",
       "4     mangO\n",
       "dtype: object"
      ]
     },
     "execution_count": 311,
     "metadata": {},
     "output_type": "execute_result"
    }
   ],
   "source": [
    "str1 = pd.Series(['APPle', 'baNAna', np.NaN, 42, 'mangO'])\n",
    "str1"
   ]
  },
  {
   "cell_type": "code",
   "execution_count": 312,
   "metadata": {},
   "outputs": [
    {
     "data": {
      "text/plain": [
       "0     apple\n",
       "1    banana\n",
       "2       NaN\n",
       "3       NaN\n",
       "4     mango\n",
       "dtype: object"
      ]
     },
     "execution_count": 312,
     "metadata": {},
     "output_type": "execute_result"
    }
   ],
   "source": [
    "str1.str.lower()"
   ]
  },
  {
   "cell_type": "code",
   "execution_count": 313,
   "metadata": {},
   "outputs": [
    {
     "data": {
      "text/plain": [
       "0    5.0\n",
       "1    6.0\n",
       "2    NaN\n",
       "3    NaN\n",
       "4    5.0\n",
       "dtype: float64"
      ]
     },
     "execution_count": 313,
     "metadata": {},
     "output_type": "execute_result"
    }
   ],
   "source": [
    "str1.str.len()"
   ]
  },
  {
   "cell_type": "code",
   "execution_count": 314,
   "metadata": {},
   "outputs": [],
   "source": [
    "## Apply"
   ]
  },
  {
   "cell_type": "code",
   "execution_count": 315,
   "metadata": {},
   "outputs": [
    {
     "data": {
      "text/html": [
       "<div>\n",
       "<style scoped>\n",
       "    .dataframe tbody tr th:only-of-type {\n",
       "        vertical-align: middle;\n",
       "    }\n",
       "\n",
       "    .dataframe tbody tr th {\n",
       "        vertical-align: top;\n",
       "    }\n",
       "\n",
       "    .dataframe thead th {\n",
       "        text-align: right;\n",
       "    }\n",
       "</style>\n",
       "<table border=\"1\" class=\"dataframe\">\n",
       "  <thead>\n",
       "    <tr style=\"text-align: right;\">\n",
       "      <th></th>\n",
       "      <th>A</th>\n",
       "      <th>B</th>\n",
       "      <th>C</th>\n",
       "      <th>D</th>\n",
       "      <th>E</th>\n",
       "      <th>F</th>\n",
       "      <th>G</th>\n",
       "      <th>H</th>\n",
       "    </tr>\n",
       "  </thead>\n",
       "  <tbody>\n",
       "    <tr>\n",
       "      <th>2018-05-21</th>\n",
       "      <td>7.234102</td>\n",
       "      <td>3.003245</td>\n",
       "      <td>-2.785069</td>\n",
       "      <td>3.999222</td>\n",
       "      <td>-1.115628</td>\n",
       "      <td>126</td>\n",
       "      <td>0</td>\n",
       "      <td>NaN</td>\n",
       "    </tr>\n",
       "    <tr>\n",
       "      <th>2018-05-22</th>\n",
       "      <td>99.000000</td>\n",
       "      <td>-6.132702</td>\n",
       "      <td>-2.262067</td>\n",
       "      <td>2.421364</td>\n",
       "      <td>0.714790</td>\n",
       "      <td>126</td>\n",
       "      <td>3</td>\n",
       "      <td>NaN</td>\n",
       "    </tr>\n",
       "    <tr>\n",
       "      <th>2018-05-23</th>\n",
       "      <td>-0.057903</td>\n",
       "      <td>1.892999</td>\n",
       "      <td>-3.935618</td>\n",
       "      <td>1.952778</td>\n",
       "      <td>-1.693382</td>\n",
       "      <td>126</td>\n",
       "      <td>24</td>\n",
       "      <td>NaN</td>\n",
       "    </tr>\n",
       "    <tr>\n",
       "      <th>2018-05-24</th>\n",
       "      <td>-2.956979</td>\n",
       "      <td>-2.425146</td>\n",
       "      <td>-0.022269</td>\n",
       "      <td>1.444630</td>\n",
       "      <td>-0.671780</td>\n",
       "      <td>126</td>\n",
       "      <td>81</td>\n",
       "      <td>NaN</td>\n",
       "    </tr>\n",
       "    <tr>\n",
       "      <th>2018-05-25</th>\n",
       "      <td>1.111815</td>\n",
       "      <td>-1.539216</td>\n",
       "      <td>2.178657</td>\n",
       "      <td>1.206197</td>\n",
       "      <td>126.000000</td>\n",
       "      <td>126</td>\n",
       "      <td>192</td>\n",
       "      <td>NaN</td>\n",
       "    </tr>\n",
       "    <tr>\n",
       "      <th>2018-05-26</th>\n",
       "      <td>-2.721203</td>\n",
       "      <td>3.165742</td>\n",
       "      <td>3.134865</td>\n",
       "      <td>-4.481052</td>\n",
       "      <td>1.306014</td>\n",
       "      <td>126</td>\n",
       "      <td>375</td>\n",
       "      <td>NaN</td>\n",
       "    </tr>\n",
       "    <tr>\n",
       "      <th>2018-05-27</th>\n",
       "      <td>1.505041</td>\n",
       "      <td>-4.753846</td>\n",
       "      <td>0.570057</td>\n",
       "      <td>-0.153476</td>\n",
       "      <td>-0.284131</td>\n",
       "      <td>126</td>\n",
       "      <td>648</td>\n",
       "      <td>NaN</td>\n",
       "    </tr>\n",
       "    <tr>\n",
       "      <th>2018-05-28</th>\n",
       "      <td>3.601769</td>\n",
       "      <td>1.133768</td>\n",
       "      <td>2.176133</td>\n",
       "      <td>6.791362</td>\n",
       "      <td>-3.693681</td>\n",
       "      <td>126</td>\n",
       "      <td>1029</td>\n",
       "      <td>NaN</td>\n",
       "    </tr>\n",
       "    <tr>\n",
       "      <th>2018-05-29</th>\n",
       "      <td>-3.946190</td>\n",
       "      <td>-1.122356</td>\n",
       "      <td>-3.204740</td>\n",
       "      <td>-0.970150</td>\n",
       "      <td>2.473803</td>\n",
       "      <td>126</td>\n",
       "      <td>1536</td>\n",
       "      <td>NaN</td>\n",
       "    </tr>\n",
       "    <tr>\n",
       "      <th>2018-05-30</th>\n",
       "      <td>-3.873465</td>\n",
       "      <td>-2.582699</td>\n",
       "      <td>-4.113434</td>\n",
       "      <td>-0.318689</td>\n",
       "      <td>0.575986</td>\n",
       "      <td>126</td>\n",
       "      <td>2187</td>\n",
       "      <td>NaN</td>\n",
       "    </tr>\n",
       "    <tr>\n",
       "      <th>2018-05-31</th>\n",
       "      <td>0.363891</td>\n",
       "      <td>2.837403</td>\n",
       "      <td>-1.658063</td>\n",
       "      <td>-2.380946</td>\n",
       "      <td>-5.331094</td>\n",
       "      <td>126</td>\n",
       "      <td>3000</td>\n",
       "      <td>NaN</td>\n",
       "    </tr>\n",
       "    <tr>\n",
       "      <th>2018-06-01</th>\n",
       "      <td>-1.311787</td>\n",
       "      <td>1.195199</td>\n",
       "      <td>-4.135307</td>\n",
       "      <td>2.663196</td>\n",
       "      <td>-2.773253</td>\n",
       "      <td>126</td>\n",
       "      <td>3993</td>\n",
       "      <td>NaN</td>\n",
       "    </tr>\n",
       "    <tr>\n",
       "      <th>2018-06-02</th>\n",
       "      <td>1.013756</td>\n",
       "      <td>-3.888941</td>\n",
       "      <td>5.430105</td>\n",
       "      <td>-2.102456</td>\n",
       "      <td>1.207110</td>\n",
       "      <td>126</td>\n",
       "      <td>5184</td>\n",
       "      <td>NaN</td>\n",
       "    </tr>\n",
       "    <tr>\n",
       "      <th>2018-06-03</th>\n",
       "      <td>0.100211</td>\n",
       "      <td>2.236545</td>\n",
       "      <td>2.241989</td>\n",
       "      <td>5.496701</td>\n",
       "      <td>2.982819</td>\n",
       "      <td>126</td>\n",
       "      <td>6591</td>\n",
       "      <td>NaN</td>\n",
       "    </tr>\n",
       "    <tr>\n",
       "      <th>2018-06-04</th>\n",
       "      <td>-4.626536</td>\n",
       "      <td>-1.054205</td>\n",
       "      <td>2.053673</td>\n",
       "      <td>0.986912</td>\n",
       "      <td>2.727286</td>\n",
       "      <td>126</td>\n",
       "      <td>8232</td>\n",
       "      <td>NaN</td>\n",
       "    </tr>\n",
       "  </tbody>\n",
       "</table>\n",
       "</div>"
      ],
      "text/plain": [
       "                    A         B         C         D           E    F     G   H\n",
       "2018-05-21   7.234102  3.003245 -2.785069  3.999222   -1.115628  126     0 NaN\n",
       "2018-05-22  99.000000 -6.132702 -2.262067  2.421364    0.714790  126     3 NaN\n",
       "2018-05-23  -0.057903  1.892999 -3.935618  1.952778   -1.693382  126    24 NaN\n",
       "2018-05-24  -2.956979 -2.425146 -0.022269  1.444630   -0.671780  126    81 NaN\n",
       "2018-05-25   1.111815 -1.539216  2.178657  1.206197  126.000000  126   192 NaN\n",
       "2018-05-26  -2.721203  3.165742  3.134865 -4.481052    1.306014  126   375 NaN\n",
       "2018-05-27   1.505041 -4.753846  0.570057 -0.153476   -0.284131  126   648 NaN\n",
       "2018-05-28   3.601769  1.133768  2.176133  6.791362   -3.693681  126  1029 NaN\n",
       "2018-05-29  -3.946190 -1.122356 -3.204740 -0.970150    2.473803  126  1536 NaN\n",
       "2018-05-30  -3.873465 -2.582699 -4.113434 -0.318689    0.575986  126  2187 NaN\n",
       "2018-05-31   0.363891  2.837403 -1.658063 -2.380946   -5.331094  126  3000 NaN\n",
       "2018-06-01  -1.311787  1.195199 -4.135307  2.663196   -2.773253  126  3993 NaN\n",
       "2018-06-02   1.013756 -3.888941  5.430105 -2.102456    1.207110  126  5184 NaN\n",
       "2018-06-03   0.100211  2.236545  2.241989  5.496701    2.982819  126  6591 NaN\n",
       "2018-06-04  -4.626536 -1.054205  2.053673  0.986912    2.727286  126  8232 NaN"
      ]
     },
     "execution_count": 315,
     "metadata": {},
     "output_type": "execute_result"
    }
   ],
   "source": [
    "df.apply(lambda x: x*3) # ie same as df*3"
   ]
  },
  {
   "cell_type": "code",
   "execution_count": 316,
   "metadata": {},
   "outputs": [
    {
     "data": {
      "text/html": [
       "<div>\n",
       "<style scoped>\n",
       "    .dataframe tbody tr th:only-of-type {\n",
       "        vertical-align: middle;\n",
       "    }\n",
       "\n",
       "    .dataframe tbody tr th {\n",
       "        vertical-align: top;\n",
       "    }\n",
       "\n",
       "    .dataframe thead th {\n",
       "        text-align: right;\n",
       "    }\n",
       "</style>\n",
       "<table border=\"1\" class=\"dataframe\">\n",
       "  <thead>\n",
       "    <tr style=\"text-align: right;\">\n",
       "      <th></th>\n",
       "      <th>key</th>\n",
       "      <th>data</th>\n",
       "    </tr>\n",
       "  </thead>\n",
       "  <tbody>\n",
       "    <tr>\n",
       "      <th>0</th>\n",
       "      <td>A</td>\n",
       "      <td>0</td>\n",
       "    </tr>\n",
       "    <tr>\n",
       "      <th>1</th>\n",
       "      <td>B</td>\n",
       "      <td>1</td>\n",
       "    </tr>\n",
       "    <tr>\n",
       "      <th>2</th>\n",
       "      <td>C</td>\n",
       "      <td>2</td>\n",
       "    </tr>\n",
       "    <tr>\n",
       "      <th>3</th>\n",
       "      <td>A</td>\n",
       "      <td>3</td>\n",
       "    </tr>\n",
       "    <tr>\n",
       "      <th>4</th>\n",
       "      <td>B</td>\n",
       "      <td>4</td>\n",
       "    </tr>\n",
       "    <tr>\n",
       "      <th>5</th>\n",
       "      <td>C</td>\n",
       "      <td>5</td>\n",
       "    </tr>\n",
       "  </tbody>\n",
       "</table>\n",
       "</div>"
      ],
      "text/plain": [
       "  key  data\n",
       "0   A     0\n",
       "1   B     1\n",
       "2   C     2\n",
       "3   A     3\n",
       "4   B     4\n",
       "5   C     5"
      ]
     },
     "execution_count": 316,
     "metadata": {},
     "output_type": "execute_result"
    }
   ],
   "source": [
    "df = pd.DataFrame({'key': ['A', 'B', 'C', 'A', 'B', 'C'], 'data': range(6)}, columns=['key', 'data'])\n",
    "df"
   ]
  },
  {
   "cell_type": "code",
   "execution_count": 317,
   "metadata": {},
   "outputs": [
    {
     "data": {
      "text/plain": [
       "<pandas.core.groupby.generic.DataFrameGroupBy object at 0x119ae7690>"
      ]
     },
     "execution_count": 317,
     "metadata": {},
     "output_type": "execute_result"
    }
   ],
   "source": [
    "df.groupby('key')"
   ]
  },
  {
   "cell_type": "code",
   "execution_count": 318,
   "metadata": {},
   "outputs": [
    {
     "data": {
      "text/html": [
       "<div>\n",
       "<style scoped>\n",
       "    .dataframe tbody tr th:only-of-type {\n",
       "        vertical-align: middle;\n",
       "    }\n",
       "\n",
       "    .dataframe tbody tr th {\n",
       "        vertical-align: top;\n",
       "    }\n",
       "\n",
       "    .dataframe thead th {\n",
       "        text-align: right;\n",
       "    }\n",
       "</style>\n",
       "<table border=\"1\" class=\"dataframe\">\n",
       "  <thead>\n",
       "    <tr style=\"text-align: right;\">\n",
       "      <th></th>\n",
       "      <th>data</th>\n",
       "    </tr>\n",
       "    <tr>\n",
       "      <th>key</th>\n",
       "      <th></th>\n",
       "    </tr>\n",
       "  </thead>\n",
       "  <tbody>\n",
       "    <tr>\n",
       "      <th>A</th>\n",
       "      <td>3</td>\n",
       "    </tr>\n",
       "    <tr>\n",
       "      <th>B</th>\n",
       "      <td>5</td>\n",
       "    </tr>\n",
       "    <tr>\n",
       "      <th>C</th>\n",
       "      <td>7</td>\n",
       "    </tr>\n",
       "  </tbody>\n",
       "</table>\n",
       "</div>"
      ],
      "text/plain": [
       "     data\n",
       "key      \n",
       "A       3\n",
       "B       5\n",
       "C       7"
      ]
     },
     "execution_count": 318,
     "metadata": {},
     "output_type": "execute_result"
    }
   ],
   "source": [
    "df.groupby('key').sum()"
   ]
  },
  {
   "cell_type": "code",
   "execution_count": null,
   "metadata": {},
   "outputs": [],
   "source": []
  },
  {
   "cell_type": "markdown",
   "metadata": {},
   "source": [
    "### Time series"
   ]
  },
  {
   "cell_type": "code",
   "execution_count": 319,
   "metadata": {},
   "outputs": [],
   "source": [
    "ts = pd.Series(np.random.randn(3650), index=pd.date_range('11/18/2008', periods=3650))"
   ]
  },
  {
   "cell_type": "code",
   "execution_count": 320,
   "metadata": {},
   "outputs": [],
   "source": [
    "ts = ts.cumsum() # cumulative sum"
   ]
  },
  {
   "cell_type": "code",
   "execution_count": 321,
   "metadata": {},
   "outputs": [
    {
     "data": {
      "text/plain": [
       "<matplotlib.axes._subplots.AxesSubplot at 0x119b04610>"
      ]
     },
     "execution_count": 321,
     "metadata": {},
     "output_type": "execute_result"
    },
    {
     "data": {
      "image/png": "[encoded data removed]",
      "text/plain": [
       "<Figure size 432x288 with 1 Axes>"
      ]
     },
     "metadata": {
      "needs_background": "light"
     },
     "output_type": "display_data"
    }
   ],
   "source": [
    "ts.plot()"
   ]
  },
  {
   "cell_type": "code",
   "execution_count": 322,
   "metadata": {},
   "outputs": [],
   "source": [
    "ts[\"2014-01-01\":\"2016-01-01\"] = np.NaN"
   ]
  },
  {
   "cell_type": "code",
   "execution_count": 323,
   "metadata": {},
   "outputs": [
    {
     "data": {
      "text/plain": [
       "<matplotlib.axes._subplots.AxesSubplot at 0x119c7f450>"
      ]
     },
     "execution_count": 323,
     "metadata": {},
     "output_type": "execute_result"
    },
    {
     "data": {
      "image/png": "[encoded data removed]",
      "text/plain": [
       "<Figure size 432x288 with 1 Axes>"
      ]
     },
     "metadata": {
      "needs_background": "light"
     },
     "output_type": "display_data"
    }
   ],
   "source": [
    "ts.plot()"
   ]
  },
  {
   "cell_type": "code",
   "execution_count": 338,
   "metadata": {},
   "outputs": [
    {
     "data": {
      "text/plain": [
       "2008-11-18          NaN\n",
       "2008-11-19          NaN\n",
       "2008-11-20          NaN\n",
       "2008-11-21          NaN\n",
       "2008-11-22          NaN\n",
       "                ...    \n",
       "2018-11-11    34.261148\n",
       "2018-11-12    34.260154\n",
       "2018-11-13    34.261628\n",
       "2018-11-14    34.271838\n",
       "2018-11-15    34.284733\n",
       "Freq: D, Length: 3650, dtype: float64"
      ]
     },
     "execution_count": 338,
     "metadata": {},
     "output_type": "execute_result"
    }
   ],
   "source": [
    "rolling_avg = ts.rolling(window=90).mean()\n",
    "rolling_avg"
   ]
  },
  {
   "cell_type": "code",
   "execution_count": 339,
   "metadata": {},
   "outputs": [
    {
     "data": {
      "text/plain": [
       "<matplotlib.axes._subplots.AxesSubplot at 0x11b22be50>"
      ]
     },
     "execution_count": 339,
     "metadata": {},
     "output_type": "execute_result"
    },
    {
     "data": {
      "image/png": "[encoded data removed]",
      "text/plain": [
       "<Figure size 432x288 with 1 Axes>"
      ]
     },
     "metadata": {
      "needs_background": "light"
     },
     "output_type": "display_data"
    }
   ],
   "source": [
    "rolling_avg.plot()"
   ]
  },
  {
   "cell_type": "markdown",
   "metadata": {},
   "source": [
    "## File operations"
   ]
  },
  {
   "cell_type": "code",
   "execution_count": 324,
   "metadata": {},
   "outputs": [],
   "source": [
    "# CSV\n",
    "# Writing to a csv file."
   ]
  },
  {
   "cell_type": "code",
   "execution_count": 325,
   "metadata": {},
   "outputs": [],
   "source": [
    "df.to_csv(\"testing.csv\")"
   ]
  },
  {
   "cell_type": "code",
   "execution_count": 326,
   "metadata": {},
   "outputs": [],
   "source": [
    "# Reading from csv\n"
   ]
  },
  {
   "cell_type": "code",
   "execution_count": 359,
   "metadata": {},
   "outputs": [
    {
     "data": {
      "text/html": [
       "<div>\n",
       "<style scoped>\n",
       "    .dataframe tbody tr th:only-of-type {\n",
       "        vertical-align: middle;\n",
       "    }\n",
       "\n",
       "    .dataframe tbody tr th {\n",
       "        vertical-align: top;\n",
       "    }\n",
       "\n",
       "    .dataframe thead th {\n",
       "        text-align: right;\n",
       "    }\n",
       "</style>\n",
       "<table border=\"1\" class=\"dataframe\">\n",
       "  <thead>\n",
       "    <tr style=\"text-align: right;\">\n",
       "      <th></th>\n",
       "      <th>key</th>\n",
       "      <th>data</th>\n",
       "    </tr>\n",
       "  </thead>\n",
       "  <tbody>\n",
       "    <tr>\n",
       "      <th>0</th>\n",
       "      <td>A</td>\n",
       "      <td>0</td>\n",
       "    </tr>\n",
       "    <tr>\n",
       "      <th>1</th>\n",
       "      <td>B</td>\n",
       "      <td>1</td>\n",
       "    </tr>\n",
       "    <tr>\n",
       "      <th>2</th>\n",
       "      <td>C</td>\n",
       "      <td>2</td>\n",
       "    </tr>\n",
       "    <tr>\n",
       "      <th>3</th>\n",
       "      <td>A</td>\n",
       "      <td>3</td>\n",
       "    </tr>\n",
       "    <tr>\n",
       "      <th>4</th>\n",
       "      <td>B</td>\n",
       "      <td>4</td>\n",
       "    </tr>\n",
       "  </tbody>\n",
       "</table>\n",
       "</div>"
      ],
      "text/plain": [
       "  key  data\n",
       "0   A     0\n",
       "1   B     1\n",
       "2   C     2\n",
       "3   A     3\n",
       "4   B     4"
      ]
     },
     "execution_count": 359,
     "metadata": {},
     "output_type": "execute_result"
    }
   ],
   "source": [
    "new_df = pd.read_csv(\"testing.csv\", index_col=0)\n",
    "new_df.head()"
   ]
  },
  {
   "cell_type": "code",
   "execution_count": 328,
   "metadata": {},
   "outputs": [],
   "source": [
    "# Excel"
   ]
  },
  {
   "cell_type": "code",
   "execution_count": 329,
   "metadata": {},
   "outputs": [],
   "source": [
    "df.to_excel('myx.xlsx', sheet_name='Sheet1')\n"
   ]
  },
  {
   "cell_type": "code",
   "execution_count": 330,
   "metadata": {},
   "outputs": [],
   "source": [
    "df6=pd.read_excel('myx.xlsx', 'Sheet1', index_col=None, na_values=['NA'])"
   ]
  },
  {
   "cell_type": "code",
   "execution_count": 331,
   "metadata": {},
   "outputs": [
    {
     "data": {
      "text/html": [
       "<div>\n",
       "<style scoped>\n",
       "    .dataframe tbody tr th:only-of-type {\n",
       "        vertical-align: middle;\n",
       "    }\n",
       "\n",
       "    .dataframe tbody tr th {\n",
       "        vertical-align: top;\n",
       "    }\n",
       "\n",
       "    .dataframe thead th {\n",
       "        text-align: right;\n",
       "    }\n",
       "</style>\n",
       "<table border=\"1\" class=\"dataframe\">\n",
       "  <thead>\n",
       "    <tr style=\"text-align: right;\">\n",
       "      <th></th>\n",
       "      <th>Unnamed: 0</th>\n",
       "      <th>key</th>\n",
       "      <th>data</th>\n",
       "    </tr>\n",
       "  </thead>\n",
       "  <tbody>\n",
       "    <tr>\n",
       "      <th>0</th>\n",
       "      <td>0</td>\n",
       "      <td>A</td>\n",
       "      <td>0</td>\n",
       "    </tr>\n",
       "    <tr>\n",
       "      <th>1</th>\n",
       "      <td>1</td>\n",
       "      <td>B</td>\n",
       "      <td>1</td>\n",
       "    </tr>\n",
       "    <tr>\n",
       "      <th>2</th>\n",
       "      <td>2</td>\n",
       "      <td>C</td>\n",
       "      <td>2</td>\n",
       "    </tr>\n",
       "    <tr>\n",
       "      <th>3</th>\n",
       "      <td>3</td>\n",
       "      <td>A</td>\n",
       "      <td>3</td>\n",
       "    </tr>\n",
       "    <tr>\n",
       "      <th>4</th>\n",
       "      <td>4</td>\n",
       "      <td>B</td>\n",
       "      <td>4</td>\n",
       "    </tr>\n",
       "  </tbody>\n",
       "</table>\n",
       "</div>"
      ],
      "text/plain": [
       "   Unnamed: 0 key  data\n",
       "0           0   A     0\n",
       "1           1   B     1\n",
       "2           2   C     2\n",
       "3           3   A     3\n",
       "4           4   B     4"
      ]
     },
     "execution_count": 331,
     "metadata": {},
     "output_type": "execute_result"
    }
   ],
   "source": [
    "df6.head()"
   ]
  },
  {
   "cell_type": "code",
   "execution_count": null,
   "metadata": {},
   "outputs": [],
   "source": []
  },
  {
   "cell_type": "code",
   "execution_count": 332,
   "metadata": {},
   "outputs": [],
   "source": [
    "# basic DataFrame information:"
   ]
  },
  {
   "cell_type": "code",
   "execution_count": 333,
   "metadata": {},
   "outputs": [
    {
     "name": "stdout",
     "output_type": "stream",
     "text": [
      "<class 'pandas.core.frame.DataFrame'>\n",
      "RangeIndex: 6 entries, 0 to 5\n",
      "Data columns (total 2 columns):\n",
      "key     6 non-null object\n",
      "data    6 non-null int64\n",
      "dtypes: int64(1), object(1)\n",
      "memory usage: 224.0+ bytes\n"
     ]
    }
   ],
   "source": [
    "df.info()"
   ]
  },
  {
   "cell_type": "code",
   "execution_count": 334,
   "metadata": {},
   "outputs": [
    {
     "name": "stdout",
     "output_type": "stream",
     "text": [
      "<class 'pandas.core.frame.DataFrame'>\n",
      "RangeIndex: 6 entries, 0 to 5\n",
      "Data columns (total 2 columns):\n",
      "key     6 non-null object\n",
      "data    6 non-null int64\n",
      "dtypes: int64(1), object(1)\n",
      "memory usage: 572.0 bytes\n"
     ]
    }
   ],
   "source": [
    "df.info(memory_usage=\"deep\") # more reliable info"
   ]
  }
 ],
 "metadata": {
  "kernelspec": {
   "display_name": "Python 3",
   "language": "python",
   "name": "python3"
  },
  "language_info": {
   "codemirror_mode": {
    "name": "ipython",
    "version": 3
   },
   "file_extension": ".py",
   "mimetype": "text/x-python",
   "name": "python",
   "nbconvert_exporter": "python",
   "pygments_lexer": "ipython3",
   "version": "3.7.6"
  }
 },
 "nbformat": 4,
 "nbformat_minor": 2
}
